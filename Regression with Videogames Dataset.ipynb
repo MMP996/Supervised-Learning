{
 "cells": [
  {
   "cell_type": "markdown",
   "metadata": {},
   "source": [
    "# **Regression with Videogames Dataset**"
   ]
  },
  {
   "cell_type": "markdown",
   "metadata": {},
   "source": [
    "**Chapter 2 – End-to-end Machine Learning project**\n",
    "\n",
    "*Our task is to predict the user score (0-100) of a videogame given a number of its features; this is therefore a supervised learning model. Our analysis would allow game developpers to make informed decisions as to which feature of a game they should be paying attention to; for instance is the platform or the rating very important in predicting accurately the user_score and thus, the popularity of the game?\n",
    "The performance will be measured by assessing the predictive power of our model using metrics such as the mean squared errors and/or some variants*\n",
    "\n",
    "\n",
    "\n",
    "Please note that:\n",
    "- The count of user reviews(e.g., the positive_users columns) : count of written reviews\n",
    "- The metascore: score given on the famous website metacritic.com (ranges from 0 to 100)"
   ]
  },
  {
   "cell_type": "markdown",
   "metadata": {
    "id": "SlLVgB5mwDDs"
   },
   "source": [
    "# Setup"
   ]
  },
  {
   "cell_type": "markdown",
   "metadata": {
    "id": "rbrdXN2awDDu"
   },
   "source": [
    "First, let's import a few common modules, ensure MatplotLib plots figures inline and prepare a function to save the figures. We also check that Python 3.5 or later is installed (although Python 2.x may work, it is deprecated so we strongly recommend you use Python 3 instead), as well as Scikit-Learn ≥0.20."
   ]
  },
  {
   "cell_type": "code",
   "execution_count": 1,
   "metadata": {
    "id": "u-VfyldzwDDv"
   },
   "outputs": [],
   "source": [
    "# Python ≥3.5 is required\n",
    "import sys\n",
    "assert sys.version_info >= (3, 5)\n",
    "\n",
    "# Scikit-Learn ≥0.20 is required\n",
    "import sklearn\n",
    "assert sklearn.__version__ >= \"0.20\"\n",
    "\n",
    "# Common imports\n",
    "import numpy as np\n",
    "import os\n",
    "\n",
    "# To plot pretty figures\n",
    "%matplotlib inline\n",
    "import matplotlib as mpl\n",
    "import matplotlib.pyplot as plt\n",
    "mpl.rc('axes', labelsize=14)\n",
    "mpl.rc('xtick', labelsize=12)\n",
    "mpl.rc('ytick', labelsize=12)\n",
    "\n",
    "# Where to save the figures\n",
    "PROJECT_ROOT_DIR = \".\"\n",
    "CHAPTER_ID = \"end_to_end_project\"\n",
    "IMAGES_PATH = os.path.join(PROJECT_ROOT_DIR, \"images\", CHAPTER_ID)\n",
    "os.makedirs(IMAGES_PATH, exist_ok=True)\n",
    "\n",
    "def save_fig(fig_id, tight_layout=True, fig_extension=\"png\", resolution=300):\n",
    "    path = os.path.join(IMAGES_PATH, fig_id + \".\" + fig_extension)\n",
    "    print(\"Saving figure\", fig_id)\n",
    "    if tight_layout:\n",
    "        plt.tight_layout()\n",
    "    plt.savefig(path, format=fig_extension, dpi=resolution)\n",
    "\n",
    "# Ignore useless warnings (see SciPy issue #5998)\n",
    "import warnings\n",
    "warnings.filterwarnings(action=\"ignore\", message=\"^internal gelsd\")"
   ]
  },
  {
   "cell_type": "markdown",
   "metadata": {
    "id": "BKZK5w5lwDDx"
   },
   "source": [
    "# Get the data"
   ]
  },
  {
   "cell_type": "markdown",
   "metadata": {},
   "source": [
    "We are starting by first taking a quick look at our data:"
   ]
  },
  {
   "cell_type": "code",
   "execution_count": 4,
   "metadata": {
    "id": "zF7-64lPwDDy",
    "scrolled": true
   },
   "outputs": [
    {
     "data": {
      "text/html": [
       "<div>\n",
       "<style scoped>\n",
       "    .dataframe tbody tr th:only-of-type {\n",
       "        vertical-align: middle;\n",
       "    }\n",
       "\n",
       "    .dataframe tbody tr th {\n",
       "        vertical-align: top;\n",
       "    }\n",
       "\n",
       "    .dataframe thead th {\n",
       "        text-align: right;\n",
       "    }\n",
       "</style>\n",
       "<table border=\"1\" class=\"dataframe\">\n",
       "  <thead>\n",
       "    <tr style=\"text-align: right;\">\n",
       "      <th></th>\n",
       "      <th>game</th>\n",
       "      <th>platform</th>\n",
       "      <th>developer</th>\n",
       "      <th>genre</th>\n",
       "      <th>number_players</th>\n",
       "      <th>rating</th>\n",
       "      <th>release_date</th>\n",
       "      <th>positive_critics</th>\n",
       "      <th>neutral_critics</th>\n",
       "      <th>negative_critics</th>\n",
       "      <th>positive_users</th>\n",
       "      <th>neutral_users</th>\n",
       "      <th>negative_users</th>\n",
       "      <th>metascore</th>\n",
       "      <th>user_score</th>\n",
       "    </tr>\n",
       "  </thead>\n",
       "  <tbody>\n",
       "    <tr>\n",
       "      <th>0</th>\n",
       "      <td>Portal 2</td>\n",
       "      <td>PC</td>\n",
       "      <td>Valve Software</td>\n",
       "      <td>Action</td>\n",
       "      <td>NaN</td>\n",
       "      <td>E10+</td>\n",
       "      <td>Apr 18, 2011</td>\n",
       "      <td>51</td>\n",
       "      <td>1</td>\n",
       "      <td>0</td>\n",
       "      <td>1700</td>\n",
       "      <td>107</td>\n",
       "      <td>19</td>\n",
       "      <td>95</td>\n",
       "      <td>90</td>\n",
       "    </tr>\n",
       "    <tr>\n",
       "      <th>1</th>\n",
       "      <td>The Elder Scrolls V: Skyrim</td>\n",
       "      <td>PC</td>\n",
       "      <td>Bethesda Game Studios</td>\n",
       "      <td>Role-Playing</td>\n",
       "      <td>No Online Multiplayer</td>\n",
       "      <td>M</td>\n",
       "      <td>Nov 10, 2011</td>\n",
       "      <td>32</td>\n",
       "      <td>0</td>\n",
       "      <td>0</td>\n",
       "      <td>1616</td>\n",
       "      <td>322</td>\n",
       "      <td>451</td>\n",
       "      <td>94</td>\n",
       "      <td>82</td>\n",
       "    </tr>\n",
       "    <tr>\n",
       "      <th>2</th>\n",
       "      <td>The Legend of Zelda: Ocarina of Time 3D</td>\n",
       "      <td>3DS</td>\n",
       "      <td>GREZZO</td>\n",
       "      <td>Miscellaneous</td>\n",
       "      <td>No Online Multiplayer</td>\n",
       "      <td>E10+</td>\n",
       "      <td>Jun 19, 2011</td>\n",
       "      <td>84</td>\n",
       "      <td>1</td>\n",
       "      <td>0</td>\n",
       "      <td>283</td>\n",
       "      <td>20</td>\n",
       "      <td>5</td>\n",
       "      <td>94</td>\n",
       "      <td>90</td>\n",
       "    </tr>\n",
       "    <tr>\n",
       "      <th>3</th>\n",
       "      <td>Batman: Arkham City</td>\n",
       "      <td>PC</td>\n",
       "      <td>Rocksteady Studios</td>\n",
       "      <td>Action Adventure</td>\n",
       "      <td>NaN</td>\n",
       "      <td>T</td>\n",
       "      <td>Nov 21, 2011</td>\n",
       "      <td>27</td>\n",
       "      <td>0</td>\n",
       "      <td>0</td>\n",
       "      <td>240</td>\n",
       "      <td>34</td>\n",
       "      <td>27</td>\n",
       "      <td>91</td>\n",
       "      <td>87</td>\n",
       "    </tr>\n",
       "    <tr>\n",
       "      <th>4</th>\n",
       "      <td>Super Mario 3D Land</td>\n",
       "      <td>3DS</td>\n",
       "      <td>Nintendo</td>\n",
       "      <td>Action</td>\n",
       "      <td>No Online Multiplayer</td>\n",
       "      <td>E</td>\n",
       "      <td>Nov 13, 2011</td>\n",
       "      <td>81</td>\n",
       "      <td>1</td>\n",
       "      <td>0</td>\n",
       "      <td>251</td>\n",
       "      <td>39</td>\n",
       "      <td>11</td>\n",
       "      <td>90</td>\n",
       "      <td>84</td>\n",
       "    </tr>\n",
       "    <tr>\n",
       "      <th>...</th>\n",
       "      <td>...</td>\n",
       "      <td>...</td>\n",
       "      <td>...</td>\n",
       "      <td>...</td>\n",
       "      <td>...</td>\n",
       "      <td>...</td>\n",
       "      <td>...</td>\n",
       "      <td>...</td>\n",
       "      <td>...</td>\n",
       "      <td>...</td>\n",
       "      <td>...</td>\n",
       "      <td>...</td>\n",
       "      <td>...</td>\n",
       "      <td>...</td>\n",
       "      <td>...</td>\n",
       "    </tr>\n",
       "    <tr>\n",
       "      <th>5694</th>\n",
       "      <td>Modern Combat: Blackout</td>\n",
       "      <td>Switch</td>\n",
       "      <td>Gameloft</td>\n",
       "      <td>Action</td>\n",
       "      <td>No Online Multiplayer</td>\n",
       "      <td>NaN</td>\n",
       "      <td>Feb 14, 2019</td>\n",
       "      <td>0</td>\n",
       "      <td>5</td>\n",
       "      <td>2</td>\n",
       "      <td>1</td>\n",
       "      <td>0</td>\n",
       "      <td>1</td>\n",
       "      <td>53</td>\n",
       "      <td>57</td>\n",
       "    </tr>\n",
       "    <tr>\n",
       "      <th>5695</th>\n",
       "      <td>Fimbul</td>\n",
       "      <td>PS4</td>\n",
       "      <td>Zaxis</td>\n",
       "      <td>Action Adventure</td>\n",
       "      <td>No Online Multiplayer</td>\n",
       "      <td>NaN</td>\n",
       "      <td>Feb 28, 2019</td>\n",
       "      <td>0</td>\n",
       "      <td>7</td>\n",
       "      <td>2</td>\n",
       "      <td>1</td>\n",
       "      <td>0</td>\n",
       "      <td>0</td>\n",
       "      <td>52</td>\n",
       "      <td>18</td>\n",
       "    </tr>\n",
       "    <tr>\n",
       "      <th>5696</th>\n",
       "      <td>Generation Zero</td>\n",
       "      <td>PC</td>\n",
       "      <td>Avalanche Studios</td>\n",
       "      <td>Action Adventure</td>\n",
       "      <td>Online Multiplayer</td>\n",
       "      <td>T</td>\n",
       "      <td>Mar 26, 2019</td>\n",
       "      <td>1</td>\n",
       "      <td>11</td>\n",
       "      <td>6</td>\n",
       "      <td>5</td>\n",
       "      <td>2</td>\n",
       "      <td>6</td>\n",
       "      <td>50</td>\n",
       "      <td>57</td>\n",
       "    </tr>\n",
       "    <tr>\n",
       "      <th>5697</th>\n",
       "      <td>Vane</td>\n",
       "      <td>PS4</td>\n",
       "      <td>Friend &amp; Foe</td>\n",
       "      <td>Adventure</td>\n",
       "      <td>No Online Multiplayer</td>\n",
       "      <td>E10+</td>\n",
       "      <td>Jan 15, 2019</td>\n",
       "      <td>3</td>\n",
       "      <td>26</td>\n",
       "      <td>22</td>\n",
       "      <td>2</td>\n",
       "      <td>2</td>\n",
       "      <td>2</td>\n",
       "      <td>49</td>\n",
       "      <td>55</td>\n",
       "    </tr>\n",
       "    <tr>\n",
       "      <th>5698</th>\n",
       "      <td>Left Alive</td>\n",
       "      <td>PS4</td>\n",
       "      <td>Square Enix, ilinx inc.</td>\n",
       "      <td>Action Adventure</td>\n",
       "      <td>No Online Multiplayer</td>\n",
       "      <td>M</td>\n",
       "      <td>Mar  5, 2019</td>\n",
       "      <td>1</td>\n",
       "      <td>7</td>\n",
       "      <td>27</td>\n",
       "      <td>25</td>\n",
       "      <td>8</td>\n",
       "      <td>21</td>\n",
       "      <td>37</td>\n",
       "      <td>79</td>\n",
       "    </tr>\n",
       "  </tbody>\n",
       "</table>\n",
       "<p>5699 rows × 15 columns</p>\n",
       "</div>"
      ],
      "text/plain": [
       "                                         game platform  \\\n",
       "0                                    Portal 2       PC   \n",
       "1                 The Elder Scrolls V: Skyrim       PC   \n",
       "2     The Legend of Zelda: Ocarina of Time 3D      3DS   \n",
       "3                         Batman: Arkham City       PC   \n",
       "4                         Super Mario 3D Land      3DS   \n",
       "...                                       ...      ...   \n",
       "5694                  Modern Combat: Blackout   Switch   \n",
       "5695                                   Fimbul      PS4   \n",
       "5696                          Generation Zero       PC   \n",
       "5697                                     Vane      PS4   \n",
       "5698                               Left Alive      PS4   \n",
       "\n",
       "                    developer             genre         number_players rating  \\\n",
       "0              Valve Software            Action                    NaN   E10+   \n",
       "1       Bethesda Game Studios      Role-Playing  No Online Multiplayer      M   \n",
       "2                      GREZZO     Miscellaneous  No Online Multiplayer   E10+   \n",
       "3          Rocksteady Studios  Action Adventure                    NaN      T   \n",
       "4                    Nintendo            Action  No Online Multiplayer      E   \n",
       "...                       ...               ...                    ...    ...   \n",
       "5694                 Gameloft            Action  No Online Multiplayer    NaN   \n",
       "5695                    Zaxis  Action Adventure  No Online Multiplayer    NaN   \n",
       "5696        Avalanche Studios  Action Adventure     Online Multiplayer      T   \n",
       "5697             Friend & Foe         Adventure  No Online Multiplayer   E10+   \n",
       "5698  Square Enix, ilinx inc.  Action Adventure  No Online Multiplayer      M   \n",
       "\n",
       "      release_date  positive_critics  neutral_critics  negative_critics  \\\n",
       "0     Apr 18, 2011                51                1                 0   \n",
       "1     Nov 10, 2011                32                0                 0   \n",
       "2     Jun 19, 2011                84                1                 0   \n",
       "3     Nov 21, 2011                27                0                 0   \n",
       "4     Nov 13, 2011                81                1                 0   \n",
       "...            ...               ...              ...               ...   \n",
       "5694  Feb 14, 2019                 0                5                 2   \n",
       "5695  Feb 28, 2019                 0                7                 2   \n",
       "5696  Mar 26, 2019                 1               11                 6   \n",
       "5697  Jan 15, 2019                 3               26                22   \n",
       "5698  Mar  5, 2019                 1                7                27   \n",
       "\n",
       "      positive_users  neutral_users  negative_users  metascore  user_score  \n",
       "0               1700            107              19         95          90  \n",
       "1               1616            322             451         94          82  \n",
       "2                283             20               5         94          90  \n",
       "3                240             34              27         91          87  \n",
       "4                251             39              11         90          84  \n",
       "...              ...            ...             ...        ...         ...  \n",
       "5694               1              0               1         53          57  \n",
       "5695               1              0               0         52          18  \n",
       "5696               5              2               6         50          57  \n",
       "5697               2              2               2         49          55  \n",
       "5698              25              8              21         37          79  \n",
       "\n",
       "[5699 rows x 15 columns]"
      ]
     },
     "execution_count": 4,
     "metadata": {},
     "output_type": "execute_result"
    }
   ],
   "source": [
    "from sklearn import datasets\n",
    "import pandas as pd\n",
    "\n",
    "# load video games dataset\n",
    "videogames = pd.read_csv('videog.csv')\n",
    "videogames"
   ]
  },
  {
   "cell_type": "code",
   "execution_count": 3,
   "metadata": {},
   "outputs": [],
   "source": [
    "#pip install pandas-profiling\n",
    "\n",
    "import numpy as np\n",
    "import pandas as pd\n",
    "import pandas_profiling"
   ]
  },
  {
   "cell_type": "code",
   "execution_count": 12,
   "metadata": {
    "scrolled": true
   },
   "outputs": [
    {
     "name": "stdout",
     "output_type": "stream",
     "text": [
      "Collecting https://github.com/pandas-profiling/pandas-profiling/archive/master.zip\n",
      "  Using cached https://github.com/pandas-profiling/pandas-profiling/archive/master.zip\n",
      "Requirement already satisfied (use --upgrade to upgrade): pandas-profiling==2.10.0 from https://github.com/pandas-profiling/pandas-profiling/archive/master.zip in /opt/anaconda3/lib/python3.7/site-packages\n",
      "Requirement already satisfied: joblib in /opt/anaconda3/lib/python3.7/site-packages (from pandas-profiling==2.10.0) (0.14.1)\n",
      "Requirement already satisfied: scipy>=1.4.1 in /opt/anaconda3/lib/python3.7/site-packages (from pandas-profiling==2.10.0) (1.4.1)\n",
      "Requirement already satisfied: pandas!=1.0.0,!=1.0.1,!=1.0.2,!=1.1.0,>=0.25.3 in /opt/anaconda3/lib/python3.7/site-packages (from pandas-profiling==2.10.0) (1.2.0)\n",
      "Requirement already satisfied: matplotlib>=3.2.0 in /opt/anaconda3/lib/python3.7/site-packages (from pandas-profiling==2.10.0) (3.3.3)\n",
      "Requirement already satisfied: confuse>=1.0.0 in /opt/anaconda3/lib/python3.7/site-packages (from pandas-profiling==2.10.0) (1.4.0)\n",
      "Requirement already satisfied: jinja2>=2.11.1 in /opt/anaconda3/lib/python3.7/site-packages (from pandas-profiling==2.10.0) (2.11.1)\n",
      "Requirement already satisfied: visions[type_image_path]==0.6.0 in /opt/anaconda3/lib/python3.7/site-packages (from pandas-profiling==2.10.0) (0.6.0)\n",
      "Requirement already satisfied: numpy>=1.16.0 in /opt/anaconda3/lib/python3.7/site-packages (from pandas-profiling==2.10.0) (1.18.1)\n",
      "Requirement already satisfied: attrs>=19.3.0 in /opt/anaconda3/lib/python3.7/site-packages (from pandas-profiling==2.10.0) (19.3.0)\n",
      "Requirement already satisfied: htmlmin>=0.1.12 in /opt/anaconda3/lib/python3.7/site-packages (from pandas-profiling==2.10.0) (0.1.12)\n",
      "Requirement already satisfied: missingno>=0.4.2 in /opt/anaconda3/lib/python3.7/site-packages (from pandas-profiling==2.10.0) (0.4.2)\n",
      "Requirement already satisfied: phik>=0.10.0 in /opt/anaconda3/lib/python3.7/site-packages (from pandas-profiling==2.10.0) (0.11.0)\n",
      "Requirement already satisfied: tangled-up-in-unicode>=0.0.6 in /opt/anaconda3/lib/python3.7/site-packages (from pandas-profiling==2.10.0) (0.0.6)\n",
      "Requirement already satisfied: requests>=2.24.0 in /opt/anaconda3/lib/python3.7/site-packages (from pandas-profiling==2.10.0) (2.25.1)\n",
      "Requirement already satisfied: tqdm>=4.48.2 in /opt/anaconda3/lib/python3.7/site-packages (from pandas-profiling==2.10.0) (4.56.0)\n",
      "Requirement already satisfied: ipywidgets>=7.5.1 in /opt/anaconda3/lib/python3.7/site-packages (from pandas-profiling==2.10.0) (7.5.1)\n",
      "Requirement already satisfied: seaborn>=0.10.1 in /opt/anaconda3/lib/python3.7/site-packages (from pandas-profiling==2.10.0) (0.11.1)\n",
      "Requirement already satisfied: pytz>=2017.3 in /opt/anaconda3/lib/python3.7/site-packages (from pandas!=1.0.0,!=1.0.1,!=1.0.2,!=1.1.0,>=0.25.3->pandas-profiling==2.10.0) (2019.3)\n",
      "Requirement already satisfied: python-dateutil>=2.7.3 in /opt/anaconda3/lib/python3.7/site-packages (from pandas!=1.0.0,!=1.0.1,!=1.0.2,!=1.1.0,>=0.25.3->pandas-profiling==2.10.0) (2.8.1)\n",
      "Requirement already satisfied: kiwisolver>=1.0.1 in /opt/anaconda3/lib/python3.7/site-packages (from matplotlib>=3.2.0->pandas-profiling==2.10.0) (1.1.0)\n",
      "Requirement already satisfied: pyparsing!=2.0.4,!=2.1.2,!=2.1.6,>=2.0.3 in /opt/anaconda3/lib/python3.7/site-packages (from matplotlib>=3.2.0->pandas-profiling==2.10.0) (2.4.6)\n",
      "Requirement already satisfied: cycler>=0.10 in /opt/anaconda3/lib/python3.7/site-packages (from matplotlib>=3.2.0->pandas-profiling==2.10.0) (0.10.0)\n",
      "Requirement already satisfied: pillow>=6.2.0 in /opt/anaconda3/lib/python3.7/site-packages (from matplotlib>=3.2.0->pandas-profiling==2.10.0) (7.0.0)\n",
      "Requirement already satisfied: pyyaml in /opt/anaconda3/lib/python3.7/site-packages (from confuse>=1.0.0->pandas-profiling==2.10.0) (5.3)\n",
      "Requirement already satisfied: MarkupSafe>=0.23 in /opt/anaconda3/lib/python3.7/site-packages (from jinja2>=2.11.1->pandas-profiling==2.10.0) (1.1.1)\n",
      "Requirement already satisfied: networkx>=2.4 in /opt/anaconda3/lib/python3.7/site-packages (from visions[type_image_path]==0.6.0->pandas-profiling==2.10.0) (2.4)\n",
      "Requirement already satisfied: imagehash; extra == \"type_image_path\" in /opt/anaconda3/lib/python3.7/site-packages (from visions[type_image_path]==0.6.0->pandas-profiling==2.10.0) (4.2.0)\n",
      "Requirement already satisfied: numba>=0.38.1 in /opt/anaconda3/lib/python3.7/site-packages (from phik>=0.10.0->pandas-profiling==2.10.0) (0.48.0)\n",
      "Requirement already satisfied: idna<3,>=2.5 in /opt/anaconda3/lib/python3.7/site-packages (from requests>=2.24.0->pandas-profiling==2.10.0) (2.8)\n",
      "Requirement already satisfied: chardet<5,>=3.0.2 in /opt/anaconda3/lib/python3.7/site-packages (from requests>=2.24.0->pandas-profiling==2.10.0) (3.0.4)\n",
      "Requirement already satisfied: certifi>=2017.4.17 in /opt/anaconda3/lib/python3.7/site-packages (from requests>=2.24.0->pandas-profiling==2.10.0) (2019.11.28)\n",
      "Requirement already satisfied: urllib3<1.27,>=1.21.1 in /opt/anaconda3/lib/python3.7/site-packages (from requests>=2.24.0->pandas-profiling==2.10.0) (1.25.8)\n",
      "Requirement already satisfied: ipykernel>=4.5.1 in /opt/anaconda3/lib/python3.7/site-packages (from ipywidgets>=7.5.1->pandas-profiling==2.10.0) (5.1.4)\n",
      "Requirement already satisfied: ipython>=4.0.0; python_version >= \"3.3\" in /opt/anaconda3/lib/python3.7/site-packages (from ipywidgets>=7.5.1->pandas-profiling==2.10.0) (7.12.0)\n",
      "Requirement already satisfied: traitlets>=4.3.1 in /opt/anaconda3/lib/python3.7/site-packages (from ipywidgets>=7.5.1->pandas-profiling==2.10.0) (4.3.3)\n",
      "Requirement already satisfied: nbformat>=4.2.0 in /opt/anaconda3/lib/python3.7/site-packages (from ipywidgets>=7.5.1->pandas-profiling==2.10.0) (5.0.4)\n",
      "Requirement already satisfied: widgetsnbextension~=3.5.0 in /opt/anaconda3/lib/python3.7/site-packages (from ipywidgets>=7.5.1->pandas-profiling==2.10.0) (3.5.1)\n",
      "Requirement already satisfied: six>=1.5 in /opt/anaconda3/lib/python3.7/site-packages (from python-dateutil>=2.7.3->pandas!=1.0.0,!=1.0.1,!=1.0.2,!=1.1.0,>=0.25.3->pandas-profiling==2.10.0) (1.14.0)\n",
      "Requirement already satisfied: setuptools in /opt/anaconda3/lib/python3.7/site-packages (from kiwisolver>=1.0.1->matplotlib>=3.2.0->pandas-profiling==2.10.0) (46.0.0.post20200309)\n",
      "Requirement already satisfied: decorator>=4.3.0 in /opt/anaconda3/lib/python3.7/site-packages (from networkx>=2.4->visions[type_image_path]==0.6.0->pandas-profiling==2.10.0) (4.4.1)\n",
      "Requirement already satisfied: PyWavelets in /opt/anaconda3/lib/python3.7/site-packages (from imagehash; extra == \"type_image_path\"->visions[type_image_path]==0.6.0->pandas-profiling==2.10.0) (1.1.1)\n",
      "Requirement already satisfied: llvmlite<0.32.0,>=0.31.0dev0 in /opt/anaconda3/lib/python3.7/site-packages (from numba>=0.38.1->phik>=0.10.0->pandas-profiling==2.10.0) (0.31.0)\n",
      "Requirement already satisfied: tornado>=4.2 in /opt/anaconda3/lib/python3.7/site-packages (from ipykernel>=4.5.1->ipywidgets>=7.5.1->pandas-profiling==2.10.0) (6.0.3)\n",
      "Requirement already satisfied: jupyter-client in /opt/anaconda3/lib/python3.7/site-packages (from ipykernel>=4.5.1->ipywidgets>=7.5.1->pandas-profiling==2.10.0) (5.3.4)\n",
      "Requirement already satisfied: appnope; platform_system == \"Darwin\" in /opt/anaconda3/lib/python3.7/site-packages (from ipykernel>=4.5.1->ipywidgets>=7.5.1->pandas-profiling==2.10.0) (0.1.0)\n",
      "Requirement already satisfied: prompt-toolkit!=3.0.0,!=3.0.1,<3.1.0,>=2.0.0 in /opt/anaconda3/lib/python3.7/site-packages (from ipython>=4.0.0; python_version >= \"3.3\"->ipywidgets>=7.5.1->pandas-profiling==2.10.0) (3.0.3)\n",
      "Requirement already satisfied: pickleshare in /opt/anaconda3/lib/python3.7/site-packages (from ipython>=4.0.0; python_version >= \"3.3\"->ipywidgets>=7.5.1->pandas-profiling==2.10.0) (0.7.5)\n",
      "Requirement already satisfied: pexpect; sys_platform != \"win32\" in /opt/anaconda3/lib/python3.7/site-packages (from ipython>=4.0.0; python_version >= \"3.3\"->ipywidgets>=7.5.1->pandas-profiling==2.10.0) (4.8.0)\n",
      "Requirement already satisfied: jedi>=0.10 in /opt/anaconda3/lib/python3.7/site-packages (from ipython>=4.0.0; python_version >= \"3.3\"->ipywidgets>=7.5.1->pandas-profiling==2.10.0) (0.14.1)\n",
      "Requirement already satisfied: pygments in /opt/anaconda3/lib/python3.7/site-packages (from ipython>=4.0.0; python_version >= \"3.3\"->ipywidgets>=7.5.1->pandas-profiling==2.10.0) (2.5.2)\n",
      "Requirement already satisfied: backcall in /opt/anaconda3/lib/python3.7/site-packages (from ipython>=4.0.0; python_version >= \"3.3\"->ipywidgets>=7.5.1->pandas-profiling==2.10.0) (0.1.0)\n",
      "Requirement already satisfied: ipython-genutils in /opt/anaconda3/lib/python3.7/site-packages (from traitlets>=4.3.1->ipywidgets>=7.5.1->pandas-profiling==2.10.0) (0.2.0)\n",
      "Requirement already satisfied: jupyter-core in /opt/anaconda3/lib/python3.7/site-packages (from nbformat>=4.2.0->ipywidgets>=7.5.1->pandas-profiling==2.10.0) (4.6.1)\n",
      "Requirement already satisfied: jsonschema!=2.5.0,>=2.4 in /opt/anaconda3/lib/python3.7/site-packages (from nbformat>=4.2.0->ipywidgets>=7.5.1->pandas-profiling==2.10.0) (3.2.0)\n",
      "Requirement already satisfied: notebook>=4.4.1 in /opt/anaconda3/lib/python3.7/site-packages (from widgetsnbextension~=3.5.0->ipywidgets>=7.5.1->pandas-profiling==2.10.0) (6.0.3)\n",
      "Requirement already satisfied: pyzmq>=13 in /opt/anaconda3/lib/python3.7/site-packages (from jupyter-client->ipykernel>=4.5.1->ipywidgets>=7.5.1->pandas-profiling==2.10.0) (18.1.1)\n",
      "Requirement already satisfied: wcwidth in /opt/anaconda3/lib/python3.7/site-packages (from prompt-toolkit!=3.0.0,!=3.0.1,<3.1.0,>=2.0.0->ipython>=4.0.0; python_version >= \"3.3\"->ipywidgets>=7.5.1->pandas-profiling==2.10.0) (0.1.8)\n",
      "Requirement already satisfied: ptyprocess>=0.5 in /opt/anaconda3/lib/python3.7/site-packages (from pexpect; sys_platform != \"win32\"->ipython>=4.0.0; python_version >= \"3.3\"->ipywidgets>=7.5.1->pandas-profiling==2.10.0) (0.6.0)\n",
      "Requirement already satisfied: parso>=0.5.0 in /opt/anaconda3/lib/python3.7/site-packages (from jedi>=0.10->ipython>=4.0.0; python_version >= \"3.3\"->ipywidgets>=7.5.1->pandas-profiling==2.10.0) (0.5.2)\n",
      "Requirement already satisfied: pyrsistent>=0.14.0 in /opt/anaconda3/lib/python3.7/site-packages (from jsonschema!=2.5.0,>=2.4->nbformat>=4.2.0->ipywidgets>=7.5.1->pandas-profiling==2.10.0) (0.15.7)\n",
      "Requirement already satisfied: importlib-metadata; python_version < \"3.8\" in /opt/anaconda3/lib/python3.7/site-packages (from jsonschema!=2.5.0,>=2.4->nbformat>=4.2.0->ipywidgets>=7.5.1->pandas-profiling==2.10.0) (1.5.0)\n",
      "Requirement already satisfied: prometheus-client in /opt/anaconda3/lib/python3.7/site-packages (from notebook>=4.4.1->widgetsnbextension~=3.5.0->ipywidgets>=7.5.1->pandas-profiling==2.10.0) (0.7.1)\n",
      "Requirement already satisfied: nbconvert in /opt/anaconda3/lib/python3.7/site-packages (from notebook>=4.4.1->widgetsnbextension~=3.5.0->ipywidgets>=7.5.1->pandas-profiling==2.10.0) (5.6.1)\n",
      "Requirement already satisfied: Send2Trash in /opt/anaconda3/lib/python3.7/site-packages (from notebook>=4.4.1->widgetsnbextension~=3.5.0->ipywidgets>=7.5.1->pandas-profiling==2.10.0) (1.5.0)\n",
      "Requirement already satisfied: terminado>=0.8.1 in /opt/anaconda3/lib/python3.7/site-packages (from notebook>=4.4.1->widgetsnbextension~=3.5.0->ipywidgets>=7.5.1->pandas-profiling==2.10.0) (0.8.3)\n",
      "Requirement already satisfied: zipp>=0.5 in /opt/anaconda3/lib/python3.7/site-packages (from importlib-metadata; python_version < \"3.8\"->jsonschema!=2.5.0,>=2.4->nbformat>=4.2.0->ipywidgets>=7.5.1->pandas-profiling==2.10.0) (2.2.0)\n",
      "Requirement already satisfied: entrypoints>=0.2.2 in /opt/anaconda3/lib/python3.7/site-packages (from nbconvert->notebook>=4.4.1->widgetsnbextension~=3.5.0->ipywidgets>=7.5.1->pandas-profiling==2.10.0) (0.3)\n",
      "Requirement already satisfied: pandocfilters>=1.4.1 in /opt/anaconda3/lib/python3.7/site-packages (from nbconvert->notebook>=4.4.1->widgetsnbextension~=3.5.0->ipywidgets>=7.5.1->pandas-profiling==2.10.0) (1.4.2)\n",
      "Requirement already satisfied: defusedxml in /opt/anaconda3/lib/python3.7/site-packages (from nbconvert->notebook>=4.4.1->widgetsnbextension~=3.5.0->ipywidgets>=7.5.1->pandas-profiling==2.10.0) (0.6.0)\n",
      "Requirement already satisfied: mistune<2,>=0.8.1 in /opt/anaconda3/lib/python3.7/site-packages (from nbconvert->notebook>=4.4.1->widgetsnbextension~=3.5.0->ipywidgets>=7.5.1->pandas-profiling==2.10.0) (0.8.4)\n",
      "Requirement already satisfied: bleach in /opt/anaconda3/lib/python3.7/site-packages (from nbconvert->notebook>=4.4.1->widgetsnbextension~=3.5.0->ipywidgets>=7.5.1->pandas-profiling==2.10.0) (3.1.0)\n",
      "Requirement already satisfied: testpath in /opt/anaconda3/lib/python3.7/site-packages (from nbconvert->notebook>=4.4.1->widgetsnbextension~=3.5.0->ipywidgets>=7.5.1->pandas-profiling==2.10.0) (0.4.4)\n",
      "Requirement already satisfied: webencodings in /opt/anaconda3/lib/python3.7/site-packages (from bleach->nbconvert->notebook>=4.4.1->widgetsnbextension~=3.5.0->ipywidgets>=7.5.1->pandas-profiling==2.10.0) (0.5.1)\n",
      "Building wheels for collected packages: pandas-profiling\n",
      "  Building wheel for pandas-profiling (setup.py) ... \u001b[?25ldone\n",
      "\u001b[?25h  Created wheel for pandas-profiling: filename=pandas_profiling-2.10.0-py2.py3-none-any.whl size=239947 sha256=e536effd11f1ef61e263dc4c5fb761dda9f3a94f96d145bbd8e76facca2d0465\n",
      "  Stored in directory: /private/var/folders/60/93g6tzrs32726vc6hwcwyg840000gn/T/pip-ephem-wheel-cache-dchlz4fj/wheels/cc/d5/09/083fb07c9363a2f45854b0e3a7de7d7c560f07da74b9e9769d\n",
      "Successfully built pandas-profiling\n",
      "Note: you may need to restart the kernel to use updated packages.\n"
     ]
    }
   ],
   "source": [
    "pip install https://github.com/pandas-profiling/pandas-profiling/archive/master.zip"
   ]
  },
  {
   "cell_type": "code",
   "execution_count": 3,
   "metadata": {},
   "outputs": [],
   "source": [
    "#Pose probleme \n",
    "from pandas_profiling import ProfileReport\n",
    "df = videogames\n",
    "profile = ProfileReport(df, title='Pandas Profiling Report', html={'style':{'full_width':True}})\n",
    "profile.to_file(output_file=\"PPR.html\")"
   ]
  },
  {
   "cell_type": "code",
   "execution_count": 3,
   "metadata": {
    "id": "pqBIC3uewDD3",
    "outputId": "1e2f1feb-5e56-47f2-affc-7460a0124817",
    "scrolled": true
   },
   "outputs": [
    {
     "name": "stdout",
     "output_type": "stream",
     "text": [
      "<class 'pandas.core.frame.DataFrame'>\n",
      "RangeIndex: 5699 entries, 0 to 5698\n",
      "Data columns (total 15 columns):\n",
      " #   Column            Non-Null Count  Dtype \n",
      "---  ------            --------------  ----- \n",
      " 0   game              5699 non-null   object\n",
      " 1   platform          5699 non-null   object\n",
      " 2   developer         5685 non-null   object\n",
      " 3   genre             5694 non-null   object\n",
      " 4   number_players    3059 non-null   object\n",
      " 5   rating            4433 non-null   object\n",
      " 6   release_date      5699 non-null   object\n",
      " 7   positive_critics  5699 non-null   int64 \n",
      " 8   neutral_critics   5699 non-null   int64 \n",
      " 9   negative_critics  5699 non-null   int64 \n",
      " 10  positive_users    5699 non-null   int64 \n",
      " 11  neutral_users     5699 non-null   int64 \n",
      " 12  negative_users    5699 non-null   int64 \n",
      " 13  metascore         5699 non-null   int64 \n",
      " 14  user_score        5699 non-null   int64 \n",
      "dtypes: int64(8), object(7)\n",
      "memory usage: 668.0+ KB\n"
     ]
    }
   ],
   "source": [
    "#Get name of variables, amount of missing values, data type \n",
    "videogames.info()"
   ]
  },
  {
   "cell_type": "markdown",
   "metadata": {},
   "source": [
    "At first glance, we can see that developper,genre, number of players and rating are variables with seemingly NA values, which we will be taking care of later in our analysis."
   ]
  },
  {
   "cell_type": "code",
   "execution_count": 25,
   "metadata": {
    "id": "4m38qAJQwDD4",
    "outputId": "08f050e8-7238-4a7c-eb64-683b6dee8568",
    "scrolled": false
   },
   "outputs": [
    {
     "data": {
      "text/html": [
       "<div>\n",
       "<style scoped>\n",
       "    .dataframe tbody tr th:only-of-type {\n",
       "        vertical-align: middle;\n",
       "    }\n",
       "\n",
       "    .dataframe tbody tr th {\n",
       "        vertical-align: top;\n",
       "    }\n",
       "\n",
       "    .dataframe thead th {\n",
       "        text-align: right;\n",
       "    }\n",
       "</style>\n",
       "<table border=\"1\" class=\"dataframe\">\n",
       "  <thead>\n",
       "    <tr style=\"text-align: right;\">\n",
       "      <th></th>\n",
       "      <th>positive_critics</th>\n",
       "      <th>neutral_critics</th>\n",
       "      <th>negative_critics</th>\n",
       "      <th>positive_users</th>\n",
       "      <th>neutral_users</th>\n",
       "      <th>negative_users</th>\n",
       "      <th>metascore</th>\n",
       "      <th>user_score</th>\n",
       "    </tr>\n",
       "  </thead>\n",
       "  <tbody>\n",
       "    <tr>\n",
       "      <th>count</th>\n",
       "      <td>5699.000000</td>\n",
       "      <td>5699.000000</td>\n",
       "      <td>5699.000000</td>\n",
       "      <td>5699.000000</td>\n",
       "      <td>5699.000000</td>\n",
       "      <td>5699.000000</td>\n",
       "      <td>5699.000000</td>\n",
       "      <td>5699.000000</td>\n",
       "    </tr>\n",
       "    <tr>\n",
       "      <th>mean</th>\n",
       "      <td>13.351816</td>\n",
       "      <td>7.959467</td>\n",
       "      <td>1.146341</td>\n",
       "      <td>28.752062</td>\n",
       "      <td>8.636603</td>\n",
       "      <td>14.374627</td>\n",
       "      <td>71.857694</td>\n",
       "      <td>67.138621</td>\n",
       "    </tr>\n",
       "    <tr>\n",
       "      <th>std</th>\n",
       "      <td>16.202234</td>\n",
       "      <td>7.699535</td>\n",
       "      <td>2.926260</td>\n",
       "      <td>103.688270</td>\n",
       "      <td>24.706790</td>\n",
       "      <td>84.938320</td>\n",
       "      <td>11.214583</td>\n",
       "      <td>13.581873</td>\n",
       "    </tr>\n",
       "    <tr>\n",
       "      <th>min</th>\n",
       "      <td>0.000000</td>\n",
       "      <td>0.000000</td>\n",
       "      <td>0.000000</td>\n",
       "      <td>0.000000</td>\n",
       "      <td>0.000000</td>\n",
       "      <td>0.000000</td>\n",
       "      <td>11.000000</td>\n",
       "      <td>1.000000</td>\n",
       "    </tr>\n",
       "    <tr>\n",
       "      <th>25%</th>\n",
       "      <td>3.000000</td>\n",
       "      <td>3.000000</td>\n",
       "      <td>0.000000</td>\n",
       "      <td>2.000000</td>\n",
       "      <td>1.000000</td>\n",
       "      <td>0.000000</td>\n",
       "      <td>66.000000</td>\n",
       "      <td>61.000000</td>\n",
       "    </tr>\n",
       "    <tr>\n",
       "      <th>50%</th>\n",
       "      <td>8.000000</td>\n",
       "      <td>6.000000</td>\n",
       "      <td>0.000000</td>\n",
       "      <td>5.000000</td>\n",
       "      <td>2.000000</td>\n",
       "      <td>1.000000</td>\n",
       "      <td>73.000000</td>\n",
       "      <td>70.000000</td>\n",
       "    </tr>\n",
       "    <tr>\n",
       "      <th>75%</th>\n",
       "      <td>17.000000</td>\n",
       "      <td>10.000000</td>\n",
       "      <td>1.000000</td>\n",
       "      <td>17.000000</td>\n",
       "      <td>6.000000</td>\n",
       "      <td>5.000000</td>\n",
       "      <td>80.000000</td>\n",
       "      <td>76.000000</td>\n",
       "    </tr>\n",
       "    <tr>\n",
       "      <th>max</th>\n",
       "      <td>118.000000</td>\n",
       "      <td>65.000000</td>\n",
       "      <td>51.000000</td>\n",
       "      <td>2762.000000</td>\n",
       "      <td>506.000000</td>\n",
       "      <td>2998.000000</td>\n",
       "      <td>97.000000</td>\n",
       "      <td>94.000000</td>\n",
       "    </tr>\n",
       "  </tbody>\n",
       "</table>\n",
       "</div>"
      ],
      "text/plain": [
       "       positive_critics  neutral_critics  negative_critics  positive_users  \\\n",
       "count       5699.000000      5699.000000       5699.000000     5699.000000   \n",
       "mean          13.351816         7.959467          1.146341       28.752062   \n",
       "std           16.202234         7.699535          2.926260      103.688270   \n",
       "min            0.000000         0.000000          0.000000        0.000000   \n",
       "25%            3.000000         3.000000          0.000000        2.000000   \n",
       "50%            8.000000         6.000000          0.000000        5.000000   \n",
       "75%           17.000000        10.000000          1.000000       17.000000   \n",
       "max          118.000000        65.000000         51.000000     2762.000000   \n",
       "\n",
       "       neutral_users  negative_users    metascore   user_score  \n",
       "count    5699.000000     5699.000000  5699.000000  5699.000000  \n",
       "mean        8.636603       14.374627    71.857694    67.138621  \n",
       "std        24.706790       84.938320    11.214583    13.581873  \n",
       "min         0.000000        0.000000    11.000000     1.000000  \n",
       "25%         1.000000        0.000000    66.000000    61.000000  \n",
       "50%         2.000000        1.000000    73.000000    70.000000  \n",
       "75%         6.000000        5.000000    80.000000    76.000000  \n",
       "max       506.000000     2998.000000    97.000000    94.000000  "
      ]
     },
     "execution_count": 25,
     "metadata": {},
     "output_type": "execute_result"
    }
   ],
   "source": [
    "videogames.describe() #Gives us summary statistics on numerical variables"
   ]
  },
  {
   "cell_type": "code",
   "execution_count": 26,
   "metadata": {
    "id": "KYlaXS38wDD4",
    "outputId": "1082e985-c3a8-433c-8587-de780835d68c",
    "scrolled": true
   },
   "outputs": [
    {
     "name": "stdout",
     "output_type": "stream",
     "text": [
      "Saving figure attribute_histogram_plots\n"
     ]
    },
    {
     "data": {
      "image/png": "[encoded data removed]",
      "text/plain": [
       "<Figure size 1440x1800 with 9 Axes>"
      ]
     },
     "metadata": {
      "needs_background": "light"
     },
     "output_type": "display_data"
    }
   ],
   "source": [
    "#Visualize the data and assess the distributions\n",
    "%matplotlib inline\n",
    "import matplotlib.pyplot as plt\n",
    "videogames.hist(bins=50, figsize=(20,25), histtype = 'stepfilled')\n",
    "save_fig(\"attribute_histogram_plots\")\n",
    "plt.show()"
   ]
  },
  {
   "cell_type": "markdown",
   "metadata": {},
   "source": [
    "Comments: \n",
    "\n",
    "- The distribution of metascore and user scores is skewed to the left, it also seems like most games have quite good metascores and userscores. \n",
    "- There are a very few negative users and critics\n",
    "- Overall users tend not to give their feebacks. However, they will be more willing to give positive or neutral critics than negative ones\n",
    "- We might want to consider feature scaling because the attributes are on different scales"
   ]
  },
  {
   "cell_type": "markdown",
   "metadata": {},
   "source": [
    "Now, we will be creating the test set in order to avoid biases and overfitting and base our further analysis on the training set:"
   ]
  },
  {
   "cell_type": "code",
   "execution_count": 5,
   "metadata": {},
   "outputs": [],
   "source": [
    "from sklearn.model_selection import train_test_split \n",
    "\n",
    "train_set, test_set = train_test_split(videogames, test_size=0.2, random_state=42)"
   ]
  },
  {
   "cell_type": "code",
   "execution_count": 6,
   "metadata": {
    "id": "RMLN-zQowDD5",
    "outputId": "aa950f95-1254-4891-90fa-3c7eebf1e82f"
   },
   "outputs": [
    {
     "data": {
      "text/plain": [
       "4559"
      ]
     },
     "execution_count": 6,
     "metadata": {},
     "output_type": "execute_result"
    }
   ],
   "source": [
    "len(train_set)"
   ]
  },
  {
   "cell_type": "code",
   "execution_count": 7,
   "metadata": {
    "id": "6BanEIkDwDD6",
    "outputId": "b089b21d-d098-4e27-caed-84b408bc4b21"
   },
   "outputs": [
    {
     "data": {
      "text/plain": [
       "1140"
      ]
     },
     "execution_count": 7,
     "metadata": {},
     "output_type": "execute_result"
    }
   ],
   "source": [
    "len(test_set)"
   ]
  },
  {
   "cell_type": "code",
   "execution_count": 8,
   "metadata": {
    "id": "l3THGykBwDD6"
   },
   "outputs": [],
   "source": [
    "import hashlib #Guess we dont need that \n",
    "\n",
    "def test_set_check(identifier, test_ratio, hash=hashlib.md5):\n",
    "    return hash(np.int64(identifier)).digest()[-1] < 256 * test_ratio"
   ]
  },
  {
   "cell_type": "markdown",
   "metadata": {
    "id": "xy7E_7ppwDD7"
   },
   "source": [
    "If you want an implementation that supports any hash function and is compatible with both Python 2 and Python 3, here is one:"
   ]
  },
  {
   "cell_type": "code",
   "execution_count": 9,
   "metadata": {
    "id": "yVTELNjOwDD7"
   },
   "outputs": [],
   "source": [
    "import hashlib\n",
    "def test_set_check(identifier, test_ratio, hash=hashlib.md5): #Do we need THIS FCT?\n",
    "    return bytearray(hash(np.int64(identifier)).digest())[-1] < 256 * test_ratio"
   ]
  },
  {
   "cell_type": "code",
   "execution_count": 10,
   "metadata": {
    "id": "8HAcUa-IwDD8",
    "outputId": "8252092c-134e-4044-8aec-8801ce5b52eb",
    "scrolled": false
   },
   "outputs": [
    {
     "data": {
      "text/html": [
       "<div>\n",
       "<style scoped>\n",
       "    .dataframe tbody tr th:only-of-type {\n",
       "        vertical-align: middle;\n",
       "    }\n",
       "\n",
       "    .dataframe tbody tr th {\n",
       "        vertical-align: top;\n",
       "    }\n",
       "\n",
       "    .dataframe thead th {\n",
       "        text-align: right;\n",
       "    }\n",
       "</style>\n",
       "<table border=\"1\" class=\"dataframe\">\n",
       "  <thead>\n",
       "    <tr style=\"text-align: right;\">\n",
       "      <th></th>\n",
       "      <th>game</th>\n",
       "      <th>platform</th>\n",
       "      <th>developer</th>\n",
       "      <th>genre</th>\n",
       "      <th>number_players</th>\n",
       "      <th>rating</th>\n",
       "      <th>release_date</th>\n",
       "      <th>positive_critics</th>\n",
       "      <th>neutral_critics</th>\n",
       "      <th>negative_critics</th>\n",
       "      <th>positive_users</th>\n",
       "      <th>neutral_users</th>\n",
       "      <th>negative_users</th>\n",
       "      <th>metascore</th>\n",
       "      <th>user_score</th>\n",
       "    </tr>\n",
       "  </thead>\n",
       "  <tbody>\n",
       "    <tr>\n",
       "      <th>1436</th>\n",
       "      <td>Chariot</td>\n",
       "      <td>XONE</td>\n",
       "      <td>Frima Studio</td>\n",
       "      <td>Action</td>\n",
       "      <td>NaN</td>\n",
       "      <td>E</td>\n",
       "      <td>Oct  1, 2014</td>\n",
       "      <td>9</td>\n",
       "      <td>5</td>\n",
       "      <td>0</td>\n",
       "      <td>8</td>\n",
       "      <td>3</td>\n",
       "      <td>0</td>\n",
       "      <td>73</td>\n",
       "      <td>76</td>\n",
       "    </tr>\n",
       "    <tr>\n",
       "      <th>748</th>\n",
       "      <td>Goodbye Deponia</td>\n",
       "      <td>PC</td>\n",
       "      <td>Daedalic Entertainment</td>\n",
       "      <td>Adventure</td>\n",
       "      <td>No Online Multiplayer</td>\n",
       "      <td>NaN</td>\n",
       "      <td>Oct 17, 2013</td>\n",
       "      <td>24</td>\n",
       "      <td>9</td>\n",
       "      <td>1</td>\n",
       "      <td>10</td>\n",
       "      <td>4</td>\n",
       "      <td>5</td>\n",
       "      <td>80</td>\n",
       "      <td>78</td>\n",
       "    </tr>\n",
       "    <tr>\n",
       "      <th>4596</th>\n",
       "      <td>Darkest Dungeon</td>\n",
       "      <td>Switch</td>\n",
       "      <td>Red Hook Studios</td>\n",
       "      <td>Role-Playing</td>\n",
       "      <td>No Online Multiplayer</td>\n",
       "      <td>T</td>\n",
       "      <td>Jan 18, 2018</td>\n",
       "      <td>18</td>\n",
       "      <td>0</td>\n",
       "      <td>0</td>\n",
       "      <td>11</td>\n",
       "      <td>2</td>\n",
       "      <td>4</td>\n",
       "      <td>85</td>\n",
       "      <td>81</td>\n",
       "    </tr>\n",
       "    <tr>\n",
       "      <th>1448</th>\n",
       "      <td>Lords of the Fallen</td>\n",
       "      <td>PC</td>\n",
       "      <td>City Interactive, Deck 13</td>\n",
       "      <td>Role-Playing</td>\n",
       "      <td>No Online Multiplayer</td>\n",
       "      <td>M</td>\n",
       "      <td>Oct 28, 2014</td>\n",
       "      <td>14</td>\n",
       "      <td>22</td>\n",
       "      <td>0</td>\n",
       "      <td>66</td>\n",
       "      <td>32</td>\n",
       "      <td>34</td>\n",
       "      <td>73</td>\n",
       "      <td>69</td>\n",
       "    </tr>\n",
       "    <tr>\n",
       "      <th>2543</th>\n",
       "      <td>Temple of Yog</td>\n",
       "      <td>WIIU</td>\n",
       "      <td>CHUDCHUD INDUSTRIES</td>\n",
       "      <td>Action</td>\n",
       "      <td>NaN</td>\n",
       "      <td>E10+</td>\n",
       "      <td>Dec 16, 2015</td>\n",
       "      <td>0</td>\n",
       "      <td>6</td>\n",
       "      <td>1</td>\n",
       "      <td>1</td>\n",
       "      <td>0</td>\n",
       "      <td>0</td>\n",
       "      <td>54</td>\n",
       "      <td>69</td>\n",
       "    </tr>\n",
       "  </tbody>\n",
       "</table>\n",
       "</div>"
      ],
      "text/plain": [
       "                     game platform                  developer         genre  \\\n",
       "1436              Chariot     XONE               Frima Studio        Action   \n",
       "748       Goodbye Deponia       PC     Daedalic Entertainment     Adventure   \n",
       "4596      Darkest Dungeon   Switch           Red Hook Studios  Role-Playing   \n",
       "1448  Lords of the Fallen       PC  City Interactive, Deck 13  Role-Playing   \n",
       "2543        Temple of Yog     WIIU        CHUDCHUD INDUSTRIES        Action   \n",
       "\n",
       "             number_players rating  release_date  positive_critics  \\\n",
       "1436                    NaN      E  Oct  1, 2014                 9   \n",
       "748   No Online Multiplayer    NaN  Oct 17, 2013                24   \n",
       "4596  No Online Multiplayer      T  Jan 18, 2018                18   \n",
       "1448  No Online Multiplayer      M  Oct 28, 2014                14   \n",
       "2543                    NaN   E10+  Dec 16, 2015                 0   \n",
       "\n",
       "      neutral_critics  negative_critics  positive_users  neutral_users  \\\n",
       "1436                5                 0               8              3   \n",
       "748                 9                 1              10              4   \n",
       "4596                0                 0              11              2   \n",
       "1448               22                 0              66             32   \n",
       "2543                6                 1               1              0   \n",
       "\n",
       "      negative_users  metascore  user_score  \n",
       "1436               0         73          76  \n",
       "748                5         80          78  \n",
       "4596               4         85          81  \n",
       "1448              34         73          69  \n",
       "2543               0         54          69  "
      ]
     },
     "execution_count": 10,
     "metadata": {},
     "output_type": "execute_result"
    }
   ],
   "source": [
    "test_set.head()"
   ]
  },
  {
   "cell_type": "markdown",
   "metadata": {},
   "source": [
    "Now,in order to ensure our predictor metascore is representative of the various metascore categories in the whole dataset we will create a new variable called metascore_levels. It is important to have a sufficient number of instances in your dataset for each stratum, or else the estimate of a stratum’s importance may be biased.Most metascores are clustered around 50 to 90. "
   ]
  },
  {
   "cell_type": "code",
   "execution_count": 11,
   "metadata": {
    "id": "WIqmr14swDD8",
    "outputId": "d2c0c238-f4b5-40a9-9c45-e5fc301769f3"
   },
   "outputs": [
    {
     "data": {
      "text/plain": [
       "<AxesSubplot:>"
      ]
     },
     "execution_count": 11,
     "metadata": {},
     "output_type": "execute_result"
    },
    {
     "data": {
      "image/png": "[encoded data removed]",
      "text/plain": [
       "<Figure size 432x288 with 1 Axes>"
      ]
     },
     "metadata": {
      "needs_background": "light"
     },
     "output_type": "display_data"
    }
   ],
   "source": [
    "videogames[\"metascore\"].hist()"
   ]
  },
  {
   "cell_type": "code",
   "execution_count": 12,
   "metadata": {},
   "outputs": [
    {
     "data": {
      "text/plain": [
       "4    2289\n",
       "3    1359\n",
       "5    1245\n",
       "2     529\n",
       "1     277\n",
       "Name: metascore_level, dtype: int64"
      ]
     },
     "execution_count": 12,
     "metadata": {},
     "output_type": "execute_result"
    }
   ],
   "source": [
    "#Insightful to categorize games by user scores \n",
    "videogames[\"metascore_level\"] = pd.cut(videogames[\"metascore\"],\n",
    "                               bins=[0,50, 60, 70, 80,np.inf],\n",
    "                               labels=[1,2,3,4,5]) \n",
    "#np.inf\n",
    "videogames[\"metascore_level\"].value_counts()\n"
   ]
  },
  {
   "cell_type": "code",
   "execution_count": 13,
   "metadata": {
    "scrolled": false
   },
   "outputs": [
    {
     "data": {
      "text/plain": [
       "<AxesSubplot:>"
      ]
     },
     "execution_count": 13,
     "metadata": {},
     "output_type": "execute_result"
    },
    {
     "data": {
      "image/png": "[encoded data removed]",
      "text/plain": [
       "<Figure size 432x288 with 1 Axes>"
      ]
     },
     "metadata": {
      "needs_background": "light"
     },
     "output_type": "display_data"
    }
   ],
   "source": [
    "videogames[\"metascore_level\"].hist()"
   ]
  },
  {
   "cell_type": "markdown",
   "metadata": {},
   "source": [
    "Now, we proceed to stratified sampling: "
   ]
  },
  {
   "cell_type": "code",
   "execution_count": 14,
   "metadata": {
    "id": "baj09xv8wDD-"
   },
   "outputs": [],
   "source": [
    "from sklearn.model_selection import StratifiedShuffleSplit\n",
    "split = StratifiedShuffleSplit(n_splits=1, test_size=0.2, random_state=42)\n",
    "for train_index, test_index in split.split(videogames, videogames[\"metascore_level\"]):\n",
    "    strat_train_set = videogames.loc[train_index]\n",
    "    strat_test_set = videogames.loc[test_index]"
   ]
  },
  {
   "cell_type": "code",
   "execution_count": 15,
   "metadata": {
    "id": "cspC48WywDD-",
    "outputId": "760f7050-d3a3-4c4c-8f19-8b30b790f175"
   },
   "outputs": [
    {
     "data": {
      "text/plain": [
       "4    0.401754\n",
       "3    0.238596\n",
       "5    0.218421\n",
       "2    0.092982\n",
       "1    0.048246\n",
       "Name: metascore_level, dtype: float64"
      ]
     },
     "execution_count": 15,
     "metadata": {},
     "output_type": "execute_result"
    }
   ],
   "source": [
    "strat_test_set[\"metascore_level\"].value_counts() / len(strat_test_set)"
   ]
  },
  {
   "cell_type": "code",
   "execution_count": 16,
   "metadata": {
    "id": "JoTItlLywDD-",
    "outputId": "7ec0033c-db95-44eb-e021-7b147beb1e6e",
    "scrolled": true
   },
   "outputs": [
    {
     "data": {
      "text/plain": [
       "4    0.401649\n",
       "3    0.238463\n",
       "5    0.218459\n",
       "2    0.092823\n",
       "1    0.048605\n",
       "Name: metascore_level, dtype: float64"
      ]
     },
     "execution_count": 16,
     "metadata": {},
     "output_type": "execute_result"
    }
   ],
   "source": [
    "videogames[\"metascore_level\"].value_counts() / len(videogames)"
   ]
  },
  {
   "cell_type": "markdown",
   "metadata": {},
   "source": [
    "By comparing the metascore_level proportions in the overall dataset and in the test set we can see that using stratified sampling, the test set has metascores_level proportions almost identical to those in the full dataset.The table below summarizes it all."
   ]
  },
  {
   "cell_type": "code",
   "execution_count": 17,
   "metadata": {
    "id": "vISZ7swpwDD-"
   },
   "outputs": [],
   "source": [
    "def videogames_cat_proportions(data): #is it a strategy to choose how to split the data ? \n",
    "    return data[\"metascore_level\"].value_counts() / len(data)\n",
    "\n",
    "train_set, test_set = train_test_split(videogames, test_size=0.2, random_state=42)\n",
    "\n",
    "compare_props = pd.DataFrame({\n",
    "    \"Overall\": videogames_cat_proportions(videogames),\n",
    "    \"Stratified\": videogames_cat_proportions(strat_test_set),\n",
    "    \"Random\": videogames_cat_proportions(test_set),\n",
    "}).sort_index()\n",
    "compare_props[\"Rand. %error\"] = 100 * compare_props[\"Random\"] / compare_props[\"Overall\"] - 100\n",
    "compare_props[\"Strat. %error\"] = 100 * compare_props[\"Stratified\"] / compare_props[\"Overall\"] - 100"
   ]
  },
  {
   "cell_type": "code",
   "execution_count": 18,
   "metadata": {
    "id": "QlLPxro1wDD_",
    "outputId": "a9f4a293-5a3f-41f1-8eaf-203d372576e2",
    "scrolled": true
   },
   "outputs": [
    {
     "data": {
      "text/html": [
       "<div>\n",
       "<style scoped>\n",
       "    .dataframe tbody tr th:only-of-type {\n",
       "        vertical-align: middle;\n",
       "    }\n",
       "\n",
       "    .dataframe tbody tr th {\n",
       "        vertical-align: top;\n",
       "    }\n",
       "\n",
       "    .dataframe thead th {\n",
       "        text-align: right;\n",
       "    }\n",
       "</style>\n",
       "<table border=\"1\" class=\"dataframe\">\n",
       "  <thead>\n",
       "    <tr style=\"text-align: right;\">\n",
       "      <th></th>\n",
       "      <th>Overall</th>\n",
       "      <th>Stratified</th>\n",
       "      <th>Random</th>\n",
       "      <th>Rand. %error</th>\n",
       "      <th>Strat. %error</th>\n",
       "    </tr>\n",
       "  </thead>\n",
       "  <tbody>\n",
       "    <tr>\n",
       "      <th>1</th>\n",
       "      <td>0.048605</td>\n",
       "      <td>0.048246</td>\n",
       "      <td>0.048246</td>\n",
       "      <td>-0.739439</td>\n",
       "      <td>-0.739439</td>\n",
       "    </tr>\n",
       "    <tr>\n",
       "      <th>2</th>\n",
       "      <td>0.092823</td>\n",
       "      <td>0.092982</td>\n",
       "      <td>0.102632</td>\n",
       "      <td>10.566610</td>\n",
       "      <td>0.171459</td>\n",
       "    </tr>\n",
       "    <tr>\n",
       "      <th>3</th>\n",
       "      <td>0.238463</td>\n",
       "      <td>0.238596</td>\n",
       "      <td>0.239474</td>\n",
       "      <td>0.423880</td>\n",
       "      <td>0.056027</td>\n",
       "    </tr>\n",
       "    <tr>\n",
       "      <th>4</th>\n",
       "      <td>0.401649</td>\n",
       "      <td>0.401754</td>\n",
       "      <td>0.384211</td>\n",
       "      <td>-4.341818</td>\n",
       "      <td>0.026136</td>\n",
       "    </tr>\n",
       "    <tr>\n",
       "      <th>5</th>\n",
       "      <td>0.218459</td>\n",
       "      <td>0.218421</td>\n",
       "      <td>0.225439</td>\n",
       "      <td>3.194744</td>\n",
       "      <td>-0.017544</td>\n",
       "    </tr>\n",
       "  </tbody>\n",
       "</table>\n",
       "</div>"
      ],
      "text/plain": [
       "    Overall  Stratified    Random  Rand. %error  Strat. %error\n",
       "1  0.048605    0.048246  0.048246     -0.739439      -0.739439\n",
       "2  0.092823    0.092982  0.102632     10.566610       0.171459\n",
       "3  0.238463    0.238596  0.239474      0.423880       0.056027\n",
       "4  0.401649    0.401754  0.384211     -4.341818       0.026136\n",
       "5  0.218459    0.218421  0.225439      3.194744      -0.017544"
      ]
     },
     "execution_count": 18,
     "metadata": {},
     "output_type": "execute_result"
    }
   ],
   "source": [
    "compare_props"
   ]
  },
  {
   "cell_type": "markdown",
   "metadata": {},
   "source": [
    "After this analysis we can now remove metascore_level so the data can be back to its original state:"
   ]
  },
  {
   "cell_type": "code",
   "execution_count": 19,
   "metadata": {
    "id": "W6X9SulWwDEA"
   },
   "outputs": [],
   "source": [
    "for set_ in (strat_train_set, strat_test_set):\n",
    "    set_.drop(\"metascore_level\", axis=1, inplace=True)"
   ]
  },
  {
   "cell_type": "markdown",
   "metadata": {
    "id": "inniv8YuwDEC"
   },
   "source": [
    "# Discover and visualize the data to gain insights"
   ]
  },
  {
   "cell_type": "markdown",
   "metadata": {},
   "source": [
    "We made sure to set up the test set in the most appropriate way possible, we can now start our further data exploration with the training set:"
   ]
  },
  {
   "cell_type": "code",
   "execution_count": 20,
   "metadata": {
    "id": "rnaA-IsywDED"
   },
   "outputs": [],
   "source": [
    "videogames = strat_train_set.copy() #create a copy so that I can play with it without harming the training set"
   ]
  },
  {
   "cell_type": "code",
   "execution_count": 21,
   "metadata": {
    "scrolled": true
   },
   "outputs": [
    {
     "data": {
      "text/plain": [
       "<AxesSubplot:xlabel='count', ylabel='genre'>"
      ]
     },
     "execution_count": 21,
     "metadata": {},
     "output_type": "execute_result"
    },
    {
     "data": {
      "image/png": "[encoded data removed]",
      "text/plain": [
       "<Figure size 504x216 with 1 Axes>"
      ]
     },
     "metadata": {
      "needs_background": "light"
     },
     "output_type": "display_data"
    }
   ],
   "source": [
    "import seaborn as sns\n",
    "import matplotlib.pyplot as plt\n",
    "top10 = videogames['genre'].value_counts()[:10].index\n",
    "\n",
    "# At locations where the genre is NOT in the top 10, \n",
    "# replace the genre with 'other'\n",
    "videogames.loc[~videogames['genre'].isin(top10), 'genre'] = 'Other'\n",
    "\n",
    "#Plot the genres \n",
    "f, ax = plt.subplots(figsize=(7, 3))\n",
    "sns.countplot(y=\"genre\", data=videogames, color=\"pink\")"
   ]
  },
  {
   "cell_type": "markdown",
   "metadata": {},
   "source": [
    "I releveled the category genre by calling all other categories not in the top 10 in a new category named \"Other\". We can see that most games are action games."
   ]
  },
  {
   "cell_type": "code",
   "execution_count": 22,
   "metadata": {},
   "outputs": [
    {
     "data": {
      "text/plain": [
       "<AxesSubplot:xlabel='count', ylabel='rating'>"
      ]
     },
     "execution_count": 22,
     "metadata": {},
     "output_type": "execute_result"
    },
    {
     "data": {
      "image/png": "[encoded data removed]",
      "text/plain": [
       "<Figure size 504x216 with 1 Axes>"
      ]
     },
     "metadata": {
      "needs_background": "light"
     },
     "output_type": "display_data"
    }
   ],
   "source": [
    "#Plot the ratings\n",
    "f, ax = plt.subplots(figsize=(7, 3))\n",
    "sns.countplot(y=\"rating\", data=videogames, color=\"orange\")"
   ]
  },
  {
   "cell_type": "markdown",
   "metadata": {},
   "source": [
    "We can see that most games are T-rated whiche means that they targetan audience of teenagers."
   ]
  },
  {
   "cell_type": "code",
   "execution_count": 23,
   "metadata": {
    "scrolled": false
   },
   "outputs": [
    {
     "data": {
      "text/plain": [
       "<AxesSubplot:xlabel='count', ylabel='platform'>"
      ]
     },
     "execution_count": 23,
     "metadata": {},
     "output_type": "execute_result"
    },
    {
     "data": {
      "image/png": "[encoded data removed]",
      "text/plain": [
       "<Figure size 504x216 with 1 Axes>"
      ]
     },
     "metadata": {
      "needs_background": "light"
     },
     "output_type": "display_data"
    }
   ],
   "source": [
    "#Want to know the most popular game genres \n",
    "#sns.catplot(x=\"user_score_level\", y=\"user_score\", hue = \"genre\" ,kind=\"bar\", data=videogames,height=8.27, aspect=11.7/8.27)\n",
    "f, ax = plt.subplots(figsize=(7, 3))\n",
    "sns.countplot(y=\"platform\", data=videogames, color=\"yellow\")"
   ]
  },
  {
   "cell_type": "markdown",
   "metadata": {},
   "source": [
    "Most games in our dataset are played on PC."
   ]
  },
  {
   "cell_type": "code",
   "execution_count": 24,
   "metadata": {},
   "outputs": [
    {
     "data": {
      "image/png": "[encoded data removed]",
      "text/plain": [
       "<Figure size 432x288 with 1 Axes>"
      ]
     },
     "metadata": {
      "needs_background": "light"
     },
     "output_type": "display_data"
    }
   ],
   "source": [
    "#total percentage of positive/neutral/negative critic scores and user scores\n",
    "df1 = videogames\n",
    "df1['total_critics'] = df1['positive_critics'] + df1['neutral_critics'] + df1['negative_critics'] \n",
    "df1['total_users'] = df1['positive_users'] + df1['neutral_users'] + df1['negative_users']\n",
    "\n",
    "#percentage of each review type\n",
    "percent_positive_reviews = [df1['positive_critics'].sum()/df1['total_critics'].sum()*100, df1['positive_users'].sum()/df1['total_users'].sum()*100]\n",
    "percent_neutral_reviews = [df1['neutral_critics'].sum()/df1['total_critics'].sum()*100, df1['neutral_users'].sum()/df1['total_users'].sum()*100]\n",
    "percent_negative_reviews = [df1['negative_critics'].sum()/df1['total_critics'].sum()*100, df1['negative_users'].sum()/df1['total_users'].sum()*100]\n",
    "\n",
    "#Creation of the chart\n",
    "x_shape = [0,1]\n",
    "x_names = ('Critics','Users')\n",
    "plt.bar(x_shape, percent_positive_reviews, color='pink', edgecolor='white', label = 'Postive reviews')\n",
    "plt.bar(x_shape, percent_neutral_reviews, bottom=percent_positive_reviews, color='orange', edgecolor='white', label = 'Neutral reviews')\n",
    "plt.bar(x_shape, percent_negative_reviews, bottom=np.add(percent_positive_reviews, percent_neutral_reviews), color='yellow', edgecolor='white', label = 'Negative reviews')\n",
    "plt.xticks(x_shape, x_names)\n",
    "plt.legend(loc='right', bbox_to_anchor=(1.45, 0.5))\n",
    "plt.show()"
   ]
  },
  {
   "cell_type": "markdown",
   "metadata": {},
   "source": [
    "We can see that in our dataset most reviews are positive. There are more neutral critics than neutral users and more negative users than negative critics. "
   ]
  },
  {
   "cell_type": "code",
   "execution_count": 25,
   "metadata": {
    "scrolled": true
   },
   "outputs": [
    {
     "data": {
      "text/plain": [
       "<seaborn.axisgrid.FacetGrid at 0x7ff5ed45e610>"
      ]
     },
     "execution_count": 25,
     "metadata": {},
     "output_type": "execute_result"
    },
    {
     "data": {
      "image/png": "[encoded data removed]",
      "text/plain": [
       "<Figure size 842.4x595.44 with 1 Axes>"
      ]
     },
     "metadata": {
      "needs_background": "light"
     },
     "output_type": "display_data"
    }
   ],
   "source": [
    "#Preferred Platforms (here we are trying to determine how videogames creators can improve the user score)\n",
    "#AVG????\n",
    "sns.catplot(x=\"platform\", y=\"user_score\", kind=\"bar\", data=videogames,height=8.27, aspect=11.7/8.27)"
   ]
  },
  {
   "cell_type": "code",
   "execution_count": 26,
   "metadata": {},
   "outputs": [
    {
     "data": {
      "text/plain": [
       "<seaborn.axisgrid.FacetGrid at 0x7ff5ed7d2710>"
      ]
     },
     "execution_count": 26,
     "metadata": {},
     "output_type": "execute_result"
    },
    {
     "data": {
      "image/png": "[encoded data removed]",
      "text/plain": [
       "<Figure size 842.4x595.44 with 1 Axes>"
      ]
     },
     "metadata": {
      "needs_background": "light"
     },
     "output_type": "display_data"
    }
   ],
   "source": [
    "sns.catplot(x=\"rating\", y=\"user_score\", kind=\"bar\", data=videogames,height=8.27, aspect=11.7/8.27)"
   ]
  },
  {
   "cell_type": "markdown",
   "metadata": {},
   "source": [
    "We are now evaluating the interaction of our numerical variables with the target variable : user_score"
   ]
  },
  {
   "cell_type": "code",
   "execution_count": 27,
   "metadata": {
    "scrolled": false
   },
   "outputs": [
    {
     "data": {
      "image/png": "[encoded data removed]",
      "text/plain": [
       "<Figure size 360x360 with 1 Axes>"
      ]
     },
     "metadata": {
      "needs_background": "light"
     },
     "output_type": "display_data"
    },
    {
     "data": {
      "image/png": "[encoded data removed]",
      "text/plain": [
       "<Figure size 360x360 with 1 Axes>"
      ]
     },
     "metadata": {
      "needs_background": "light"
     },
     "output_type": "display_data"
    },
    {
     "data": {
      "image/png": "[encoded data removed]",
      "text/plain": [
       "<Figure size 360x360 with 1 Axes>"
      ]
     },
     "metadata": {
      "needs_background": "light"
     },
     "output_type": "display_data"
    },
    {
     "data": {
      "image/png": "[encoded data removed]",
      "text/plain": [
       "<Figure size 360x360 with 1 Axes>"
      ]
     },
     "metadata": {
      "needs_background": "light"
     },
     "output_type": "display_data"
    },
    {
     "data": {
      "image/png": "[encoded data removed]",
      "text/plain": [
       "<Figure size 360x360 with 1 Axes>"
      ]
     },
     "metadata": {
      "needs_background": "light"
     },
     "output_type": "display_data"
    }
   ],
   "source": [
    "sns.relplot(x=\"metascore\", y=\"user_score\", kind=\"line\", data=videogames);\n",
    "sns.relplot(x=\"negative_critics\", y=\"user_score\", kind=\"line\", data=videogames);\n",
    "sns.relplot(x=\"positive_critics\", y=\"user_score\", kind=\"line\", data=videogames);\n",
    "sns.relplot(x=\"negative_users\", y=\"user_score\", kind=\"line\", data=videogames);\n",
    "sns.relplot(x=\"positive_users\", y=\"user_score\", kind=\"line\", data=videogames);\n"
   ]
  },
  {
   "cell_type": "markdown",
   "metadata": {},
   "source": [
    "From these visualizations we can observe that: \n",
    "\n",
    "- The higher the user score the higher the metascore and positive critics.\n",
    "- Below 25 negative critics, we can see that the higher the number of critics the lower the user score , but up to a certain point (more than 25) the user score increases significantly, which might be explained by the fact that once a certain level of popularity is earned (high user score), the number of negative reviews stops affecting the user score\n",
    "- for the positive and negative users the visualization is not quite insightful, but further analysis will help us assess their predictive power"
   ]
  },
  {
   "cell_type": "markdown",
   "metadata": {
    "id": "j2OGqozswDEF"
   },
   "source": [
    "The argument `sharex=False` fixes a display bug (the x-axis values and legend were not displayed). This is a temporary fix (see: https://github.com/pandas-dev/pandas/issues/10611 ). Thanks to Wilmer Arellano for pointing it out."
   ]
  },
  {
   "cell_type": "code",
   "execution_count": 29,
   "metadata": {
    "id": "UWjVB-5NwDEJ"
   },
   "outputs": [
    {
     "data": {
      "text/html": [
       "<div>\n",
       "<style scoped>\n",
       "    .dataframe tbody tr th:only-of-type {\n",
       "        vertical-align: middle;\n",
       "    }\n",
       "\n",
       "    .dataframe tbody tr th {\n",
       "        vertical-align: top;\n",
       "    }\n",
       "\n",
       "    .dataframe thead th {\n",
       "        text-align: right;\n",
       "    }\n",
       "</style>\n",
       "<table border=\"1\" class=\"dataframe\">\n",
       "  <thead>\n",
       "    <tr style=\"text-align: right;\">\n",
       "      <th></th>\n",
       "      <th>positive_critics</th>\n",
       "      <th>neutral_critics</th>\n",
       "      <th>negative_critics</th>\n",
       "      <th>positive_users</th>\n",
       "      <th>neutral_users</th>\n",
       "      <th>negative_users</th>\n",
       "      <th>metascore</th>\n",
       "      <th>user_score</th>\n",
       "      <th>total_critics</th>\n",
       "      <th>total_users</th>\n",
       "    </tr>\n",
       "  </thead>\n",
       "  <tbody>\n",
       "    <tr>\n",
       "      <th>positive_critics</th>\n",
       "      <td>1.000000</td>\n",
       "      <td>0.019022</td>\n",
       "      <td>-0.208825</td>\n",
       "      <td>0.492232</td>\n",
       "      <td>0.401068</td>\n",
       "      <td>0.179448</td>\n",
       "      <td>0.555423</td>\n",
       "      <td>0.333972</td>\n",
       "      <td>0.867640</td>\n",
       "      <td>0.418413</td>\n",
       "    </tr>\n",
       "    <tr>\n",
       "      <th>neutral_critics</th>\n",
       "      <td>0.019022</td>\n",
       "      <td>1.000000</td>\n",
       "      <td>0.268312</td>\n",
       "      <td>0.016638</td>\n",
       "      <td>0.139308</td>\n",
       "      <td>0.101182</td>\n",
       "      <td>-0.328020</td>\n",
       "      <td>-0.158462</td>\n",
       "      <td>0.490294</td>\n",
       "      <td>0.074763</td>\n",
       "    </tr>\n",
       "    <tr>\n",
       "      <th>negative_critics</th>\n",
       "      <td>-0.208825</td>\n",
       "      <td>0.268312</td>\n",
       "      <td>1.000000</td>\n",
       "      <td>-0.026341</td>\n",
       "      <td>0.022920</td>\n",
       "      <td>0.067696</td>\n",
       "      <td>-0.655972</td>\n",
       "      <td>-0.385940</td>\n",
       "      <td>0.089207</td>\n",
       "      <td>0.018739</td>\n",
       "    </tr>\n",
       "    <tr>\n",
       "      <th>positive_users</th>\n",
       "      <td>0.492232</td>\n",
       "      <td>0.016638</td>\n",
       "      <td>-0.026341</td>\n",
       "      <td>1.000000</td>\n",
       "      <td>0.742407</td>\n",
       "      <td>0.473914</td>\n",
       "      <td>0.236912</td>\n",
       "      <td>0.128067</td>\n",
       "      <td>0.442458</td>\n",
       "      <td>0.889199</td>\n",
       "    </tr>\n",
       "    <tr>\n",
       "      <th>neutral_users</th>\n",
       "      <td>0.401068</td>\n",
       "      <td>0.139308</td>\n",
       "      <td>0.022920</td>\n",
       "      <td>0.742407</td>\n",
       "      <td>1.000000</td>\n",
       "      <td>0.686537</td>\n",
       "      <td>0.164667</td>\n",
       "      <td>-0.021576</td>\n",
       "      <td>0.421737</td>\n",
       "      <td>0.874351</td>\n",
       "    </tr>\n",
       "    <tr>\n",
       "      <th>negative_users</th>\n",
       "      <td>0.179448</td>\n",
       "      <td>0.101182</td>\n",
       "      <td>0.067696</td>\n",
       "      <td>0.473914</td>\n",
       "      <td>0.686537</td>\n",
       "      <td>1.000000</td>\n",
       "      <td>0.051673</td>\n",
       "      <td>-0.182704</td>\n",
       "      <td>0.214617</td>\n",
       "      <td>0.818442</td>\n",
       "    </tr>\n",
       "    <tr>\n",
       "      <th>metascore</th>\n",
       "      <td>0.555423</td>\n",
       "      <td>-0.328020</td>\n",
       "      <td>-0.655972</td>\n",
       "      <td>0.236912</td>\n",
       "      <td>0.164667</td>\n",
       "      <td>0.051673</td>\n",
       "      <td>1.000000</td>\n",
       "      <td>0.538901</td>\n",
       "      <td>0.249696</td>\n",
       "      <td>0.181733</td>\n",
       "    </tr>\n",
       "    <tr>\n",
       "      <th>user_score</th>\n",
       "      <td>0.333972</td>\n",
       "      <td>-0.158462</td>\n",
       "      <td>-0.385940</td>\n",
       "      <td>0.128067</td>\n",
       "      <td>-0.021576</td>\n",
       "      <td>-0.182704</td>\n",
       "      <td>0.538901</td>\n",
       "      <td>1.000000</td>\n",
       "      <td>0.168186</td>\n",
       "      <td>-0.012383</td>\n",
       "    </tr>\n",
       "    <tr>\n",
       "      <th>total_critics</th>\n",
       "      <td>0.867640</td>\n",
       "      <td>0.490294</td>\n",
       "      <td>0.089207</td>\n",
       "      <td>0.442458</td>\n",
       "      <td>0.421737</td>\n",
       "      <td>0.214617</td>\n",
       "      <td>0.249696</td>\n",
       "      <td>0.168186</td>\n",
       "      <td>1.000000</td>\n",
       "      <td>0.408779</td>\n",
       "    </tr>\n",
       "    <tr>\n",
       "      <th>total_users</th>\n",
       "      <td>0.418413</td>\n",
       "      <td>0.074763</td>\n",
       "      <td>0.018739</td>\n",
       "      <td>0.889199</td>\n",
       "      <td>0.874351</td>\n",
       "      <td>0.818442</td>\n",
       "      <td>0.181733</td>\n",
       "      <td>-0.012383</td>\n",
       "      <td>0.408779</td>\n",
       "      <td>1.000000</td>\n",
       "    </tr>\n",
       "  </tbody>\n",
       "</table>\n",
       "</div>"
      ],
      "text/plain": [
       "                  positive_critics  neutral_critics  negative_critics  \\\n",
       "positive_critics          1.000000         0.019022         -0.208825   \n",
       "neutral_critics           0.019022         1.000000          0.268312   \n",
       "negative_critics         -0.208825         0.268312          1.000000   \n",
       "positive_users            0.492232         0.016638         -0.026341   \n",
       "neutral_users             0.401068         0.139308          0.022920   \n",
       "negative_users            0.179448         0.101182          0.067696   \n",
       "metascore                 0.555423        -0.328020         -0.655972   \n",
       "user_score                0.333972        -0.158462         -0.385940   \n",
       "total_critics             0.867640         0.490294          0.089207   \n",
       "total_users               0.418413         0.074763          0.018739   \n",
       "\n",
       "                  positive_users  neutral_users  negative_users  metascore  \\\n",
       "positive_critics        0.492232       0.401068        0.179448   0.555423   \n",
       "neutral_critics         0.016638       0.139308        0.101182  -0.328020   \n",
       "negative_critics       -0.026341       0.022920        0.067696  -0.655972   \n",
       "positive_users          1.000000       0.742407        0.473914   0.236912   \n",
       "neutral_users           0.742407       1.000000        0.686537   0.164667   \n",
       "negative_users          0.473914       0.686537        1.000000   0.051673   \n",
       "metascore               0.236912       0.164667        0.051673   1.000000   \n",
       "user_score              0.128067      -0.021576       -0.182704   0.538901   \n",
       "total_critics           0.442458       0.421737        0.214617   0.249696   \n",
       "total_users             0.889199       0.874351        0.818442   0.181733   \n",
       "\n",
       "                  user_score  total_critics  total_users  \n",
       "positive_critics    0.333972       0.867640     0.418413  \n",
       "neutral_critics    -0.158462       0.490294     0.074763  \n",
       "negative_critics   -0.385940       0.089207     0.018739  \n",
       "positive_users      0.128067       0.442458     0.889199  \n",
       "neutral_users      -0.021576       0.421737     0.874351  \n",
       "negative_users     -0.182704       0.214617     0.818442  \n",
       "metascore           0.538901       0.249696     0.181733  \n",
       "user_score          1.000000       0.168186    -0.012383  \n",
       "total_critics       0.168186       1.000000     0.408779  \n",
       "total_users        -0.012383       0.408779     1.000000  "
      ]
     },
     "execution_count": 29,
     "metadata": {},
     "output_type": "execute_result"
    }
   ],
   "source": [
    "corr_matrix = videogames.corr()\n",
    "corr_matrix"
   ]
  },
  {
   "cell_type": "code",
   "execution_count": 30,
   "metadata": {},
   "outputs": [
    {
     "data": {
      "text/plain": [
       "<AxesSubplot:>"
      ]
     },
     "execution_count": 30,
     "metadata": {},
     "output_type": "execute_result"
    },
    {
     "data": {
      "image/png": "[encoded data removed]",
      "text/plain": [
       "<Figure size 720x576 with 2 Axes>"
      ]
     },
     "metadata": {
      "needs_background": "light"
     },
     "output_type": "display_data"
    }
   ],
   "source": [
    "import seaborn as sns\n",
    "\n",
    "f, ax = plt.subplots(figsize=(10, 8))\n",
    "corr = videogames.corr()\n",
    "sns.heatmap(corr, mask=np.zeros_like(corr, dtype=np.bool), cmap=sns.diverging_palette(220, 10, as_cmap=True),\n",
    "            square=True, ax=ax)\n"
   ]
  },
  {
   "cell_type": "code",
   "execution_count": 31,
   "metadata": {
    "id": "7LXI1dESwDEK",
    "outputId": "2ee547d9-2193-4bd4-e5a2-9468c806aa48",
    "scrolled": true
   },
   "outputs": [
    {
     "data": {
      "text/plain": [
       "user_score          1.000000\n",
       "metascore           0.538901\n",
       "positive_critics    0.333972\n",
       "total_critics       0.168186\n",
       "positive_users      0.128067\n",
       "total_users        -0.012383\n",
       "neutral_users      -0.021576\n",
       "neutral_critics    -0.158462\n",
       "negative_users     -0.182704\n",
       "negative_critics   -0.385940\n",
       "Name: user_score, dtype: float64"
      ]
     },
     "execution_count": 31,
     "metadata": {},
     "output_type": "execute_result"
    }
   ],
   "source": [
    "corr_matrix[\"user_score\"].sort_values(ascending=False)"
   ]
  },
  {
   "cell_type": "markdown",
   "metadata": {},
   "source": [
    "The correlation coefficient ranges from –1 to 1. When it is close to 1, it means that there is a strong positive correlation; for example, the median house value tends to go up when the median income goes up. When the coefficient is close to –1, it means that there is a strong negative correlation.We decided for our plot below to only visualize the variables that show the most correlation with the user_score."
   ]
  },
  {
   "cell_type": "code",
   "execution_count": 32,
   "metadata": {
    "id": "HgJzoBh1wDEK",
    "outputId": "07698ba6-7952-426e-92d9-ff5cb063e636",
    "scrolled": true
   },
   "outputs": [
    {
     "name": "stdout",
     "output_type": "stream",
     "text": [
      "Saving figure scatter_matrix_plot\n"
     ]
    },
    {
     "data": {
      "image/png": "[encoded data removed]",
      "text/plain": [
       "<Figure size 864x576 with 25 Axes>"
      ]
     },
     "metadata": {
      "needs_background": "light"
     },
     "output_type": "display_data"
    }
   ],
   "source": [
    "# from pandas.tools.plotting import scatter_matrix # For older versions of Pandas\n",
    "from pandas.plotting import scatter_matrix\n",
    "\n",
    "attributes = [\"user_score\", \"metascore\", \"positive_critics\",\n",
    "              \"negative_users\",\"negative_critics\"]\n",
    "scatter_matrix(videogames[attributes], figsize=(12, 8))\n",
    "save_fig(\"scatter_matrix_plot\")"
   ]
  },
  {
   "cell_type": "markdown",
   "metadata": {},
   "source": [
    "Our analysis shows that the most promising attribute to predict the user score value is the metascore, so let’s zoom in on their correlation scatterplot:"
   ]
  },
  {
   "cell_type": "code",
   "execution_count": 33,
   "metadata": {
    "id": "6GdsqT1QwDEL",
    "outputId": "88cc2f45-46bc-4769-feff-45ca31d03a31"
   },
   "outputs": [
    {
     "name": "stdout",
     "output_type": "stream",
     "text": [
      "Saving figure metascore_vs_user_score_scatterplot\n"
     ]
    },
    {
     "data": {
      "image/png": "[encoded data removed]",
      "text/plain": [
       "<Figure size 432x288 with 1 Axes>"
      ]
     },
     "metadata": {
      "needs_background": "light"
     },
     "output_type": "display_data"
    }
   ],
   "source": [
    "videogames.plot(kind=\"scatter\", x=\"metascore\", y=\"user_score\",\n",
    "             alpha=0.1)\n",
    "plt.axis([0, 100, 0, 100])\n",
    "save_fig(\"metascore_vs_user_score_scatterplot\")"
   ]
  },
  {
   "cell_type": "markdown",
   "metadata": {},
   "source": [
    "The plot reveals that the correlation is indeed very strong.We can see a clear trend and more data concentration around a user score of 60-80 and a similar metascore range(The average score from all Metacritic critics).\n",
    "We will proceed to some feature engineering by adding the variable year of release based on the date.\n"
   ]
  },
  {
   "cell_type": "code",
   "execution_count": 34,
   "metadata": {},
   "outputs": [],
   "source": [
    "videogames['Release_Year'] = videogames['release_date'].str[-4:]\n",
    "#change the data type of year to numerical\n",
    "videogames['Release_Year']= pd.to_numeric(videogames['Release_Year'])"
   ]
  },
  {
   "cell_type": "markdown",
   "metadata": {},
   "source": [
    "Additionally, the total count of critics per game might be an interesting predictor of user score:"
   ]
  },
  {
   "cell_type": "code",
   "execution_count": 35,
   "metadata": {},
   "outputs": [],
   "source": [
    "videogames['critics_total'] = videogames['positive_critics']+videogames['neutral_critics']+videogames['negative_critics']\n"
   ]
  },
  {
   "cell_type": "code",
   "execution_count": 36,
   "metadata": {},
   "outputs": [
    {
     "name": "stdout",
     "output_type": "stream",
     "text": [
      "<class 'pandas.core.frame.DataFrame'>\n",
      "Int64Index: 4559 entries, 2727 to 4748\n",
      "Data columns (total 19 columns):\n",
      " #   Column            Non-Null Count  Dtype \n",
      "---  ------            --------------  ----- \n",
      " 0   game              4559 non-null   object\n",
      " 1   platform          4559 non-null   object\n",
      " 2   developer         4546 non-null   object\n",
      " 3   genre             4559 non-null   object\n",
      " 4   number_players    2443 non-null   object\n",
      " 5   rating            3536 non-null   object\n",
      " 6   release_date      4559 non-null   object\n",
      " 7   positive_critics  4559 non-null   int64 \n",
      " 8   neutral_critics   4559 non-null   int64 \n",
      " 9   negative_critics  4559 non-null   int64 \n",
      " 10  positive_users    4559 non-null   int64 \n",
      " 11  neutral_users     4559 non-null   int64 \n",
      " 12  negative_users    4559 non-null   int64 \n",
      " 13  metascore         4559 non-null   int64 \n",
      " 14  user_score        4559 non-null   int64 \n",
      " 15  total_critics     4559 non-null   int64 \n",
      " 16  total_users       4559 non-null   int64 \n",
      " 17  Release_Year      4559 non-null   int64 \n",
      " 18  critics_total     4559 non-null   int64 \n",
      "dtypes: int64(12), object(7)\n",
      "memory usage: 841.4+ KB\n"
     ]
    }
   ],
   "source": [
    "videogames.info()"
   ]
  },
  {
   "cell_type": "markdown",
   "metadata": {},
   "source": [
    "I will rerun a correlation matrix to see if the year and/or the total number of critics is a great potential predictor of user score: "
   ]
  },
  {
   "cell_type": "code",
   "execution_count": 37,
   "metadata": {
    "scrolled": true
   },
   "outputs": [
    {
     "data": {
      "text/plain": [
       "user_score          1.000000\n",
       "metascore           0.538901\n",
       "positive_critics    0.333972\n",
       "total_critics       0.168186\n",
       "critics_total       0.168186\n",
       "positive_users      0.128067\n",
       "total_users        -0.012383\n",
       "neutral_users      -0.021576\n",
       "Release_Year       -0.062040\n",
       "neutral_critics    -0.158462\n",
       "negative_users     -0.182704\n",
       "negative_critics   -0.385940\n",
       "Name: user_score, dtype: float64"
      ]
     },
     "execution_count": 37,
     "metadata": {},
     "output_type": "execute_result"
    }
   ],
   "source": [
    "corr_matrix = videogames.corr()\n",
    "corr_matrix[\"user_score\"].sort_values(ascending=False)\n"
   ]
  },
  {
   "cell_type": "markdown",
   "metadata": {},
   "source": [
    "We can see that the release year is weakly correlated the user score. Moreover, the total number of critics is more correlated than the critics counted seperately except for the positive critics that have a high correlation."
   ]
  },
  {
   "cell_type": "markdown",
   "metadata": {
    "id": "HPxbH6APwDEO"
   },
   "source": [
    "# Prepare the data for Machine Learning algorithms"
   ]
  },
  {
   "cell_type": "markdown",
   "metadata": {},
   "source": [
    "We can now prepare the data for our machine learning algorithm. "
   ]
  },
  {
   "cell_type": "code",
   "execution_count": 85,
   "metadata": {
    "id": "DIdI7rkjwDEO",
    "scrolled": true
   },
   "outputs": [
    {
     "data": {
      "text/html": [
       "<div>\n",
       "<style scoped>\n",
       "    .dataframe tbody tr th:only-of-type {\n",
       "        vertical-align: middle;\n",
       "    }\n",
       "\n",
       "    .dataframe tbody tr th {\n",
       "        vertical-align: top;\n",
       "    }\n",
       "\n",
       "    .dataframe thead th {\n",
       "        text-align: right;\n",
       "    }\n",
       "</style>\n",
       "<table border=\"1\" class=\"dataframe\">\n",
       "  <thead>\n",
       "    <tr style=\"text-align: right;\">\n",
       "      <th></th>\n",
       "      <th>game</th>\n",
       "      <th>platform</th>\n",
       "      <th>developer</th>\n",
       "      <th>genre</th>\n",
       "      <th>number_players</th>\n",
       "      <th>rating</th>\n",
       "      <th>positive_critics</th>\n",
       "      <th>neutral_critics</th>\n",
       "      <th>negative_critics</th>\n",
       "      <th>positive_users</th>\n",
       "      <th>neutral_users</th>\n",
       "      <th>negative_users</th>\n",
       "      <th>metascore</th>\n",
       "      <th>user_score</th>\n",
       "      <th>critics_total</th>\n",
       "      <th>Release_Year</th>\n",
       "    </tr>\n",
       "  </thead>\n",
       "  <tbody>\n",
       "    <tr>\n",
       "      <th>2727</th>\n",
       "      <td>Rhythm Heaven Megamix</td>\n",
       "      <td>3DS</td>\n",
       "      <td>Nintendo</td>\n",
       "      <td>Action</td>\n",
       "      <td>NaN</td>\n",
       "      <td>E</td>\n",
       "      <td>32</td>\n",
       "      <td>5</td>\n",
       "      <td>0</td>\n",
       "      <td>10</td>\n",
       "      <td>3</td>\n",
       "      <td>1</td>\n",
       "      <td>83</td>\n",
       "      <td>83</td>\n",
       "      <td>37</td>\n",
       "      <td>2016</td>\n",
       "    </tr>\n",
       "    <tr>\n",
       "      <th>186</th>\n",
       "      <td>Harvest Moon 3D: The Tale of Two Towns</td>\n",
       "      <td>3DS</td>\n",
       "      <td>Marvelous Entertainment</td>\n",
       "      <td>Strategy</td>\n",
       "      <td>NaN</td>\n",
       "      <td>E</td>\n",
       "      <td>2</td>\n",
       "      <td>12</td>\n",
       "      <td>0</td>\n",
       "      <td>5</td>\n",
       "      <td>1</td>\n",
       "      <td>5</td>\n",
       "      <td>63</td>\n",
       "      <td>64</td>\n",
       "      <td>14</td>\n",
       "      <td>2011</td>\n",
       "    </tr>\n",
       "    <tr>\n",
       "      <th>5695</th>\n",
       "      <td>Fimbul</td>\n",
       "      <td>PS4</td>\n",
       "      <td>Zaxis</td>\n",
       "      <td>Action Adventure</td>\n",
       "      <td>No Online Multiplayer</td>\n",
       "      <td>NaN</td>\n",
       "      <td>0</td>\n",
       "      <td>7</td>\n",
       "      <td>2</td>\n",
       "      <td>1</td>\n",
       "      <td>0</td>\n",
       "      <td>0</td>\n",
       "      <td>52</td>\n",
       "      <td>18</td>\n",
       "      <td>9</td>\n",
       "      <td>2019</td>\n",
       "    </tr>\n",
       "    <tr>\n",
       "      <th>3502</th>\n",
       "      <td>Bus Simulator 16</td>\n",
       "      <td>PC</td>\n",
       "      <td>Still Alive Studios</td>\n",
       "      <td>Simulation</td>\n",
       "      <td>NaN</td>\n",
       "      <td>NaN</td>\n",
       "      <td>0</td>\n",
       "      <td>4</td>\n",
       "      <td>4</td>\n",
       "      <td>1</td>\n",
       "      <td>2</td>\n",
       "      <td>2</td>\n",
       "      <td>46</td>\n",
       "      <td>60</td>\n",
       "      <td>8</td>\n",
       "      <td>2016</td>\n",
       "    </tr>\n",
       "    <tr>\n",
       "      <th>461</th>\n",
       "      <td>The Sims 3 Seasons</td>\n",
       "      <td>PC</td>\n",
       "      <td>The Sims Studio</td>\n",
       "      <td>Simulation</td>\n",
       "      <td>NaN</td>\n",
       "      <td>T</td>\n",
       "      <td>8</td>\n",
       "      <td>4</td>\n",
       "      <td>0</td>\n",
       "      <td>4</td>\n",
       "      <td>0</td>\n",
       "      <td>0</td>\n",
       "      <td>73</td>\n",
       "      <td>75</td>\n",
       "      <td>12</td>\n",
       "      <td>2012</td>\n",
       "    </tr>\n",
       "    <tr>\n",
       "      <th>...</th>\n",
       "      <td>...</td>\n",
       "      <td>...</td>\n",
       "      <td>...</td>\n",
       "      <td>...</td>\n",
       "      <td>...</td>\n",
       "      <td>...</td>\n",
       "      <td>...</td>\n",
       "      <td>...</td>\n",
       "      <td>...</td>\n",
       "      <td>...</td>\n",
       "      <td>...</td>\n",
       "      <td>...</td>\n",
       "      <td>...</td>\n",
       "      <td>...</td>\n",
       "      <td>...</td>\n",
       "      <td>...</td>\n",
       "    </tr>\n",
       "    <tr>\n",
       "      <th>5236</th>\n",
       "      <td>Danger Zone 2</td>\n",
       "      <td>PS4</td>\n",
       "      <td>Three Fields Entertainment</td>\n",
       "      <td>Racing</td>\n",
       "      <td>No Online Multiplayer</td>\n",
       "      <td>E10+</td>\n",
       "      <td>5</td>\n",
       "      <td>12</td>\n",
       "      <td>0</td>\n",
       "      <td>1</td>\n",
       "      <td>2</td>\n",
       "      <td>0</td>\n",
       "      <td>68</td>\n",
       "      <td>41</td>\n",
       "      <td>17</td>\n",
       "      <td>2018</td>\n",
       "    </tr>\n",
       "    <tr>\n",
       "      <th>3749</th>\n",
       "      <td>The Elder Scrolls: Legends</td>\n",
       "      <td>PC</td>\n",
       "      <td>Bethesda Softworks, Dire Wolf Digital</td>\n",
       "      <td>Miscellaneous</td>\n",
       "      <td>Online Multiplayer</td>\n",
       "      <td>NaN</td>\n",
       "      <td>15</td>\n",
       "      <td>2</td>\n",
       "      <td>0</td>\n",
       "      <td>10</td>\n",
       "      <td>8</td>\n",
       "      <td>14</td>\n",
       "      <td>80</td>\n",
       "      <td>57</td>\n",
       "      <td>17</td>\n",
       "      <td>2017</td>\n",
       "    </tr>\n",
       "    <tr>\n",
       "      <th>5562</th>\n",
       "      <td>Unruly Heroes</td>\n",
       "      <td>PC</td>\n",
       "      <td>Magic Design Studios</td>\n",
       "      <td>Action</td>\n",
       "      <td>Online Multiplayer</td>\n",
       "      <td>NaN</td>\n",
       "      <td>8</td>\n",
       "      <td>1</td>\n",
       "      <td>0</td>\n",
       "      <td>2</td>\n",
       "      <td>1</td>\n",
       "      <td>0</td>\n",
       "      <td>82</td>\n",
       "      <td>61</td>\n",
       "      <td>9</td>\n",
       "      <td>2019</td>\n",
       "    </tr>\n",
       "    <tr>\n",
       "      <th>390</th>\n",
       "      <td>Deadlight</td>\n",
       "      <td>PC</td>\n",
       "      <td>Tequila Works</td>\n",
       "      <td>Action</td>\n",
       "      <td>NaN</td>\n",
       "      <td>M</td>\n",
       "      <td>5</td>\n",
       "      <td>2</td>\n",
       "      <td>0</td>\n",
       "      <td>34</td>\n",
       "      <td>50</td>\n",
       "      <td>26</td>\n",
       "      <td>78</td>\n",
       "      <td>74</td>\n",
       "      <td>7</td>\n",
       "      <td>2012</td>\n",
       "    </tr>\n",
       "    <tr>\n",
       "      <th>4748</th>\n",
       "      <td>South Park: The Fractured But Whole</td>\n",
       "      <td>Switch</td>\n",
       "      <td>Ubisoft San Francisco</td>\n",
       "      <td>Role-Playing</td>\n",
       "      <td>No Online Multiplayer</td>\n",
       "      <td>M</td>\n",
       "      <td>29</td>\n",
       "      <td>3</td>\n",
       "      <td>0</td>\n",
       "      <td>12</td>\n",
       "      <td>4</td>\n",
       "      <td>3</td>\n",
       "      <td>80</td>\n",
       "      <td>79</td>\n",
       "      <td>32</td>\n",
       "      <td>2018</td>\n",
       "    </tr>\n",
       "  </tbody>\n",
       "</table>\n",
       "<p>4559 rows × 16 columns</p>\n",
       "</div>"
      ],
      "text/plain": [
       "                                        game platform  \\\n",
       "2727                   Rhythm Heaven Megamix      3DS   \n",
       "186   Harvest Moon 3D: The Tale of Two Towns      3DS   \n",
       "5695                                  Fimbul      PS4   \n",
       "3502                        Bus Simulator 16       PC   \n",
       "461                       The Sims 3 Seasons       PC   \n",
       "...                                      ...      ...   \n",
       "5236                           Danger Zone 2      PS4   \n",
       "3749              The Elder Scrolls: Legends       PC   \n",
       "5562                           Unruly Heroes       PC   \n",
       "390                                Deadlight       PC   \n",
       "4748     South Park: The Fractured But Whole   Switch   \n",
       "\n",
       "                                  developer             genre  \\\n",
       "2727                               Nintendo            Action   \n",
       "186                 Marvelous Entertainment          Strategy   \n",
       "5695                                  Zaxis  Action Adventure   \n",
       "3502                    Still Alive Studios        Simulation   \n",
       "461                         The Sims Studio        Simulation   \n",
       "...                                     ...               ...   \n",
       "5236             Three Fields Entertainment            Racing   \n",
       "3749  Bethesda Softworks, Dire Wolf Digital     Miscellaneous   \n",
       "5562                   Magic Design Studios            Action   \n",
       "390                           Tequila Works            Action   \n",
       "4748                  Ubisoft San Francisco      Role-Playing   \n",
       "\n",
       "             number_players rating  positive_critics  neutral_critics  \\\n",
       "2727                    NaN      E                32                5   \n",
       "186                     NaN      E                 2               12   \n",
       "5695  No Online Multiplayer    NaN                 0                7   \n",
       "3502                    NaN    NaN                 0                4   \n",
       "461                     NaN      T                 8                4   \n",
       "...                     ...    ...               ...              ...   \n",
       "5236  No Online Multiplayer   E10+                 5               12   \n",
       "3749     Online Multiplayer    NaN                15                2   \n",
       "5562     Online Multiplayer    NaN                 8                1   \n",
       "390                     NaN      M                 5                2   \n",
       "4748  No Online Multiplayer      M                29                3   \n",
       "\n",
       "      negative_critics  positive_users  neutral_users  negative_users  \\\n",
       "2727                 0              10              3               1   \n",
       "186                  0               5              1               5   \n",
       "5695                 2               1              0               0   \n",
       "3502                 4               1              2               2   \n",
       "461                  0               4              0               0   \n",
       "...                ...             ...            ...             ...   \n",
       "5236                 0               1              2               0   \n",
       "3749                 0              10              8              14   \n",
       "5562                 0               2              1               0   \n",
       "390                  0              34             50              26   \n",
       "4748                 0              12              4               3   \n",
       "\n",
       "      metascore  user_score  critics_total  Release_Year  \n",
       "2727         83          83             37          2016  \n",
       "186          63          64             14          2011  \n",
       "5695         52          18              9          2019  \n",
       "3502         46          60              8          2016  \n",
       "461          73          75             12          2012  \n",
       "...         ...         ...            ...           ...  \n",
       "5236         68          41             17          2018  \n",
       "3749         80          57             17          2017  \n",
       "5562         82          61              9          2019  \n",
       "390          78          74              7          2012  \n",
       "4748         80          79             32          2018  \n",
       "\n",
       "[4559 rows x 16 columns]"
      ]
     },
     "execution_count": 85,
     "metadata": {},
     "output_type": "execute_result"
    }
   ],
   "source": [
    "videogames = strat_train_set\n",
    "#videogames = strat_train_set.drop(\"user_score\", axis=1) # drop labels for training set\n",
    "#videogames_labels = strat_train_set[\"user_score\"].copy()\n",
    "#I am adding the critics total based on my previous analysis\n",
    "videogames['critics_total'] = videogames['positive_critics']+videogames['neutral_critics']+videogames['negative_critics']\n",
    "videogames['Release_Year'] = videogames['release_date'].str[-4:]\n",
    "videogames['Release_Year']= pd.to_numeric(videogames['Release_Year'])\n",
    "videogames = videogames.drop(\"release_date\", axis = 1)#we drop the date column since we have the year now \n",
    "\n",
    "videogames"
   ]
  },
  {
   "cell_type": "code",
   "execution_count": 86,
   "metadata": {
    "id": "usutHwP0wDEP",
    "outputId": "d1318eb8-44b8-408a-eabb-72115b7d5db2",
    "scrolled": true
   },
   "outputs": [
    {
     "data": {
      "text/html": [
       "<div>\n",
       "<style scoped>\n",
       "    .dataframe tbody tr th:only-of-type {\n",
       "        vertical-align: middle;\n",
       "    }\n",
       "\n",
       "    .dataframe tbody tr th {\n",
       "        vertical-align: top;\n",
       "    }\n",
       "\n",
       "    .dataframe thead th {\n",
       "        text-align: right;\n",
       "    }\n",
       "</style>\n",
       "<table border=\"1\" class=\"dataframe\">\n",
       "  <thead>\n",
       "    <tr style=\"text-align: right;\">\n",
       "      <th></th>\n",
       "      <th>game</th>\n",
       "      <th>platform</th>\n",
       "      <th>developer</th>\n",
       "      <th>genre</th>\n",
       "      <th>number_players</th>\n",
       "      <th>rating</th>\n",
       "      <th>positive_critics</th>\n",
       "      <th>neutral_critics</th>\n",
       "      <th>negative_critics</th>\n",
       "      <th>positive_users</th>\n",
       "      <th>neutral_users</th>\n",
       "      <th>negative_users</th>\n",
       "      <th>metascore</th>\n",
       "      <th>user_score</th>\n",
       "      <th>critics_total</th>\n",
       "      <th>Release_Year</th>\n",
       "    </tr>\n",
       "  </thead>\n",
       "  <tbody>\n",
       "    <tr>\n",
       "      <th>2727</th>\n",
       "      <td>Rhythm Heaven Megamix</td>\n",
       "      <td>3DS</td>\n",
       "      <td>Nintendo</td>\n",
       "      <td>Action</td>\n",
       "      <td>NaN</td>\n",
       "      <td>E</td>\n",
       "      <td>32</td>\n",
       "      <td>5</td>\n",
       "      <td>0</td>\n",
       "      <td>10</td>\n",
       "      <td>3</td>\n",
       "      <td>1</td>\n",
       "      <td>83</td>\n",
       "      <td>83</td>\n",
       "      <td>37</td>\n",
       "      <td>2016</td>\n",
       "    </tr>\n",
       "    <tr>\n",
       "      <th>186</th>\n",
       "      <td>Harvest Moon 3D: The Tale of Two Towns</td>\n",
       "      <td>3DS</td>\n",
       "      <td>Marvelous Entertainment</td>\n",
       "      <td>Strategy</td>\n",
       "      <td>NaN</td>\n",
       "      <td>E</td>\n",
       "      <td>2</td>\n",
       "      <td>12</td>\n",
       "      <td>0</td>\n",
       "      <td>5</td>\n",
       "      <td>1</td>\n",
       "      <td>5</td>\n",
       "      <td>63</td>\n",
       "      <td>64</td>\n",
       "      <td>14</td>\n",
       "      <td>2011</td>\n",
       "    </tr>\n",
       "    <tr>\n",
       "      <th>5695</th>\n",
       "      <td>Fimbul</td>\n",
       "      <td>PS4</td>\n",
       "      <td>Zaxis</td>\n",
       "      <td>Action Adventure</td>\n",
       "      <td>No Online Multiplayer</td>\n",
       "      <td>NaN</td>\n",
       "      <td>0</td>\n",
       "      <td>7</td>\n",
       "      <td>2</td>\n",
       "      <td>1</td>\n",
       "      <td>0</td>\n",
       "      <td>0</td>\n",
       "      <td>52</td>\n",
       "      <td>18</td>\n",
       "      <td>9</td>\n",
       "      <td>2019</td>\n",
       "    </tr>\n",
       "    <tr>\n",
       "      <th>3502</th>\n",
       "      <td>Bus Simulator 16</td>\n",
       "      <td>PC</td>\n",
       "      <td>Still Alive Studios</td>\n",
       "      <td>Simulation</td>\n",
       "      <td>NaN</td>\n",
       "      <td>NaN</td>\n",
       "      <td>0</td>\n",
       "      <td>4</td>\n",
       "      <td>4</td>\n",
       "      <td>1</td>\n",
       "      <td>2</td>\n",
       "      <td>2</td>\n",
       "      <td>46</td>\n",
       "      <td>60</td>\n",
       "      <td>8</td>\n",
       "      <td>2016</td>\n",
       "    </tr>\n",
       "    <tr>\n",
       "      <th>461</th>\n",
       "      <td>The Sims 3 Seasons</td>\n",
       "      <td>PC</td>\n",
       "      <td>The Sims Studio</td>\n",
       "      <td>Simulation</td>\n",
       "      <td>NaN</td>\n",
       "      <td>T</td>\n",
       "      <td>8</td>\n",
       "      <td>4</td>\n",
       "      <td>0</td>\n",
       "      <td>4</td>\n",
       "      <td>0</td>\n",
       "      <td>0</td>\n",
       "      <td>73</td>\n",
       "      <td>75</td>\n",
       "      <td>12</td>\n",
       "      <td>2012</td>\n",
       "    </tr>\n",
       "  </tbody>\n",
       "</table>\n",
       "</div>"
      ],
      "text/plain": [
       "                                        game platform  \\\n",
       "2727                   Rhythm Heaven Megamix      3DS   \n",
       "186   Harvest Moon 3D: The Tale of Two Towns      3DS   \n",
       "5695                                  Fimbul      PS4   \n",
       "3502                        Bus Simulator 16       PC   \n",
       "461                       The Sims 3 Seasons       PC   \n",
       "\n",
       "                    developer             genre         number_players rating  \\\n",
       "2727                 Nintendo            Action                    NaN      E   \n",
       "186   Marvelous Entertainment          Strategy                    NaN      E   \n",
       "5695                    Zaxis  Action Adventure  No Online Multiplayer    NaN   \n",
       "3502      Still Alive Studios        Simulation                    NaN    NaN   \n",
       "461           The Sims Studio        Simulation                    NaN      T   \n",
       "\n",
       "      positive_critics  neutral_critics  negative_critics  positive_users  \\\n",
       "2727                32                5                 0              10   \n",
       "186                  2               12                 0               5   \n",
       "5695                 0                7                 2               1   \n",
       "3502                 0                4                 4               1   \n",
       "461                  8                4                 0               4   \n",
       "\n",
       "      neutral_users  negative_users  metascore  user_score  critics_total  \\\n",
       "2727              3               1         83          83             37   \n",
       "186               1               5         63          64             14   \n",
       "5695              0               0         52          18              9   \n",
       "3502              2               2         46          60              8   \n",
       "461               0               0         73          75             12   \n",
       "\n",
       "      Release_Year  \n",
       "2727          2016  \n",
       "186           2011  \n",
       "5695          2019  \n",
       "3502          2016  \n",
       "461           2012  "
      ]
     },
     "execution_count": 86,
     "metadata": {},
     "output_type": "execute_result"
    }
   ],
   "source": [
    "sample_incomplete_rows = videogames[videogames.isnull().any(axis=1)].count()\n",
    "sample_incomplete_rows = videogames[videogames.isnull().any(axis=1)].head()\n",
    "sample_incomplete_rows"
   ]
  },
  {
   "cell_type": "markdown",
   "metadata": {},
   "source": [
    "We are now going through data preprocessing. It would be goo to start by taking care of the NA values. There are many rows countaining NA values (more than 2K), therefore we need to proceed strategically. We will first remove the number of players  and the ratings column that contains a lot of NA values (see table below):"
   ]
  },
  {
   "cell_type": "code",
   "execution_count": 87,
   "metadata": {
    "scrolled": false
   },
   "outputs": [
    {
     "data": {
      "text/plain": [
       "game                   0\n",
       "platform               0\n",
       "developer             13\n",
       "genre                  5\n",
       "number_players      2116\n",
       "rating              1023\n",
       "positive_critics       0\n",
       "neutral_critics        0\n",
       "negative_critics       0\n",
       "positive_users         0\n",
       "neutral_users          0\n",
       "negative_users         0\n",
       "metascore              0\n",
       "user_score             0\n",
       "critics_total          0\n",
       "Release_Year           0\n",
       "dtype: int64"
      ]
     },
     "execution_count": 87,
     "metadata": {},
     "output_type": "execute_result"
    }
   ],
   "source": [
    "videogames.isna().sum()"
   ]
  },
  {
   "cell_type": "code",
   "execution_count": 88,
   "metadata": {},
   "outputs": [],
   "source": [
    "videogames = videogames.drop(\"number_players\", axis = 1)#we drop the column number_players \n",
    "videogames = videogames.drop(\"rating\", axis = 1)#we drop the column rating"
   ]
  },
  {
   "cell_type": "code",
   "execution_count": 89,
   "metadata": {
    "scrolled": true
   },
   "outputs": [
    {
     "data": {
      "text/plain": [
       "game                 0\n",
       "platform             0\n",
       "developer           13\n",
       "genre                5\n",
       "positive_critics     0\n",
       "neutral_critics      0\n",
       "negative_critics     0\n",
       "positive_users       0\n",
       "neutral_users        0\n",
       "negative_users       0\n",
       "metascore            0\n",
       "user_score           0\n",
       "critics_total        0\n",
       "Release_Year         0\n",
       "dtype: int64"
      ]
     },
     "execution_count": 89,
     "metadata": {},
     "output_type": "execute_result"
    }
   ],
   "source": [
    "videogames.isna().sum()"
   ]
  },
  {
   "cell_type": "markdown",
   "metadata": {},
   "source": [
    "To go further in our NA processing we can now remove the rows with a NA developer and NA genre because it concerns a very small portion of our data."
   ]
  },
  {
   "cell_type": "code",
   "execution_count": 90,
   "metadata": {},
   "outputs": [],
   "source": [
    "videogames = videogames.dropna(subset=[\"developer\"])  \n",
    "videogames = videogames.dropna(subset=[\"genre\"]) "
   ]
  },
  {
   "cell_type": "code",
   "execution_count": 91,
   "metadata": {
    "scrolled": false
   },
   "outputs": [
    {
     "data": {
      "text/plain": [
       "game                0\n",
       "platform            0\n",
       "developer           0\n",
       "genre               0\n",
       "positive_critics    0\n",
       "neutral_critics     0\n",
       "negative_critics    0\n",
       "positive_users      0\n",
       "neutral_users       0\n",
       "negative_users      0\n",
       "metascore           0\n",
       "user_score          0\n",
       "critics_total       0\n",
       "Release_Year        0\n",
       "dtype: int64"
      ]
     },
     "execution_count": 91,
     "metadata": {},
     "output_type": "execute_result"
    }
   ],
   "source": [
    "videogames.isna().sum()"
   ]
  },
  {
   "cell_type": "markdown",
   "metadata": {},
   "source": [
    "We can see that the NA problem is solved !"
   ]
  },
  {
   "cell_type": "code",
   "execution_count": 92,
   "metadata": {
    "scrolled": true
   },
   "outputs": [
    {
     "name": "stdout",
     "output_type": "stream",
     "text": [
      "<class 'pandas.core.frame.DataFrame'>\n",
      "Int64Index: 4546 entries, 2727 to 4748\n",
      "Data columns (total 14 columns):\n",
      " #   Column            Non-Null Count  Dtype \n",
      "---  ------            --------------  ----- \n",
      " 0   game              4546 non-null   object\n",
      " 1   platform          4546 non-null   object\n",
      " 2   developer         4546 non-null   object\n",
      " 3   genre             4546 non-null   object\n",
      " 4   positive_critics  4546 non-null   int64 \n",
      " 5   neutral_critics   4546 non-null   int64 \n",
      " 6   negative_critics  4546 non-null   int64 \n",
      " 7   positive_users    4546 non-null   int64 \n",
      " 8   neutral_users     4546 non-null   int64 \n",
      " 9   negative_users    4546 non-null   int64 \n",
      " 10  metascore         4546 non-null   int64 \n",
      " 11  user_score        4546 non-null   int64 \n",
      " 12  critics_total     4546 non-null   int64 \n",
      " 13  Release_Year      4546 non-null   int64 \n",
      "dtypes: int64(10), object(4)\n",
      "memory usage: 532.7+ KB\n"
     ]
    }
   ],
   "source": [
    "videogames.info() #To double check that all counts are the same!"
   ]
  },
  {
   "cell_type": "code",
   "execution_count": 93,
   "metadata": {
    "scrolled": true
   },
   "outputs": [
    {
     "data": {
      "text/html": [
       "<div>\n",
       "<style scoped>\n",
       "    .dataframe tbody tr th:only-of-type {\n",
       "        vertical-align: middle;\n",
       "    }\n",
       "\n",
       "    .dataframe tbody tr th {\n",
       "        vertical-align: top;\n",
       "    }\n",
       "\n",
       "    .dataframe thead th {\n",
       "        text-align: right;\n",
       "    }\n",
       "</style>\n",
       "<table border=\"1\" class=\"dataframe\">\n",
       "  <thead>\n",
       "    <tr style=\"text-align: right;\">\n",
       "      <th></th>\n",
       "      <th>positive_critics</th>\n",
       "      <th>neutral_critics</th>\n",
       "      <th>negative_critics</th>\n",
       "      <th>positive_users</th>\n",
       "      <th>neutral_users</th>\n",
       "      <th>negative_users</th>\n",
       "      <th>metascore</th>\n",
       "      <th>user_score</th>\n",
       "      <th>critics_total</th>\n",
       "      <th>Release_Year</th>\n",
       "    </tr>\n",
       "  </thead>\n",
       "  <tbody>\n",
       "    <tr>\n",
       "      <th>2727</th>\n",
       "      <td>32</td>\n",
       "      <td>5</td>\n",
       "      <td>0</td>\n",
       "      <td>10</td>\n",
       "      <td>3</td>\n",
       "      <td>1</td>\n",
       "      <td>83</td>\n",
       "      <td>83</td>\n",
       "      <td>37</td>\n",
       "      <td>2016</td>\n",
       "    </tr>\n",
       "    <tr>\n",
       "      <th>186</th>\n",
       "      <td>2</td>\n",
       "      <td>12</td>\n",
       "      <td>0</td>\n",
       "      <td>5</td>\n",
       "      <td>1</td>\n",
       "      <td>5</td>\n",
       "      <td>63</td>\n",
       "      <td>64</td>\n",
       "      <td>14</td>\n",
       "      <td>2011</td>\n",
       "    </tr>\n",
       "    <tr>\n",
       "      <th>5695</th>\n",
       "      <td>0</td>\n",
       "      <td>7</td>\n",
       "      <td>2</td>\n",
       "      <td>1</td>\n",
       "      <td>0</td>\n",
       "      <td>0</td>\n",
       "      <td>52</td>\n",
       "      <td>18</td>\n",
       "      <td>9</td>\n",
       "      <td>2019</td>\n",
       "    </tr>\n",
       "    <tr>\n",
       "      <th>3502</th>\n",
       "      <td>0</td>\n",
       "      <td>4</td>\n",
       "      <td>4</td>\n",
       "      <td>1</td>\n",
       "      <td>2</td>\n",
       "      <td>2</td>\n",
       "      <td>46</td>\n",
       "      <td>60</td>\n",
       "      <td>8</td>\n",
       "      <td>2016</td>\n",
       "    </tr>\n",
       "    <tr>\n",
       "      <th>461</th>\n",
       "      <td>8</td>\n",
       "      <td>4</td>\n",
       "      <td>0</td>\n",
       "      <td>4</td>\n",
       "      <td>0</td>\n",
       "      <td>0</td>\n",
       "      <td>73</td>\n",
       "      <td>75</td>\n",
       "      <td>12</td>\n",
       "      <td>2012</td>\n",
       "    </tr>\n",
       "    <tr>\n",
       "      <th>...</th>\n",
       "      <td>...</td>\n",
       "      <td>...</td>\n",
       "      <td>...</td>\n",
       "      <td>...</td>\n",
       "      <td>...</td>\n",
       "      <td>...</td>\n",
       "      <td>...</td>\n",
       "      <td>...</td>\n",
       "      <td>...</td>\n",
       "      <td>...</td>\n",
       "    </tr>\n",
       "    <tr>\n",
       "      <th>5236</th>\n",
       "      <td>5</td>\n",
       "      <td>12</td>\n",
       "      <td>0</td>\n",
       "      <td>1</td>\n",
       "      <td>2</td>\n",
       "      <td>0</td>\n",
       "      <td>68</td>\n",
       "      <td>41</td>\n",
       "      <td>17</td>\n",
       "      <td>2018</td>\n",
       "    </tr>\n",
       "    <tr>\n",
       "      <th>3749</th>\n",
       "      <td>15</td>\n",
       "      <td>2</td>\n",
       "      <td>0</td>\n",
       "      <td>10</td>\n",
       "      <td>8</td>\n",
       "      <td>14</td>\n",
       "      <td>80</td>\n",
       "      <td>57</td>\n",
       "      <td>17</td>\n",
       "      <td>2017</td>\n",
       "    </tr>\n",
       "    <tr>\n",
       "      <th>5562</th>\n",
       "      <td>8</td>\n",
       "      <td>1</td>\n",
       "      <td>0</td>\n",
       "      <td>2</td>\n",
       "      <td>1</td>\n",
       "      <td>0</td>\n",
       "      <td>82</td>\n",
       "      <td>61</td>\n",
       "      <td>9</td>\n",
       "      <td>2019</td>\n",
       "    </tr>\n",
       "    <tr>\n",
       "      <th>390</th>\n",
       "      <td>5</td>\n",
       "      <td>2</td>\n",
       "      <td>0</td>\n",
       "      <td>34</td>\n",
       "      <td>50</td>\n",
       "      <td>26</td>\n",
       "      <td>78</td>\n",
       "      <td>74</td>\n",
       "      <td>7</td>\n",
       "      <td>2012</td>\n",
       "    </tr>\n",
       "    <tr>\n",
       "      <th>4748</th>\n",
       "      <td>29</td>\n",
       "      <td>3</td>\n",
       "      <td>0</td>\n",
       "      <td>12</td>\n",
       "      <td>4</td>\n",
       "      <td>3</td>\n",
       "      <td>80</td>\n",
       "      <td>79</td>\n",
       "      <td>32</td>\n",
       "      <td>2018</td>\n",
       "    </tr>\n",
       "  </tbody>\n",
       "</table>\n",
       "<p>4546 rows × 10 columns</p>\n",
       "</div>"
      ],
      "text/plain": [
       "      positive_critics  neutral_critics  negative_critics  positive_users  \\\n",
       "2727                32                5                 0              10   \n",
       "186                  2               12                 0               5   \n",
       "5695                 0                7                 2               1   \n",
       "3502                 0                4                 4               1   \n",
       "461                  8                4                 0               4   \n",
       "...                ...              ...               ...             ...   \n",
       "5236                 5               12                 0               1   \n",
       "3749                15                2                 0              10   \n",
       "5562                 8                1                 0               2   \n",
       "390                  5                2                 0              34   \n",
       "4748                29                3                 0              12   \n",
       "\n",
       "      neutral_users  negative_users  metascore  user_score  critics_total  \\\n",
       "2727              3               1         83          83             37   \n",
       "186               1               5         63          64             14   \n",
       "5695              0               0         52          18              9   \n",
       "3502              2               2         46          60              8   \n",
       "461               0               0         73          75             12   \n",
       "...             ...             ...        ...         ...            ...   \n",
       "5236              2               0         68          41             17   \n",
       "3749              8              14         80          57             17   \n",
       "5562              1               0         82          61              9   \n",
       "390              50              26         78          74              7   \n",
       "4748              4               3         80          79             32   \n",
       "\n",
       "      Release_Year  \n",
       "2727          2016  \n",
       "186           2011  \n",
       "5695          2019  \n",
       "3502          2016  \n",
       "461           2012  \n",
       "...            ...  \n",
       "5236          2018  \n",
       "3749          2017  \n",
       "5562          2019  \n",
       "390           2012  \n",
       "4748          2018  \n",
       "\n",
       "[4546 rows x 10 columns]"
      ]
     },
     "execution_count": 93,
     "metadata": {},
     "output_type": "execute_result"
    }
   ],
   "source": [
    "videogames_num = videogames.select_dtypes(include=[np.int])\n",
    "videogames_num"
   ]
  },
  {
   "cell_type": "code",
   "execution_count": null,
   "metadata": {},
   "outputs": [],
   "source": [
    "from sklearn.pipeline import Pipeline\n",
    "from sklearn.preprocessing import StandardScaler\n",
    "from sklearn.impute import SimpleImputer\n",
    "\n",
    "num_pipeline = Pipeline([\n",
    "        ('imputer', SimpleImputer(strategy=\"median\")),\n",
    "        ('std_scaler', StandardScaler()),\n",
    "    \n",
    "    ])\n",
    "y_train = videogames_num[\"user_score\"]\n",
    "X_train_num = videogames_num.drop(\"user_score\", axis = 1)"
   ]
  },
  {
   "cell_type": "markdown",
   "metadata": {
    "id": "AUALO-jdwDEU"
   },
   "source": [
    "We can now can proceed to the data preprocessing of our categorical variables. "
   ]
  },
  {
   "cell_type": "code",
   "execution_count": 95,
   "metadata": {
    "scrolled": true
   },
   "outputs": [
    {
     "data": {
      "text/html": [
       "<div>\n",
       "<style scoped>\n",
       "    .dataframe tbody tr th:only-of-type {\n",
       "        vertical-align: middle;\n",
       "    }\n",
       "\n",
       "    .dataframe tbody tr th {\n",
       "        vertical-align: top;\n",
       "    }\n",
       "\n",
       "    .dataframe thead th {\n",
       "        text-align: right;\n",
       "    }\n",
       "</style>\n",
       "<table border=\"1\" class=\"dataframe\">\n",
       "  <thead>\n",
       "    <tr style=\"text-align: right;\">\n",
       "      <th></th>\n",
       "      <th>game</th>\n",
       "      <th>platform</th>\n",
       "      <th>developer</th>\n",
       "      <th>genre</th>\n",
       "    </tr>\n",
       "  </thead>\n",
       "  <tbody>\n",
       "    <tr>\n",
       "      <th>2727</th>\n",
       "      <td>Rhythm Heaven Megamix</td>\n",
       "      <td>3DS</td>\n",
       "      <td>Nintendo</td>\n",
       "      <td>Action</td>\n",
       "    </tr>\n",
       "    <tr>\n",
       "      <th>186</th>\n",
       "      <td>Harvest Moon 3D: The Tale of Two Towns</td>\n",
       "      <td>3DS</td>\n",
       "      <td>Marvelous Entertainment</td>\n",
       "      <td>Strategy</td>\n",
       "    </tr>\n",
       "    <tr>\n",
       "      <th>5695</th>\n",
       "      <td>Fimbul</td>\n",
       "      <td>PS4</td>\n",
       "      <td>Zaxis</td>\n",
       "      <td>Action Adventure</td>\n",
       "    </tr>\n",
       "    <tr>\n",
       "      <th>3502</th>\n",
       "      <td>Bus Simulator 16</td>\n",
       "      <td>PC</td>\n",
       "      <td>Still Alive Studios</td>\n",
       "      <td>Simulation</td>\n",
       "    </tr>\n",
       "    <tr>\n",
       "      <th>461</th>\n",
       "      <td>The Sims 3 Seasons</td>\n",
       "      <td>PC</td>\n",
       "      <td>The Sims Studio</td>\n",
       "      <td>Simulation</td>\n",
       "    </tr>\n",
       "    <tr>\n",
       "      <th>3068</th>\n",
       "      <td>Dragon Ball: Xenoverse 2</td>\n",
       "      <td>XONE</td>\n",
       "      <td>Dimps Corporation</td>\n",
       "      <td>Action</td>\n",
       "    </tr>\n",
       "    <tr>\n",
       "      <th>1917</th>\n",
       "      <td>The Vanishing of Ethan Carter</td>\n",
       "      <td>PS4</td>\n",
       "      <td>The Astronauts</td>\n",
       "      <td>Miscellaneous</td>\n",
       "    </tr>\n",
       "    <tr>\n",
       "      <th>886</th>\n",
       "      <td>Just Dance 2014</td>\n",
       "      <td>WIIU</td>\n",
       "      <td>Ubisoft</td>\n",
       "      <td>Action</td>\n",
       "    </tr>\n",
       "    <tr>\n",
       "      <th>4911</th>\n",
       "      <td>Wizard of Legend</td>\n",
       "      <td>Switch</td>\n",
       "      <td>Contingent99</td>\n",
       "      <td>Role-Playing</td>\n",
       "    </tr>\n",
       "    <tr>\n",
       "      <th>1706</th>\n",
       "      <td>Bound by Flame</td>\n",
       "      <td>PC</td>\n",
       "      <td>Spiders</td>\n",
       "      <td>Action RPG</td>\n",
       "    </tr>\n",
       "  </tbody>\n",
       "</table>\n",
       "</div>"
      ],
      "text/plain": [
       "                                        game platform  \\\n",
       "2727                   Rhythm Heaven Megamix      3DS   \n",
       "186   Harvest Moon 3D: The Tale of Two Towns      3DS   \n",
       "5695                                  Fimbul      PS4   \n",
       "3502                        Bus Simulator 16       PC   \n",
       "461                       The Sims 3 Seasons       PC   \n",
       "3068                Dragon Ball: Xenoverse 2     XONE   \n",
       "1917           The Vanishing of Ethan Carter      PS4   \n",
       "886                          Just Dance 2014     WIIU   \n",
       "4911                        Wizard of Legend   Switch   \n",
       "1706                          Bound by Flame       PC   \n",
       "\n",
       "                    developer             genre  \n",
       "2727                 Nintendo            Action  \n",
       "186   Marvelous Entertainment          Strategy  \n",
       "5695                    Zaxis  Action Adventure  \n",
       "3502      Still Alive Studios        Simulation  \n",
       "461           The Sims Studio        Simulation  \n",
       "3068        Dimps Corporation            Action  \n",
       "1917           The Astronauts     Miscellaneous  \n",
       "886                   Ubisoft            Action  \n",
       "4911             Contingent99      Role-Playing  \n",
       "1706                  Spiders        Action RPG  "
      ]
     },
     "execution_count": 95,
     "metadata": {},
     "output_type": "execute_result"
    }
   ],
   "source": [
    "videogames_cat = videogames.select_dtypes(include=[np.object])\n",
    "videogames_cat.head(10)"
   ]
  },
  {
   "cell_type": "markdown",
   "metadata": {},
   "source": [
    "From this view above we can figure that removing the game name and the release full date is common sense."
   ]
  },
  {
   "cell_type": "code",
   "execution_count": 96,
   "metadata": {
    "scrolled": true
   },
   "outputs": [
    {
     "data": {
      "text/html": [
       "<div>\n",
       "<style scoped>\n",
       "    .dataframe tbody tr th:only-of-type {\n",
       "        vertical-align: middle;\n",
       "    }\n",
       "\n",
       "    .dataframe tbody tr th {\n",
       "        vertical-align: top;\n",
       "    }\n",
       "\n",
       "    .dataframe thead th {\n",
       "        text-align: right;\n",
       "    }\n",
       "</style>\n",
       "<table border=\"1\" class=\"dataframe\">\n",
       "  <thead>\n",
       "    <tr style=\"text-align: right;\">\n",
       "      <th></th>\n",
       "      <th>platform</th>\n",
       "      <th>genre</th>\n",
       "    </tr>\n",
       "  </thead>\n",
       "  <tbody>\n",
       "    <tr>\n",
       "      <th>2727</th>\n",
       "      <td>3DS</td>\n",
       "      <td>Action</td>\n",
       "    </tr>\n",
       "    <tr>\n",
       "      <th>186</th>\n",
       "      <td>3DS</td>\n",
       "      <td>Strategy</td>\n",
       "    </tr>\n",
       "    <tr>\n",
       "      <th>5695</th>\n",
       "      <td>PS4</td>\n",
       "      <td>Action Adventure</td>\n",
       "    </tr>\n",
       "    <tr>\n",
       "      <th>3502</th>\n",
       "      <td>PC</td>\n",
       "      <td>Simulation</td>\n",
       "    </tr>\n",
       "    <tr>\n",
       "      <th>461</th>\n",
       "      <td>PC</td>\n",
       "      <td>Simulation</td>\n",
       "    </tr>\n",
       "    <tr>\n",
       "      <th>...</th>\n",
       "      <td>...</td>\n",
       "      <td>...</td>\n",
       "    </tr>\n",
       "    <tr>\n",
       "      <th>5236</th>\n",
       "      <td>PS4</td>\n",
       "      <td>Racing</td>\n",
       "    </tr>\n",
       "    <tr>\n",
       "      <th>3749</th>\n",
       "      <td>PC</td>\n",
       "      <td>Miscellaneous</td>\n",
       "    </tr>\n",
       "    <tr>\n",
       "      <th>5562</th>\n",
       "      <td>PC</td>\n",
       "      <td>Action</td>\n",
       "    </tr>\n",
       "    <tr>\n",
       "      <th>390</th>\n",
       "      <td>PC</td>\n",
       "      <td>Action</td>\n",
       "    </tr>\n",
       "    <tr>\n",
       "      <th>4748</th>\n",
       "      <td>Switch</td>\n",
       "      <td>Role-Playing</td>\n",
       "    </tr>\n",
       "  </tbody>\n",
       "</table>\n",
       "<p>4546 rows × 2 columns</p>\n",
       "</div>"
      ],
      "text/plain": [
       "     platform             genre\n",
       "2727      3DS            Action\n",
       "186       3DS          Strategy\n",
       "5695      PS4  Action Adventure\n",
       "3502       PC        Simulation\n",
       "461        PC        Simulation\n",
       "...       ...               ...\n",
       "5236      PS4            Racing\n",
       "3749       PC     Miscellaneous\n",
       "5562       PC            Action\n",
       "390        PC            Action\n",
       "4748   Switch      Role-Playing\n",
       "\n",
       "[4546 rows x 2 columns]"
      ]
     },
     "execution_count": 96,
     "metadata": {},
     "output_type": "execute_result"
    }
   ],
   "source": [
    "videogames_cat = videogames_cat.drop(\"game\", axis = 1)#we drop the game name because it is a unique key for each row \n",
    "videogames_cat = videogames_cat.drop(\"developer\", axis = 1)#we drop the game name because it is a unique key for each row \n",
    "\n",
    "videogames_cat"
   ]
  },
  {
   "cell_type": "code",
   "execution_count": 97,
   "metadata": {
    "scrolled": true
   },
   "outputs": [
    {
     "data": {
      "text/html": [
       "<div>\n",
       "<style scoped>\n",
       "    .dataframe tbody tr th:only-of-type {\n",
       "        vertical-align: middle;\n",
       "    }\n",
       "\n",
       "    .dataframe tbody tr th {\n",
       "        vertical-align: top;\n",
       "    }\n",
       "\n",
       "    .dataframe thead th {\n",
       "        text-align: right;\n",
       "    }\n",
       "</style>\n",
       "<table border=\"1\" class=\"dataframe\">\n",
       "  <thead>\n",
       "    <tr style=\"text-align: right;\">\n",
       "      <th></th>\n",
       "      <th>positive_critics</th>\n",
       "      <th>neutral_critics</th>\n",
       "      <th>negative_critics</th>\n",
       "      <th>positive_users</th>\n",
       "      <th>neutral_users</th>\n",
       "      <th>negative_users</th>\n",
       "      <th>metascore</th>\n",
       "      <th>critics_total</th>\n",
       "      <th>Release_Year</th>\n",
       "      <th>platform</th>\n",
       "      <th>genre</th>\n",
       "    </tr>\n",
       "  </thead>\n",
       "  <tbody>\n",
       "    <tr>\n",
       "      <th>2727</th>\n",
       "      <td>32</td>\n",
       "      <td>5</td>\n",
       "      <td>0</td>\n",
       "      <td>10</td>\n",
       "      <td>3</td>\n",
       "      <td>1</td>\n",
       "      <td>83</td>\n",
       "      <td>37</td>\n",
       "      <td>2016</td>\n",
       "      <td>3DS</td>\n",
       "      <td>Action</td>\n",
       "    </tr>\n",
       "    <tr>\n",
       "      <th>186</th>\n",
       "      <td>2</td>\n",
       "      <td>12</td>\n",
       "      <td>0</td>\n",
       "      <td>5</td>\n",
       "      <td>1</td>\n",
       "      <td>5</td>\n",
       "      <td>63</td>\n",
       "      <td>14</td>\n",
       "      <td>2011</td>\n",
       "      <td>3DS</td>\n",
       "      <td>Strategy</td>\n",
       "    </tr>\n",
       "    <tr>\n",
       "      <th>5695</th>\n",
       "      <td>0</td>\n",
       "      <td>7</td>\n",
       "      <td>2</td>\n",
       "      <td>1</td>\n",
       "      <td>0</td>\n",
       "      <td>0</td>\n",
       "      <td>52</td>\n",
       "      <td>9</td>\n",
       "      <td>2019</td>\n",
       "      <td>PS4</td>\n",
       "      <td>Action Adventure</td>\n",
       "    </tr>\n",
       "    <tr>\n",
       "      <th>3502</th>\n",
       "      <td>0</td>\n",
       "      <td>4</td>\n",
       "      <td>4</td>\n",
       "      <td>1</td>\n",
       "      <td>2</td>\n",
       "      <td>2</td>\n",
       "      <td>46</td>\n",
       "      <td>8</td>\n",
       "      <td>2016</td>\n",
       "      <td>PC</td>\n",
       "      <td>Simulation</td>\n",
       "    </tr>\n",
       "    <tr>\n",
       "      <th>461</th>\n",
       "      <td>8</td>\n",
       "      <td>4</td>\n",
       "      <td>0</td>\n",
       "      <td>4</td>\n",
       "      <td>0</td>\n",
       "      <td>0</td>\n",
       "      <td>73</td>\n",
       "      <td>12</td>\n",
       "      <td>2012</td>\n",
       "      <td>PC</td>\n",
       "      <td>Simulation</td>\n",
       "    </tr>\n",
       "    <tr>\n",
       "      <th>...</th>\n",
       "      <td>...</td>\n",
       "      <td>...</td>\n",
       "      <td>...</td>\n",
       "      <td>...</td>\n",
       "      <td>...</td>\n",
       "      <td>...</td>\n",
       "      <td>...</td>\n",
       "      <td>...</td>\n",
       "      <td>...</td>\n",
       "      <td>...</td>\n",
       "      <td>...</td>\n",
       "    </tr>\n",
       "    <tr>\n",
       "      <th>5236</th>\n",
       "      <td>5</td>\n",
       "      <td>12</td>\n",
       "      <td>0</td>\n",
       "      <td>1</td>\n",
       "      <td>2</td>\n",
       "      <td>0</td>\n",
       "      <td>68</td>\n",
       "      <td>17</td>\n",
       "      <td>2018</td>\n",
       "      <td>PS4</td>\n",
       "      <td>Racing</td>\n",
       "    </tr>\n",
       "    <tr>\n",
       "      <th>3749</th>\n",
       "      <td>15</td>\n",
       "      <td>2</td>\n",
       "      <td>0</td>\n",
       "      <td>10</td>\n",
       "      <td>8</td>\n",
       "      <td>14</td>\n",
       "      <td>80</td>\n",
       "      <td>17</td>\n",
       "      <td>2017</td>\n",
       "      <td>PC</td>\n",
       "      <td>Miscellaneous</td>\n",
       "    </tr>\n",
       "    <tr>\n",
       "      <th>5562</th>\n",
       "      <td>8</td>\n",
       "      <td>1</td>\n",
       "      <td>0</td>\n",
       "      <td>2</td>\n",
       "      <td>1</td>\n",
       "      <td>0</td>\n",
       "      <td>82</td>\n",
       "      <td>9</td>\n",
       "      <td>2019</td>\n",
       "      <td>PC</td>\n",
       "      <td>Action</td>\n",
       "    </tr>\n",
       "    <tr>\n",
       "      <th>390</th>\n",
       "      <td>5</td>\n",
       "      <td>2</td>\n",
       "      <td>0</td>\n",
       "      <td>34</td>\n",
       "      <td>50</td>\n",
       "      <td>26</td>\n",
       "      <td>78</td>\n",
       "      <td>7</td>\n",
       "      <td>2012</td>\n",
       "      <td>PC</td>\n",
       "      <td>Action</td>\n",
       "    </tr>\n",
       "    <tr>\n",
       "      <th>4748</th>\n",
       "      <td>29</td>\n",
       "      <td>3</td>\n",
       "      <td>0</td>\n",
       "      <td>12</td>\n",
       "      <td>4</td>\n",
       "      <td>3</td>\n",
       "      <td>80</td>\n",
       "      <td>32</td>\n",
       "      <td>2018</td>\n",
       "      <td>Switch</td>\n",
       "      <td>Role-Playing</td>\n",
       "    </tr>\n",
       "  </tbody>\n",
       "</table>\n",
       "<p>4546 rows × 11 columns</p>\n",
       "</div>"
      ],
      "text/plain": [
       "      positive_critics  neutral_critics  negative_critics  positive_users  \\\n",
       "2727                32                5                 0              10   \n",
       "186                  2               12                 0               5   \n",
       "5695                 0                7                 2               1   \n",
       "3502                 0                4                 4               1   \n",
       "461                  8                4                 0               4   \n",
       "...                ...              ...               ...             ...   \n",
       "5236                 5               12                 0               1   \n",
       "3749                15                2                 0              10   \n",
       "5562                 8                1                 0               2   \n",
       "390                  5                2                 0              34   \n",
       "4748                29                3                 0              12   \n",
       "\n",
       "      neutral_users  negative_users  metascore  critics_total  Release_Year  \\\n",
       "2727              3               1         83             37          2016   \n",
       "186               1               5         63             14          2011   \n",
       "5695              0               0         52              9          2019   \n",
       "3502              2               2         46              8          2016   \n",
       "461               0               0         73             12          2012   \n",
       "...             ...             ...        ...            ...           ...   \n",
       "5236              2               0         68             17          2018   \n",
       "3749              8              14         80             17          2017   \n",
       "5562              1               0         82              9          2019   \n",
       "390              50              26         78              7          2012   \n",
       "4748              4               3         80             32          2018   \n",
       "\n",
       "     platform             genre  \n",
       "2727      3DS            Action  \n",
       "186       3DS          Strategy  \n",
       "5695      PS4  Action Adventure  \n",
       "3502       PC        Simulation  \n",
       "461        PC        Simulation  \n",
       "...       ...               ...  \n",
       "5236      PS4            Racing  \n",
       "3749       PC     Miscellaneous  \n",
       "5562       PC            Action  \n",
       "390        PC            Action  \n",
       "4748   Switch      Role-Playing  \n",
       "\n",
       "[4546 rows x 11 columns]"
      ]
     },
     "execution_count": 97,
     "metadata": {},
     "output_type": "execute_result"
    }
   ],
   "source": [
    "videogames2 = pd.concat([X_train_num, videogames_cat], axis = 1)\n",
    "videogames2"
   ]
  },
  {
   "cell_type": "markdown",
   "metadata": {},
   "source": [
    "It is important to fit the scalers to the training data only, not to the full dataset (including the test set). Only then can you use them to transform the training set and the test set (and new data).Now that we have our training set ready for modelling we just need to standard scale since our features have different scales. But first, we will seperate the predictors and dependant variable."
   ]
  },
  {
   "cell_type": "code",
   "execution_count": null,
   "metadata": {
    "scrolled": true
   },
   "outputs": [],
   "source": [
    "from sklearn.compose import ColumnTransformer\n",
    "from sklearn.preprocessing import OneHotEncoder\n",
    "\n",
    "num_attribs = list(X_train_num)\n",
    "cat_attribs = list(videogames_cat)\n",
    "\n",
    "full_pipeline = ColumnTransformer([\n",
    "        (\"num\", num_pipeline, num_attribs),\n",
    "        (\"cat\", OneHotEncoder(), cat_attribs),\n",
    "    ])\n",
    "\n",
    "videogames_prepared = full_pipeline.fit_transform(videogames2)\n",
    "videogames_prepared "
   ]
  },
  {
   "cell_type": "code",
   "execution_count": 100,
   "metadata": {
    "id": "as2aVtrowDEc",
    "outputId": "9c4dbe69-564c-4ee7-e784-023522aeeb06",
    "scrolled": true
   },
   "outputs": [
    {
     "data": {
      "text/plain": [
       "(4546, 66)"
      ]
     },
     "execution_count": 100,
     "metadata": {},
     "output_type": "execute_result"
    }
   ],
   "source": [
    "videogames_prepared.shape"
   ]
  },
  {
   "cell_type": "markdown",
   "metadata": {
    "id": "lcox-rOUwDEe"
   },
   "source": [
    "# Select and train a model "
   ]
  },
  {
   "cell_type": "code",
   "execution_count": 101,
   "metadata": {
    "id": "YXXatI1uwDEe",
    "outputId": "f595b5e5-5d1d-4fc9-ede5-9349ee6e7e84"
   },
   "outputs": [
    {
     "data": {
      "text/plain": [
       "LinearRegression(copy_X=True, fit_intercept=True, n_jobs=None, normalize=False)"
      ]
     },
     "execution_count": 101,
     "metadata": {},
     "output_type": "execute_result"
    }
   ],
   "source": [
    "from sklearn.linear_model import LinearRegression\n",
    "\n",
    "lin_reg = LinearRegression()\n",
    "lin_reg.fit(videogames_prepared, y_train)"
   ]
  },
  {
   "cell_type": "code",
   "execution_count": 102,
   "metadata": {
    "scrolled": true
   },
   "outputs": [
    {
     "data": {
      "text/plain": [
       "array([  0.48382173,   0.31051059,  -0.85928109,   1.90312611,\n",
       "        -1.32844971,  -2.97487117,   6.33492671,   0.42833432,\n",
       "        -1.5403052 ,   1.18740377,  -1.80770314,  -3.98576944,\n",
       "         3.93970065,   2.62706631,   2.16379814,  -4.12449629,\n",
       "         6.86487845,  18.62618754,  -0.23097388,   1.4300084 ,\n",
       "        -0.85587745,   1.45017626,  10.04200082, -23.52153231,\n",
       "        11.75147723,   4.98594629,  -6.44834633,  11.03168119,\n",
       "        -3.44848833,   8.08914629,   3.19599684,  -7.52625851,\n",
       "        -0.2086505 ,  -8.64279961,  -4.56203752,   0.99432755,\n",
       "        -0.11412171,   3.93618091,   1.78435861,   2.09671989,\n",
       "         0.63340487,   5.01881883,   1.25318633,   0.65341741,\n",
       "         3.09140675,  -3.42823258,   4.36383311,  -3.26163012,\n",
       "         0.41185511,  -0.96939864,   1.576224  ,   2.7104071 ,\n",
       "         1.76449778,   1.81507618,   4.73986154, -12.46937882,\n",
       "        -1.50450373,  -8.1517901 ,   0.36115998,   7.10788304,\n",
       "        -5.07896677,  -4.86965154,   3.12300736, -14.28189053,\n",
       "        -8.3292156 ,  -6.99938109])"
      ]
     },
     "execution_count": 102,
     "metadata": {},
     "output_type": "execute_result"
    }
   ],
   "source": [
    "lin_reg.coef_"
   ]
  },
  {
   "cell_type": "code",
   "execution_count": 103,
   "metadata": {
    "id": "_3TOUhWNwDEe",
    "outputId": "8088d638-7483-4e95-d1f9-f8f8cb90ee9f",
    "scrolled": true
   },
   "outputs": [
    {
     "name": "stdout",
     "output_type": "stream",
     "text": [
      "Predictions: [77.0442387  68.56369782 51.51040488 48.60280939 68.71502558]\n"
     ]
    }
   ],
   "source": [
    "# let's try the full preprocessing pipeline on a few training instances\n",
    "some_data = videogames2.iloc[:5]\n",
    "some_labels = y_train.iloc[:5]\n",
    "some_data_prepared = full_pipeline.transform(some_data)\n",
    "print(\"Predictions:\",lin_reg.predict(some_data_prepared))\n"
   ]
  },
  {
   "cell_type": "markdown",
   "metadata": {
    "id": "-oinijyYwDEf"
   },
   "source": [
    "Compare against the actual values:"
   ]
  },
  {
   "cell_type": "code",
   "execution_count": 104,
   "metadata": {
    "id": "KkXkF5_lwDEf",
    "outputId": "04ce96f4-0544-41ea-98ad-e40d6c899109",
    "scrolled": false
   },
   "outputs": [
    {
     "name": "stdout",
     "output_type": "stream",
     "text": [
      "Labels: [83, 64, 18, 60, 75]\n"
     ]
    }
   ],
   "source": [
    "print(\"Labels:\", list(some_labels))"
   ]
  },
  {
   "cell_type": "markdown",
   "metadata": {},
   "source": [
    "We can see here that our predictions are not too bad, let's gain more insight with the mean squared error..."
   ]
  },
  {
   "cell_type": "code",
   "execution_count": 105,
   "metadata": {
    "id": "l0pG31l6wDEg",
    "outputId": "74971181-56e8-4e71-dd54-e2e99fa67f4e"
   },
   "outputs": [
    {
     "data": {
      "text/plain": [
       "10.123967468275863"
      ]
     },
     "execution_count": 105,
     "metadata": {},
     "output_type": "execute_result"
    }
   ],
   "source": [
    "from sklearn.metrics import mean_squared_error\n",
    "\n",
    "videogames_predictions = lin_reg.predict(videogames_prepared)\n",
    "lin_mse = mean_squared_error(y_train, videogames_predictions)\n",
    "lin_rmse = np.sqrt(lin_mse)\n",
    "lin_rmse"
   ]
  },
  {
   "cell_type": "code",
   "execution_count": 106,
   "metadata": {
    "id": "lbR2nxqNwDEg",
    "outputId": "441cf07e-8f35-40fb-f28f-72b2f018c3ec"
   },
   "outputs": [
    {
     "data": {
      "text/plain": [
       "7.3910532160256395"
      ]
     },
     "execution_count": 106,
     "metadata": {},
     "output_type": "execute_result"
    }
   ],
   "source": [
    "from sklearn.metrics import mean_absolute_error\n",
    "\n",
    "lin_mae = mean_absolute_error(y_train, videogames_predictions)\n",
    "lin_mae"
   ]
  },
  {
   "cell_type": "code",
   "execution_count": 107,
   "metadata": {
    "id": "JlzdjijXwDEh",
    "outputId": "6b727592-2205-4944-d85b-dde99f7c387c"
   },
   "outputs": [
    {
     "data": {
      "text/plain": [
       "DecisionTreeRegressor(ccp_alpha=0.0, criterion='mse', max_depth=None,\n",
       "                      max_features=None, max_leaf_nodes=None,\n",
       "                      min_impurity_decrease=0.0, min_impurity_split=None,\n",
       "                      min_samples_leaf=1, min_samples_split=2,\n",
       "                      min_weight_fraction_leaf=0.0, presort='deprecated',\n",
       "                      random_state=42, splitter='best')"
      ]
     },
     "execution_count": 107,
     "metadata": {},
     "output_type": "execute_result"
    }
   ],
   "source": [
    "from sklearn.tree import DecisionTreeRegressor\n",
    "\n",
    "tree_reg = DecisionTreeRegressor(random_state=42)\n",
    "tree_reg.fit(videogames_prepared, y_train)"
   ]
  },
  {
   "cell_type": "code",
   "execution_count": 108,
   "metadata": {
    "id": "ZooGD-BBwDEh",
    "outputId": "da3dc3c6-a2c7-4ed1-b8bb-83d41f535f68"
   },
   "outputs": [
    {
     "data": {
      "text/plain": [
       "0.29364885908463356"
      ]
     },
     "execution_count": 108,
     "metadata": {},
     "output_type": "execute_result"
    }
   ],
   "source": [
    "videogames_predictions = tree_reg.predict(videogames_prepared)\n",
    "tree_mse = mean_squared_error(y_train, videogames_predictions)\n",
    "tree_rmse = np.sqrt(tree_mse)\n",
    "tree_rmse"
   ]
  },
  {
   "cell_type": "markdown",
   "metadata": {
    "id": "Zvg-lnyEwDEh"
   },
   "source": [
    "# Fine-tune your model"
   ]
  },
  {
   "cell_type": "code",
   "execution_count": 109,
   "metadata": {
    "id": "wBW_F-zKwDEh"
   },
   "outputs": [],
   "source": [
    "from sklearn.model_selection import cross_val_score\n",
    "\n",
    "scores = cross_val_score(tree_reg, videogames_prepared, y_train,\n",
    "                         scoring=\"neg_mean_squared_error\", cv=10)\n",
    "tree_rmse_scores = np.sqrt(-scores)"
   ]
  },
  {
   "cell_type": "code",
   "execution_count": 110,
   "metadata": {
    "id": "t0WSrvI-wDEi",
    "outputId": "21b8cf73-b24f-4d84-9046-754c89a0ecca"
   },
   "outputs": [
    {
     "name": "stdout",
     "output_type": "stream",
     "text": [
      "Scores: [10.67615192 10.96818576 11.64672288 11.31613649 10.74284838 12.44336621\n",
      " 11.10720685 12.27995753 11.44610047 11.09192666]\n",
      "Mean: 11.371860313622756\n",
      "Standard deviation: 0.5699083476825663\n"
     ]
    }
   ],
   "source": [
    "def display_scores(scores):\n",
    "    print(\"Scores:\", scores)\n",
    "    print(\"Mean:\", scores.mean())\n",
    "    print(\"Standard deviation:\", scores.std())\n",
    "\n",
    "display_scores(tree_rmse_scores)"
   ]
  },
  {
   "cell_type": "code",
   "execution_count": 111,
   "metadata": {
    "id": "cRbj2jG6wDEi",
    "outputId": "bcad2a99-1c8c-4a07-a1ed-dd840c4da91d"
   },
   "outputs": [
    {
     "name": "stdout",
     "output_type": "stream",
     "text": [
      "Scores: [10.0954325  10.1762419  10.28820139 10.62130533 10.09542474 10.44922959\n",
      " 10.24292868 11.31099401  9.85942471  9.85170024]\n",
      "Mean: 10.299088309432602\n",
      "Standard deviation: 0.4055980431560788\n"
     ]
    }
   ],
   "source": [
    "lin_scores = cross_val_score(lin_reg, videogames_prepared, y_train,\n",
    "                             scoring=\"neg_mean_squared_error\", cv=10)\n",
    "lin_rmse_scores = np.sqrt(-lin_scores)\n",
    "display_scores(lin_rmse_scores)"
   ]
  },
  {
   "cell_type": "markdown",
   "metadata": {
    "id": "Y_mT-cxEwDEi"
   },
   "source": [
    "**Note**: we specify `n_estimators=100` to be future-proof since the default value is going to change to 100 in Scikit-Learn 0.22 (for simplicity, this is not shown in the book)."
   ]
  },
  {
   "cell_type": "code",
   "execution_count": 112,
   "metadata": {
    "id": "oaKMd7H6wDEi",
    "outputId": "e009fbbb-d5dc-4d03-ec81-ba992721ccd8"
   },
   "outputs": [
    {
     "data": {
      "text/plain": [
       "RandomForestRegressor(bootstrap=True, ccp_alpha=0.0, criterion='mse',\n",
       "                      max_depth=None, max_features='auto', max_leaf_nodes=None,\n",
       "                      max_samples=None, min_impurity_decrease=0.0,\n",
       "                      min_impurity_split=None, min_samples_leaf=1,\n",
       "                      min_samples_split=2, min_weight_fraction_leaf=0.0,\n",
       "                      n_estimators=100, n_jobs=None, oob_score=False,\n",
       "                      random_state=42, verbose=0, warm_start=False)"
      ]
     },
     "execution_count": 112,
     "metadata": {},
     "output_type": "execute_result"
    }
   ],
   "source": [
    "from sklearn.ensemble import RandomForestRegressor\n",
    "\n",
    "forest_reg = RandomForestRegressor(n_estimators=100, random_state=42)\n",
    "forest_reg.fit(videogames_prepared, y_train)"
   ]
  },
  {
   "cell_type": "code",
   "execution_count": 113,
   "metadata": {
    "id": "m5Gn7cQMwDEj",
    "outputId": "f6d16e38-360b-48db-b2c3-37aa38f4e3cf"
   },
   "outputs": [
    {
     "data": {
      "text/plain": [
       "2.996606367877912"
      ]
     },
     "execution_count": 113,
     "metadata": {},
     "output_type": "execute_result"
    }
   ],
   "source": [
    "videogames_predictions = forest_reg.predict(videogames_prepared)\n",
    "forest_mse = mean_squared_error(y_train, videogames_predictions)\n",
    "forest_rmse = np.sqrt(forest_mse)\n",
    "forest_rmse"
   ]
  },
  {
   "cell_type": "code",
   "execution_count": 114,
   "metadata": {
    "id": "O1pE21O1wDEj",
    "outputId": "4eb59ea7-0b5f-4978-9f40-10470c353afa"
   },
   "outputs": [
    {
     "name": "stdout",
     "output_type": "stream",
     "text": [
      "Scores: [7.83460131 8.01779269 8.69045448 8.4895772  7.53319202 8.36923968\n",
      " 7.71572986 8.36794366 7.99482614 7.84062077]\n",
      "Mean: 8.085397780801795\n",
      "Standard deviation: 0.3559532158389682\n"
     ]
    }
   ],
   "source": [
    "from sklearn.model_selection import cross_val_score\n",
    "\n",
    "forest_scores = cross_val_score(forest_reg, videogames_prepared, y_train,\n",
    "                                scoring=\"neg_mean_squared_error\", cv=10)\n",
    "forest_rmse_scores = np.sqrt(-forest_scores)\n",
    "display_scores(forest_rmse_scores)"
   ]
  },
  {
   "cell_type": "code",
   "execution_count": 115,
   "metadata": {
    "id": "2yydgMLWwDEj",
    "outputId": "780ad4f6-58b9-4fa7-fc36-4e3d9f18a66f"
   },
   "outputs": [
    {
     "data": {
      "text/plain": [
       "count    10.000000\n",
       "mean     10.299088\n",
       "std       0.427538\n",
       "min       9.851700\n",
       "25%      10.095427\n",
       "50%      10.209585\n",
       "75%      10.408973\n",
       "max      11.310994\n",
       "dtype: float64"
      ]
     },
     "execution_count": 115,
     "metadata": {},
     "output_type": "execute_result"
    }
   ],
   "source": [
    "scores = cross_val_score(lin_reg, videogames_prepared, y_train, scoring=\"neg_mean_squared_error\", cv=10)\n",
    "pd.Series(np.sqrt(-scores)).describe()"
   ]
  },
  {
   "cell_type": "code",
   "execution_count": 116,
   "metadata": {
    "id": "6CWPTAtywDEk",
    "outputId": "5855fedf-bc23-4609-9b28-a226854cb638"
   },
   "outputs": [
    {
     "data": {
      "text/plain": [
       "10.601842971111333"
      ]
     },
     "execution_count": 116,
     "metadata": {},
     "output_type": "execute_result"
    }
   ],
   "source": [
    "from sklearn.svm import SVR\n",
    "\n",
    "svm_reg = SVR(kernel=\"linear\")\n",
    "svm_reg.fit(videogames_prepared, y_train)\n",
    "videogames_predictions = svm_reg.predict(videogames_prepared)\n",
    "svm_mse = mean_squared_error(y_train, videogames_predictions)\n",
    "svm_rmse = np.sqrt(svm_mse)\n",
    "svm_rmse"
   ]
  },
  {
   "cell_type": "code",
   "execution_count": 117,
   "metadata": {
    "id": "ysC4M6VGwDEk",
    "outputId": "71734bab-5e7a-465a-f641-cd7636e93f1a"
   },
   "outputs": [
    {
     "data": {
      "text/plain": [
       "GridSearchCV(cv=5, error_score=nan,\n",
       "             estimator=RandomForestRegressor(bootstrap=True, ccp_alpha=0.0,\n",
       "                                             criterion='mse', max_depth=None,\n",
       "                                             max_features='auto',\n",
       "                                             max_leaf_nodes=None,\n",
       "                                             max_samples=None,\n",
       "                                             min_impurity_decrease=0.0,\n",
       "                                             min_impurity_split=None,\n",
       "                                             min_samples_leaf=1,\n",
       "                                             min_samples_split=2,\n",
       "                                             min_weight_fraction_leaf=0.0,\n",
       "                                             n_estimators=100, n_jobs=None,\n",
       "                                             oob_score=False, random_state=42,\n",
       "                                             verbose=0, warm_start=False),\n",
       "             iid='deprecated', n_jobs=None,\n",
       "             param_grid=[{'max_features': [2, 4, 6, 8],\n",
       "                          'n_estimators': [3, 10, 30]},\n",
       "                         {'bootstrap': [False], 'max_features': [2, 3, 4],\n",
       "                          'n_estimators': [3, 10]}],\n",
       "             pre_dispatch='2*n_jobs', refit=True, return_train_score=True,\n",
       "             scoring='neg_mean_squared_error', verbose=0)"
      ]
     },
     "execution_count": 117,
     "metadata": {},
     "output_type": "execute_result"
    }
   ],
   "source": [
    "from sklearn.model_selection import GridSearchCV\n",
    "\n",
    "param_grid = [\n",
    "    # try 12 (3×4) combinations of hyperparameters\n",
    "    {'n_estimators': [3, 10, 30], 'max_features': [2, 4, 6, 8]},\n",
    "    # then try 6 (2×3) combinations with bootstrap set as False\n",
    "    {'bootstrap': [False], 'n_estimators': [3, 10], 'max_features': [2, 3, 4]},\n",
    "  ]\n",
    "\n",
    "forest_reg = RandomForestRegressor(random_state=42)\n",
    "# train across 5 folds, that's a total of (12+6)*5=90 rounds of training \n",
    "grid_search = GridSearchCV(forest_reg, param_grid, cv=5,\n",
    "                           scoring='neg_mean_squared_error',\n",
    "                           return_train_score=True)\n",
    "grid_search.fit(videogames_prepared, y_train)"
   ]
  },
  {
   "cell_type": "markdown",
   "metadata": {
    "id": "M578-rOpwDEq"
   },
   "source": [
    "The best hyperparameter combination found:"
   ]
  },
  {
   "cell_type": "code",
   "execution_count": 118,
   "metadata": {
    "id": "I5g0W0CMwDEr",
    "outputId": "32ea258b-e90f-466b-c839-f4062fa73650",
    "scrolled": true
   },
   "outputs": [
    {
     "data": {
      "text/plain": [
       "{'max_features': 8, 'n_estimators': 30}"
      ]
     },
     "execution_count": 118,
     "metadata": {},
     "output_type": "execute_result"
    }
   ],
   "source": [
    "grid_search.best_params_"
   ]
  },
  {
   "cell_type": "code",
   "execution_count": 119,
   "metadata": {
    "id": "jcDSO__6wDEr",
    "outputId": "4a9faa84-4be2-41c1-eed3-a9f679fb5252"
   },
   "outputs": [
    {
     "data": {
      "text/plain": [
       "RandomForestRegressor(bootstrap=True, ccp_alpha=0.0, criterion='mse',\n",
       "                      max_depth=None, max_features=8, max_leaf_nodes=None,\n",
       "                      max_samples=None, min_impurity_decrease=0.0,\n",
       "                      min_impurity_split=None, min_samples_leaf=1,\n",
       "                      min_samples_split=2, min_weight_fraction_leaf=0.0,\n",
       "                      n_estimators=30, n_jobs=None, oob_score=False,\n",
       "                      random_state=42, verbose=0, warm_start=False)"
      ]
     },
     "execution_count": 119,
     "metadata": {},
     "output_type": "execute_result"
    }
   ],
   "source": [
    "grid_search.best_estimator_"
   ]
  },
  {
   "cell_type": "markdown",
   "metadata": {
    "id": "LWf1IRyRwDEs"
   },
   "source": [
    "Let's look at the score of each hyperparameter combination tested during the grid search:"
   ]
  },
  {
   "cell_type": "code",
   "execution_count": 120,
   "metadata": {
    "id": "1se0nykJwDEs",
    "outputId": "fd79cf84-8b87-4464-b3f2-69ca04a51486"
   },
   "outputs": [
    {
     "name": "stdout",
     "output_type": "stream",
     "text": [
      "11.122282231482764 {'max_features': 2, 'n_estimators': 3}\n",
      "9.82626400062998 {'max_features': 2, 'n_estimators': 10}\n",
      "9.533484045784233 {'max_features': 2, 'n_estimators': 30}\n",
      "10.72057424158685 {'max_features': 4, 'n_estimators': 3}\n",
      "9.553921287787547 {'max_features': 4, 'n_estimators': 10}\n",
      "9.263842495864061 {'max_features': 4, 'n_estimators': 30}\n",
      "10.600275375081953 {'max_features': 6, 'n_estimators': 3}\n",
      "9.48408505467513 {'max_features': 6, 'n_estimators': 10}\n",
      "9.156213291498137 {'max_features': 6, 'n_estimators': 30}\n",
      "10.620688267564162 {'max_features': 8, 'n_estimators': 3}\n",
      "9.376572685493663 {'max_features': 8, 'n_estimators': 10}\n",
      "8.96062660313227 {'max_features': 8, 'n_estimators': 30}\n",
      "11.039194480267774 {'bootstrap': False, 'max_features': 2, 'n_estimators': 3}\n",
      "9.880585188621115 {'bootstrap': False, 'max_features': 2, 'n_estimators': 10}\n",
      "10.909492799083667 {'bootstrap': False, 'max_features': 3, 'n_estimators': 3}\n",
      "9.729843565132759 {'bootstrap': False, 'max_features': 3, 'n_estimators': 10}\n",
      "10.743040529349612 {'bootstrap': False, 'max_features': 4, 'n_estimators': 3}\n",
      "9.524889549541758 {'bootstrap': False, 'max_features': 4, 'n_estimators': 10}\n"
     ]
    }
   ],
   "source": [
    "cvres = grid_search.cv_results_\n",
    "for mean_score, params in zip(cvres[\"mean_test_score\"], cvres[\"params\"]):\n",
    "    print(np.sqrt(-mean_score), params)"
   ]
  },
  {
   "cell_type": "code",
   "execution_count": 121,
   "metadata": {
    "id": "--WZylKZwDEs",
    "outputId": "53696037-932c-43f4-fb85-490b625f1465"
   },
   "outputs": [
    {
     "data": {
      "text/html": [
       "<div>\n",
       "<style scoped>\n",
       "    .dataframe tbody tr th:only-of-type {\n",
       "        vertical-align: middle;\n",
       "    }\n",
       "\n",
       "    .dataframe tbody tr th {\n",
       "        vertical-align: top;\n",
       "    }\n",
       "\n",
       "    .dataframe thead th {\n",
       "        text-align: right;\n",
       "    }\n",
       "</style>\n",
       "<table border=\"1\" class=\"dataframe\">\n",
       "  <thead>\n",
       "    <tr style=\"text-align: right;\">\n",
       "      <th></th>\n",
       "      <th>mean_fit_time</th>\n",
       "      <th>std_fit_time</th>\n",
       "      <th>mean_score_time</th>\n",
       "      <th>std_score_time</th>\n",
       "      <th>param_max_features</th>\n",
       "      <th>param_n_estimators</th>\n",
       "      <th>param_bootstrap</th>\n",
       "      <th>params</th>\n",
       "      <th>split0_test_score</th>\n",
       "      <th>split1_test_score</th>\n",
       "      <th>...</th>\n",
       "      <th>mean_test_score</th>\n",
       "      <th>std_test_score</th>\n",
       "      <th>rank_test_score</th>\n",
       "      <th>split0_train_score</th>\n",
       "      <th>split1_train_score</th>\n",
       "      <th>split2_train_score</th>\n",
       "      <th>split3_train_score</th>\n",
       "      <th>split4_train_score</th>\n",
       "      <th>mean_train_score</th>\n",
       "      <th>std_train_score</th>\n",
       "    </tr>\n",
       "  </thead>\n",
       "  <tbody>\n",
       "    <tr>\n",
       "      <th>0</th>\n",
       "      <td>0.090753</td>\n",
       "      <td>0.014976</td>\n",
       "      <td>0.005335</td>\n",
       "      <td>0.005956</td>\n",
       "      <td>2</td>\n",
       "      <td>3</td>\n",
       "      <td>NaN</td>\n",
       "      <td>{'max_features': 2, 'n_estimators': 3}</td>\n",
       "      <td>-114.606444</td>\n",
       "      <td>-128.526749</td>\n",
       "      <td>...</td>\n",
       "      <td>-123.705162</td>\n",
       "      <td>5.420643</td>\n",
       "      <td>18</td>\n",
       "      <td>-34.231013</td>\n",
       "      <td>-30.182137</td>\n",
       "      <td>-31.994379</td>\n",
       "      <td>-32.517765</td>\n",
       "      <td>-34.680292</td>\n",
       "      <td>-32.721117</td>\n",
       "      <td>1.620745</td>\n",
       "    </tr>\n",
       "    <tr>\n",
       "      <th>1</th>\n",
       "      <td>0.271496</td>\n",
       "      <td>0.041592</td>\n",
       "      <td>0.007245</td>\n",
       "      <td>0.001657</td>\n",
       "      <td>2</td>\n",
       "      <td>10</td>\n",
       "      <td>NaN</td>\n",
       "      <td>{'max_features': 2, 'n_estimators': 10}</td>\n",
       "      <td>-92.419910</td>\n",
       "      <td>-101.711782</td>\n",
       "      <td>...</td>\n",
       "      <td>-96.555464</td>\n",
       "      <td>3.127359</td>\n",
       "      <td>10</td>\n",
       "      <td>-19.051725</td>\n",
       "      <td>-17.881322</td>\n",
       "      <td>-17.723277</td>\n",
       "      <td>-18.149813</td>\n",
       "      <td>-18.063992</td>\n",
       "      <td>-18.174026</td>\n",
       "      <td>0.463012</td>\n",
       "    </tr>\n",
       "    <tr>\n",
       "      <th>2</th>\n",
       "      <td>0.941163</td>\n",
       "      <td>0.243682</td>\n",
       "      <td>0.020377</td>\n",
       "      <td>0.007142</td>\n",
       "      <td>2</td>\n",
       "      <td>30</td>\n",
       "      <td>NaN</td>\n",
       "      <td>{'max_features': 2, 'n_estimators': 30}</td>\n",
       "      <td>-87.148130</td>\n",
       "      <td>-96.220801</td>\n",
       "      <td>...</td>\n",
       "      <td>-90.887318</td>\n",
       "      <td>3.134502</td>\n",
       "      <td>7</td>\n",
       "      <td>-14.539782</td>\n",
       "      <td>-14.003599</td>\n",
       "      <td>-13.785135</td>\n",
       "      <td>-14.624328</td>\n",
       "      <td>-14.169215</td>\n",
       "      <td>-14.224412</td>\n",
       "      <td>0.317541</td>\n",
       "    </tr>\n",
       "    <tr>\n",
       "      <th>3</th>\n",
       "      <td>0.086815</td>\n",
       "      <td>0.020742</td>\n",
       "      <td>0.003903</td>\n",
       "      <td>0.002436</td>\n",
       "      <td>4</td>\n",
       "      <td>3</td>\n",
       "      <td>NaN</td>\n",
       "      <td>{'max_features': 4, 'n_estimators': 3}</td>\n",
       "      <td>-115.941422</td>\n",
       "      <td>-124.074319</td>\n",
       "      <td>...</td>\n",
       "      <td>-114.930712</td>\n",
       "      <td>5.869590</td>\n",
       "      <td>14</td>\n",
       "      <td>-30.301005</td>\n",
       "      <td>-29.857331</td>\n",
       "      <td>-30.605254</td>\n",
       "      <td>-31.185990</td>\n",
       "      <td>-29.974002</td>\n",
       "      <td>-30.384716</td>\n",
       "      <td>0.478436</td>\n",
       "    </tr>\n",
       "    <tr>\n",
       "      <th>4</th>\n",
       "      <td>0.412923</td>\n",
       "      <td>0.040553</td>\n",
       "      <td>0.010379</td>\n",
       "      <td>0.005380</td>\n",
       "      <td>4</td>\n",
       "      <td>10</td>\n",
       "      <td>NaN</td>\n",
       "      <td>{'max_features': 4, 'n_estimators': 10}</td>\n",
       "      <td>-85.502904</td>\n",
       "      <td>-98.978295</td>\n",
       "      <td>...</td>\n",
       "      <td>-91.277412</td>\n",
       "      <td>5.246681</td>\n",
       "      <td>8</td>\n",
       "      <td>-17.588378</td>\n",
       "      <td>-16.541364</td>\n",
       "      <td>-17.050038</td>\n",
       "      <td>-17.055926</td>\n",
       "      <td>-16.750928</td>\n",
       "      <td>-16.997327</td>\n",
       "      <td>0.353318</td>\n",
       "    </tr>\n",
       "    <tr>\n",
       "      <th>5</th>\n",
       "      <td>0.713372</td>\n",
       "      <td>0.043315</td>\n",
       "      <td>0.016379</td>\n",
       "      <td>0.001973</td>\n",
       "      <td>4</td>\n",
       "      <td>30</td>\n",
       "      <td>NaN</td>\n",
       "      <td>{'max_features': 4, 'n_estimators': 30}</td>\n",
       "      <td>-82.014829</td>\n",
       "      <td>-90.979212</td>\n",
       "      <td>...</td>\n",
       "      <td>-85.818778</td>\n",
       "      <td>3.101558</td>\n",
       "      <td>3</td>\n",
       "      <td>-13.933529</td>\n",
       "      <td>-12.876564</td>\n",
       "      <td>-12.992563</td>\n",
       "      <td>-13.190553</td>\n",
       "      <td>-13.012229</td>\n",
       "      <td>-13.201088</td>\n",
       "      <td>0.379749</td>\n",
       "    </tr>\n",
       "    <tr>\n",
       "      <th>6</th>\n",
       "      <td>0.085473</td>\n",
       "      <td>0.007538</td>\n",
       "      <td>0.003160</td>\n",
       "      <td>0.000569</td>\n",
       "      <td>6</td>\n",
       "      <td>3</td>\n",
       "      <td>NaN</td>\n",
       "      <td>{'max_features': 6, 'n_estimators': 3}</td>\n",
       "      <td>-109.667399</td>\n",
       "      <td>-119.932112</td>\n",
       "      <td>...</td>\n",
       "      <td>-112.365838</td>\n",
       "      <td>4.038409</td>\n",
       "      <td>12</td>\n",
       "      <td>-29.195103</td>\n",
       "      <td>-28.109843</td>\n",
       "      <td>-28.466349</td>\n",
       "      <td>-27.213729</td>\n",
       "      <td>-30.149574</td>\n",
       "      <td>-28.626920</td>\n",
       "      <td>0.993133</td>\n",
       "    </tr>\n",
       "    <tr>\n",
       "      <th>7</th>\n",
       "      <td>0.299252</td>\n",
       "      <td>0.066859</td>\n",
       "      <td>0.013112</td>\n",
       "      <td>0.015113</td>\n",
       "      <td>6</td>\n",
       "      <td>10</td>\n",
       "      <td>NaN</td>\n",
       "      <td>{'max_features': 6, 'n_estimators': 10}</td>\n",
       "      <td>-83.044110</td>\n",
       "      <td>-101.328316</td>\n",
       "      <td>...</td>\n",
       "      <td>-89.947869</td>\n",
       "      <td>6.431829</td>\n",
       "      <td>5</td>\n",
       "      <td>-17.391753</td>\n",
       "      <td>-16.579531</td>\n",
       "      <td>-16.498167</td>\n",
       "      <td>-15.656282</td>\n",
       "      <td>-16.487446</td>\n",
       "      <td>-16.522636</td>\n",
       "      <td>0.549729</td>\n",
       "    </tr>\n",
       "    <tr>\n",
       "      <th>8</th>\n",
       "      <td>1.544894</td>\n",
       "      <td>0.861595</td>\n",
       "      <td>0.127067</td>\n",
       "      <td>0.198633</td>\n",
       "      <td>6</td>\n",
       "      <td>30</td>\n",
       "      <td>NaN</td>\n",
       "      <td>{'max_features': 6, 'n_estimators': 30}</td>\n",
       "      <td>-77.947058</td>\n",
       "      <td>-93.455332</td>\n",
       "      <td>...</td>\n",
       "      <td>-83.836242</td>\n",
       "      <td>5.635878</td>\n",
       "      <td>2</td>\n",
       "      <td>-13.204485</td>\n",
       "      <td>-12.424847</td>\n",
       "      <td>-13.234711</td>\n",
       "      <td>-12.752627</td>\n",
       "      <td>-12.956107</td>\n",
       "      <td>-12.914556</td>\n",
       "      <td>0.301436</td>\n",
       "    </tr>\n",
       "    <tr>\n",
       "      <th>9</th>\n",
       "      <td>0.098139</td>\n",
       "      <td>0.010294</td>\n",
       "      <td>0.002977</td>\n",
       "      <td>0.001299</td>\n",
       "      <td>8</td>\n",
       "      <td>3</td>\n",
       "      <td>NaN</td>\n",
       "      <td>{'max_features': 8, 'n_estimators': 3}</td>\n",
       "      <td>-108.235165</td>\n",
       "      <td>-133.809559</td>\n",
       "      <td>...</td>\n",
       "      <td>-112.799019</td>\n",
       "      <td>10.552078</td>\n",
       "      <td>13</td>\n",
       "      <td>-28.649017</td>\n",
       "      <td>-27.628448</td>\n",
       "      <td>-29.321327</td>\n",
       "      <td>-27.555831</td>\n",
       "      <td>-26.100357</td>\n",
       "      <td>-27.850996</td>\n",
       "      <td>1.095454</td>\n",
       "    </tr>\n",
       "    <tr>\n",
       "      <th>10</th>\n",
       "      <td>0.392776</td>\n",
       "      <td>0.098609</td>\n",
       "      <td>0.018285</td>\n",
       "      <td>0.016502</td>\n",
       "      <td>8</td>\n",
       "      <td>10</td>\n",
       "      <td>NaN</td>\n",
       "      <td>{'max_features': 8, 'n_estimators': 10}</td>\n",
       "      <td>-80.728686</td>\n",
       "      <td>-98.954477</td>\n",
       "      <td>...</td>\n",
       "      <td>-87.920115</td>\n",
       "      <td>6.011434</td>\n",
       "      <td>4</td>\n",
       "      <td>-16.778326</td>\n",
       "      <td>-15.953453</td>\n",
       "      <td>-16.435818</td>\n",
       "      <td>-16.030548</td>\n",
       "      <td>-15.689673</td>\n",
       "      <td>-16.177564</td>\n",
       "      <td>0.384054</td>\n",
       "    </tr>\n",
       "    <tr>\n",
       "      <th>11</th>\n",
       "      <td>1.179071</td>\n",
       "      <td>0.199662</td>\n",
       "      <td>0.027578</td>\n",
       "      <td>0.012921</td>\n",
       "      <td>8</td>\n",
       "      <td>30</td>\n",
       "      <td>NaN</td>\n",
       "      <td>{'max_features': 8, 'n_estimators': 30}</td>\n",
       "      <td>-75.262353</td>\n",
       "      <td>-87.951862</td>\n",
       "      <td>...</td>\n",
       "      <td>-80.292829</td>\n",
       "      <td>4.347217</td>\n",
       "      <td>1</td>\n",
       "      <td>-12.742904</td>\n",
       "      <td>-12.261857</td>\n",
       "      <td>-12.046903</td>\n",
       "      <td>-12.540784</td>\n",
       "      <td>-12.648043</td>\n",
       "      <td>-12.448098</td>\n",
       "      <td>0.257341</td>\n",
       "    </tr>\n",
       "    <tr>\n",
       "      <th>12</th>\n",
       "      <td>0.127615</td>\n",
       "      <td>0.048891</td>\n",
       "      <td>0.004237</td>\n",
       "      <td>0.000843</td>\n",
       "      <td>2</td>\n",
       "      <td>3</td>\n",
       "      <td>False</td>\n",
       "      <td>{'bootstrap': False, 'max_features': 2, 'n_est...</td>\n",
       "      <td>-117.299634</td>\n",
       "      <td>-132.980565</td>\n",
       "      <td>...</td>\n",
       "      <td>-121.863815</td>\n",
       "      <td>6.156989</td>\n",
       "      <td>17</td>\n",
       "      <td>-0.123885</td>\n",
       "      <td>-0.050820</td>\n",
       "      <td>-0.244060</td>\n",
       "      <td>-0.211667</td>\n",
       "      <td>-0.070547</td>\n",
       "      <td>-0.140196</td>\n",
       "      <td>0.076159</td>\n",
       "    </tr>\n",
       "    <tr>\n",
       "      <th>13</th>\n",
       "      <td>0.448390</td>\n",
       "      <td>0.195110</td>\n",
       "      <td>0.007862</td>\n",
       "      <td>0.002165</td>\n",
       "      <td>2</td>\n",
       "      <td>10</td>\n",
       "      <td>False</td>\n",
       "      <td>{'bootstrap': False, 'max_features': 2, 'n_est...</td>\n",
       "      <td>-92.034855</td>\n",
       "      <td>-108.839443</td>\n",
       "      <td>...</td>\n",
       "      <td>-97.625964</td>\n",
       "      <td>5.831222</td>\n",
       "      <td>11</td>\n",
       "      <td>-0.117427</td>\n",
       "      <td>-0.010171</td>\n",
       "      <td>-0.136707</td>\n",
       "      <td>-0.134666</td>\n",
       "      <td>-0.024971</td>\n",
       "      <td>-0.084788</td>\n",
       "      <td>0.055488</td>\n",
       "    </tr>\n",
       "    <tr>\n",
       "      <th>14</th>\n",
       "      <td>0.110923</td>\n",
       "      <td>0.005559</td>\n",
       "      <td>0.002900</td>\n",
       "      <td>0.000479</td>\n",
       "      <td>3</td>\n",
       "      <td>3</td>\n",
       "      <td>False</td>\n",
       "      <td>{'bootstrap': False, 'max_features': 3, 'n_est...</td>\n",
       "      <td>-108.994132</td>\n",
       "      <td>-128.338803</td>\n",
       "      <td>...</td>\n",
       "      <td>-119.017033</td>\n",
       "      <td>8.369370</td>\n",
       "      <td>16</td>\n",
       "      <td>-0.154986</td>\n",
       "      <td>-0.041334</td>\n",
       "      <td>-0.128555</td>\n",
       "      <td>-0.159472</td>\n",
       "      <td>-0.016069</td>\n",
       "      <td>-0.100083</td>\n",
       "      <td>0.059769</td>\n",
       "    </tr>\n",
       "    <tr>\n",
       "      <th>15</th>\n",
       "      <td>0.441962</td>\n",
       "      <td>0.124994</td>\n",
       "      <td>0.012747</td>\n",
       "      <td>0.008398</td>\n",
       "      <td>3</td>\n",
       "      <td>10</td>\n",
       "      <td>False</td>\n",
       "      <td>{'bootstrap': False, 'max_features': 3, 'n_est...</td>\n",
       "      <td>-89.044755</td>\n",
       "      <td>-102.686271</td>\n",
       "      <td>...</td>\n",
       "      <td>-94.669856</td>\n",
       "      <td>4.626859</td>\n",
       "      <td>9</td>\n",
       "      <td>-0.118065</td>\n",
       "      <td>-0.021867</td>\n",
       "      <td>-0.118305</td>\n",
       "      <td>-0.117561</td>\n",
       "      <td>-0.005310</td>\n",
       "      <td>-0.076222</td>\n",
       "      <td>0.051408</td>\n",
       "    </tr>\n",
       "    <tr>\n",
       "      <th>16</th>\n",
       "      <td>0.101289</td>\n",
       "      <td>0.003892</td>\n",
       "      <td>0.003285</td>\n",
       "      <td>0.000861</td>\n",
       "      <td>4</td>\n",
       "      <td>3</td>\n",
       "      <td>False</td>\n",
       "      <td>{'bootstrap': False, 'max_features': 4, 'n_est...</td>\n",
       "      <td>-116.211538</td>\n",
       "      <td>-120.176004</td>\n",
       "      <td>...</td>\n",
       "      <td>-115.412920</td>\n",
       "      <td>2.997022</td>\n",
       "      <td>15</td>\n",
       "      <td>-0.141364</td>\n",
       "      <td>-0.027475</td>\n",
       "      <td>-0.159044</td>\n",
       "      <td>-0.140164</td>\n",
       "      <td>-0.022241</td>\n",
       "      <td>-0.098058</td>\n",
       "      <td>0.060163</td>\n",
       "    </tr>\n",
       "    <tr>\n",
       "      <th>17</th>\n",
       "      <td>0.342952</td>\n",
       "      <td>0.008169</td>\n",
       "      <td>0.007292</td>\n",
       "      <td>0.000939</td>\n",
       "      <td>4</td>\n",
       "      <td>10</td>\n",
       "      <td>False</td>\n",
       "      <td>{'bootstrap': False, 'max_features': 4, 'n_est...</td>\n",
       "      <td>-85.359313</td>\n",
       "      <td>-101.144966</td>\n",
       "      <td>...</td>\n",
       "      <td>-90.723521</td>\n",
       "      <td>5.784388</td>\n",
       "      <td>6</td>\n",
       "      <td>-0.113867</td>\n",
       "      <td>-0.006089</td>\n",
       "      <td>-0.128264</td>\n",
       "      <td>-0.115606</td>\n",
       "      <td>-0.003844</td>\n",
       "      <td>-0.073534</td>\n",
       "      <td>0.056210</td>\n",
       "    </tr>\n",
       "  </tbody>\n",
       "</table>\n",
       "<p>18 rows × 23 columns</p>\n",
       "</div>"
      ],
      "text/plain": [
       "    mean_fit_time  std_fit_time  mean_score_time  std_score_time  \\\n",
       "0        0.090753      0.014976         0.005335        0.005956   \n",
       "1        0.271496      0.041592         0.007245        0.001657   \n",
       "2        0.941163      0.243682         0.020377        0.007142   \n",
       "3        0.086815      0.020742         0.003903        0.002436   \n",
       "4        0.412923      0.040553         0.010379        0.005380   \n",
       "5        0.713372      0.043315         0.016379        0.001973   \n",
       "6        0.085473      0.007538         0.003160        0.000569   \n",
       "7        0.299252      0.066859         0.013112        0.015113   \n",
       "8        1.544894      0.861595         0.127067        0.198633   \n",
       "9        0.098139      0.010294         0.002977        0.001299   \n",
       "10       0.392776      0.098609         0.018285        0.016502   \n",
       "11       1.179071      0.199662         0.027578        0.012921   \n",
       "12       0.127615      0.048891         0.004237        0.000843   \n",
       "13       0.448390      0.195110         0.007862        0.002165   \n",
       "14       0.110923      0.005559         0.002900        0.000479   \n",
       "15       0.441962      0.124994         0.012747        0.008398   \n",
       "16       0.101289      0.003892         0.003285        0.000861   \n",
       "17       0.342952      0.008169         0.007292        0.000939   \n",
       "\n",
       "   param_max_features param_n_estimators param_bootstrap  \\\n",
       "0                   2                  3             NaN   \n",
       "1                   2                 10             NaN   \n",
       "2                   2                 30             NaN   \n",
       "3                   4                  3             NaN   \n",
       "4                   4                 10             NaN   \n",
       "5                   4                 30             NaN   \n",
       "6                   6                  3             NaN   \n",
       "7                   6                 10             NaN   \n",
       "8                   6                 30             NaN   \n",
       "9                   8                  3             NaN   \n",
       "10                  8                 10             NaN   \n",
       "11                  8                 30             NaN   \n",
       "12                  2                  3           False   \n",
       "13                  2                 10           False   \n",
       "14                  3                  3           False   \n",
       "15                  3                 10           False   \n",
       "16                  4                  3           False   \n",
       "17                  4                 10           False   \n",
       "\n",
       "                                               params  split0_test_score  \\\n",
       "0              {'max_features': 2, 'n_estimators': 3}        -114.606444   \n",
       "1             {'max_features': 2, 'n_estimators': 10}         -92.419910   \n",
       "2             {'max_features': 2, 'n_estimators': 30}         -87.148130   \n",
       "3              {'max_features': 4, 'n_estimators': 3}        -115.941422   \n",
       "4             {'max_features': 4, 'n_estimators': 10}         -85.502904   \n",
       "5             {'max_features': 4, 'n_estimators': 30}         -82.014829   \n",
       "6              {'max_features': 6, 'n_estimators': 3}        -109.667399   \n",
       "7             {'max_features': 6, 'n_estimators': 10}         -83.044110   \n",
       "8             {'max_features': 6, 'n_estimators': 30}         -77.947058   \n",
       "9              {'max_features': 8, 'n_estimators': 3}        -108.235165   \n",
       "10            {'max_features': 8, 'n_estimators': 10}         -80.728686   \n",
       "11            {'max_features': 8, 'n_estimators': 30}         -75.262353   \n",
       "12  {'bootstrap': False, 'max_features': 2, 'n_est...        -117.299634   \n",
       "13  {'bootstrap': False, 'max_features': 2, 'n_est...         -92.034855   \n",
       "14  {'bootstrap': False, 'max_features': 3, 'n_est...        -108.994132   \n",
       "15  {'bootstrap': False, 'max_features': 3, 'n_est...         -89.044755   \n",
       "16  {'bootstrap': False, 'max_features': 4, 'n_est...        -116.211538   \n",
       "17  {'bootstrap': False, 'max_features': 4, 'n_est...         -85.359313   \n",
       "\n",
       "    split1_test_score  ...  mean_test_score  std_test_score  rank_test_score  \\\n",
       "0         -128.526749  ...      -123.705162        5.420643               18   \n",
       "1         -101.711782  ...       -96.555464        3.127359               10   \n",
       "2          -96.220801  ...       -90.887318        3.134502                7   \n",
       "3         -124.074319  ...      -114.930712        5.869590               14   \n",
       "4          -98.978295  ...       -91.277412        5.246681                8   \n",
       "5          -90.979212  ...       -85.818778        3.101558                3   \n",
       "6         -119.932112  ...      -112.365838        4.038409               12   \n",
       "7         -101.328316  ...       -89.947869        6.431829                5   \n",
       "8          -93.455332  ...       -83.836242        5.635878                2   \n",
       "9         -133.809559  ...      -112.799019       10.552078               13   \n",
       "10         -98.954477  ...       -87.920115        6.011434                4   \n",
       "11         -87.951862  ...       -80.292829        4.347217                1   \n",
       "12        -132.980565  ...      -121.863815        6.156989               17   \n",
       "13        -108.839443  ...       -97.625964        5.831222               11   \n",
       "14        -128.338803  ...      -119.017033        8.369370               16   \n",
       "15        -102.686271  ...       -94.669856        4.626859                9   \n",
       "16        -120.176004  ...      -115.412920        2.997022               15   \n",
       "17        -101.144966  ...       -90.723521        5.784388                6   \n",
       "\n",
       "    split0_train_score  split1_train_score  split2_train_score  \\\n",
       "0           -34.231013          -30.182137          -31.994379   \n",
       "1           -19.051725          -17.881322          -17.723277   \n",
       "2           -14.539782          -14.003599          -13.785135   \n",
       "3           -30.301005          -29.857331          -30.605254   \n",
       "4           -17.588378          -16.541364          -17.050038   \n",
       "5           -13.933529          -12.876564          -12.992563   \n",
       "6           -29.195103          -28.109843          -28.466349   \n",
       "7           -17.391753          -16.579531          -16.498167   \n",
       "8           -13.204485          -12.424847          -13.234711   \n",
       "9           -28.649017          -27.628448          -29.321327   \n",
       "10          -16.778326          -15.953453          -16.435818   \n",
       "11          -12.742904          -12.261857          -12.046903   \n",
       "12           -0.123885           -0.050820           -0.244060   \n",
       "13           -0.117427           -0.010171           -0.136707   \n",
       "14           -0.154986           -0.041334           -0.128555   \n",
       "15           -0.118065           -0.021867           -0.118305   \n",
       "16           -0.141364           -0.027475           -0.159044   \n",
       "17           -0.113867           -0.006089           -0.128264   \n",
       "\n",
       "    split3_train_score  split4_train_score  mean_train_score  std_train_score  \n",
       "0           -32.517765          -34.680292        -32.721117         1.620745  \n",
       "1           -18.149813          -18.063992        -18.174026         0.463012  \n",
       "2           -14.624328          -14.169215        -14.224412         0.317541  \n",
       "3           -31.185990          -29.974002        -30.384716         0.478436  \n",
       "4           -17.055926          -16.750928        -16.997327         0.353318  \n",
       "5           -13.190553          -13.012229        -13.201088         0.379749  \n",
       "6           -27.213729          -30.149574        -28.626920         0.993133  \n",
       "7           -15.656282          -16.487446        -16.522636         0.549729  \n",
       "8           -12.752627          -12.956107        -12.914556         0.301436  \n",
       "9           -27.555831          -26.100357        -27.850996         1.095454  \n",
       "10          -16.030548          -15.689673        -16.177564         0.384054  \n",
       "11          -12.540784          -12.648043        -12.448098         0.257341  \n",
       "12           -0.211667           -0.070547         -0.140196         0.076159  \n",
       "13           -0.134666           -0.024971         -0.084788         0.055488  \n",
       "14           -0.159472           -0.016069         -0.100083         0.059769  \n",
       "15           -0.117561           -0.005310         -0.076222         0.051408  \n",
       "16           -0.140164           -0.022241         -0.098058         0.060163  \n",
       "17           -0.115606           -0.003844         -0.073534         0.056210  \n",
       "\n",
       "[18 rows x 23 columns]"
      ]
     },
     "execution_count": 121,
     "metadata": {},
     "output_type": "execute_result"
    }
   ],
   "source": [
    "pd.DataFrame(grid_search.cv_results_)"
   ]
  },
  {
   "cell_type": "code",
   "execution_count": 122,
   "metadata": {
    "id": "vRLeSLHcwDEt",
    "outputId": "faafae58-d8c7-45a8-f6f0-3f54066bf414"
   },
   "outputs": [
    {
     "data": {
      "text/plain": [
       "RandomizedSearchCV(cv=5, error_score=nan,\n",
       "                   estimator=RandomForestRegressor(bootstrap=True,\n",
       "                                                   ccp_alpha=0.0,\n",
       "                                                   criterion='mse',\n",
       "                                                   max_depth=None,\n",
       "                                                   max_features='auto',\n",
       "                                                   max_leaf_nodes=None,\n",
       "                                                   max_samples=None,\n",
       "                                                   min_impurity_decrease=0.0,\n",
       "                                                   min_impurity_split=None,\n",
       "                                                   min_samples_leaf=1,\n",
       "                                                   min_samples_split=2,\n",
       "                                                   min_weight_fraction_leaf=0.0,\n",
       "                                                   n_estimators=100,\n",
       "                                                   n_jobs=None, oob_score=Fals...\n",
       "                                                   warm_start=False),\n",
       "                   iid='deprecated', n_iter=10, n_jobs=None,\n",
       "                   param_distributions={'max_features': <scipy.stats._distn_infrastructure.rv_frozen object at 0x7ff5edcb4d50>,\n",
       "                                        'n_estimators': <scipy.stats._distn_infrastructure.rv_frozen object at 0x7ff5edc774d0>},\n",
       "                   pre_dispatch='2*n_jobs', random_state=42, refit=True,\n",
       "                   return_train_score=False, scoring='neg_mean_squared_error',\n",
       "                   verbose=0)"
      ]
     },
     "execution_count": 122,
     "metadata": {},
     "output_type": "execute_result"
    }
   ],
   "source": [
    "from sklearn.model_selection import RandomizedSearchCV\n",
    "from scipy.stats import randint\n",
    "\n",
    "param_distribs = {\n",
    "        'n_estimators': randint(low=1, high=200),\n",
    "        'max_features': randint(low=1, high=8),\n",
    "    }\n",
    "\n",
    "forest_reg = RandomForestRegressor(random_state=42)\n",
    "rnd_search = RandomizedSearchCV(forest_reg, param_distributions=param_distribs,\n",
    "                                n_iter=10, cv=5, scoring='neg_mean_squared_error', random_state=42)\n",
    "rnd_search.fit(videogames_prepared, y_train)"
   ]
  },
  {
   "cell_type": "code",
   "execution_count": 123,
   "metadata": {
    "id": "eGtL9M91wDEu",
    "outputId": "e2acae02-3be2-4b8f-84c7-f9ee1410dadc"
   },
   "outputs": [
    {
     "name": "stdout",
     "output_type": "stream",
     "text": [
      "8.880408982145276 {'max_features': 7, 'n_estimators': 180}\n",
      "9.441688487524598 {'max_features': 5, 'n_estimators': 15}\n",
      "9.354114396720437 {'max_features': 3, 'n_estimators': 72}\n",
      "9.352406879541402 {'max_features': 5, 'n_estimators': 21}\n",
      "8.912633250700187 {'max_features': 7, 'n_estimators': 122}\n",
      "9.353500098002495 {'max_features': 3, 'n_estimators': 75}\n",
      "9.345533583499034 {'max_features': 3, 'n_estimators': 88}\n",
      "9.078286212331905 {'max_features': 5, 'n_estimators': 100}\n",
      "9.30309993787222 {'max_features': 3, 'n_estimators': 150}\n",
      "11.877925072456309 {'max_features': 5, 'n_estimators': 2}\n"
     ]
    }
   ],
   "source": [
    "cvres = rnd_search.cv_results_\n",
    "for mean_score, params in zip(cvres[\"mean_test_score\"], cvres[\"params\"]):\n",
    "    print(np.sqrt(-mean_score), params)"
   ]
  },
  {
   "cell_type": "code",
   "execution_count": 124,
   "metadata": {
    "id": "zhr14drHwDEu",
    "outputId": "28e9472c-fdcc-4315-b84e-f507f3a5202a"
   },
   "outputs": [
    {
     "data": {
      "text/plain": [
       "array([1.22674451e-01, 7.02720623e-02, 7.17579559e-02, 1.09088523e-01,\n",
       "       5.24077029e-02, 1.47225670e-01, 1.55303464e-01, 6.10367638e-02,\n",
       "       5.35957852e-02, 5.31068359e-03, 1.10534026e-02, 1.80537308e-02,\n",
       "       1.14822259e-02, 5.63849295e-03, 3.38442360e-03, 1.32740686e-02,\n",
       "       7.62694801e-06, 5.22594935e-05, 1.06049228e-02, 8.68475670e-03,\n",
       "       6.68866170e-04, 6.98691646e-03, 1.43598397e-04, 2.00135626e-03,\n",
       "       3.61351520e-05, 3.46163990e-06, 7.19823560e-05, 1.92232963e-04,\n",
       "       2.00674858e-03, 1.16282987e-05, 1.39386213e-03, 2.25860899e-04,\n",
       "       8.13985346e-04, 7.38579904e-05, 1.32762279e-04, 3.18558552e-03,\n",
       "       4.19809490e-04, 7.28891966e-04, 3.94983946e-05, 1.09732353e-05,\n",
       "       3.63963603e-04, 2.21891118e-05, 4.19586476e-03, 1.27137760e-03,\n",
       "       1.37548450e-06, 2.58264263e-06, 1.73079534e-04, 7.08382428e-06,\n",
       "       1.03695678e-03, 3.28083165e-03, 2.70483266e-03, 7.33243062e-03,\n",
       "       1.07227075e-03, 2.47127394e-05, 5.15057645e-04, 2.39420248e-04,\n",
       "       3.96910117e-03, 1.53274933e-02, 6.67246248e-03, 1.53823864e-05,\n",
       "       1.01265709e-04, 4.27611719e-04, 5.47962557e-06, 9.44354542e-04,\n",
       "       2.17490227e-04, 1.83428080e-05])"
      ]
     },
     "execution_count": 124,
     "metadata": {},
     "output_type": "execute_result"
    }
   ],
   "source": [
    "feature_importances = grid_search.best_estimator_.feature_importances_\n",
    "feature_importances"
   ]
  },
  {
   "cell_type": "code",
   "execution_count": 125,
   "metadata": {
    "id": "cgjHOqkGwDEu",
    "outputId": "ac3784b2-c033-4cc2-be02-7be14c2cc5b5",
    "scrolled": false
   },
   "outputs": [
    {
     "data": {
      "text/plain": [
       "[(0.15530346448701687, 'metascore'),\n",
       " (0.14722566977953536, 'negative_users'),\n",
       " (0.12267445132237827, 'positive_critics'),\n",
       " (0.10908852324794285, 'positive_users'),\n",
       " (0.0717579559010286, 'negative_critics'),\n",
       " (0.07027206229189263, 'neutral_critics'),\n",
       " (0.06103676380029456, 'critics_total'),\n",
       " (0.0535957852029101, 'Release_Year'),\n",
       " (0.05240770290830872, 'neutral_users'),\n",
       " (0.01805373075297729, 'PS4'),\n",
       " (0.013274068577167208, 'XONE'),\n",
       " (0.011482225868166102, 'Switch'),\n",
       " (0.01105340256440321, 'PC'),\n",
       " (0.005638492954484566, 'VITA'),\n",
       " (0.005310683588754159, '3DS'),\n",
       " (0.003384423601714119, 'WIIU')]"
      ]
     },
     "execution_count": 125,
     "metadata": {},
     "output_type": "execute_result"
    }
   ],
   "source": [
    "cat_encoder = full_pipeline.named_transformers_[\"cat\"]\n",
    "cat_one_hot_attribs = list(cat_encoder.categories_[0])\n",
    "attributes = num_attribs + cat_one_hot_attribs\n",
    "sorted(zip(feature_importances, attributes), reverse=True)"
   ]
  },
  {
   "cell_type": "code",
   "execution_count": 126,
   "metadata": {
    "scrolled": true
   },
   "outputs": [
    {
     "data": {
      "text/plain": [
       "RandomForestRegressor(bootstrap=True, ccp_alpha=0.0, criterion='mse',\n",
       "                      max_depth=None, max_features=8, max_leaf_nodes=None,\n",
       "                      max_samples=None, min_impurity_decrease=0.0,\n",
       "                      min_impurity_split=None, min_samples_leaf=1,\n",
       "                      min_samples_split=2, min_weight_fraction_leaf=0.0,\n",
       "                      n_estimators=30, n_jobs=None, oob_score=False,\n",
       "                      random_state=42, verbose=0, warm_start=False)"
      ]
     },
     "execution_count": 126,
     "metadata": {},
     "output_type": "execute_result"
    }
   ],
   "source": [
    "final_model = grid_search.best_estimator_\n",
    "final_model"
   ]
  },
  {
   "cell_type": "markdown",
   "metadata": {},
   "source": [
    "We see that the best estimator model is the RandomForestRegressor, it will thus be the model we will be using to assess the predictive power of our test data. We are first doing all the data preprocessing that we have done for the training set , on the test set so the data is on a shape to be fed to the model."
   ]
  },
  {
   "cell_type": "code",
   "execution_count": 136,
   "metadata": {
    "scrolled": true
   },
   "outputs": [
    {
     "data": {
      "text/html": [
       "<div>\n",
       "<style scoped>\n",
       "    .dataframe tbody tr th:only-of-type {\n",
       "        vertical-align: middle;\n",
       "    }\n",
       "\n",
       "    .dataframe tbody tr th {\n",
       "        vertical-align: top;\n",
       "    }\n",
       "\n",
       "    .dataframe thead th {\n",
       "        text-align: right;\n",
       "    }\n",
       "</style>\n",
       "<table border=\"1\" class=\"dataframe\">\n",
       "  <thead>\n",
       "    <tr style=\"text-align: right;\">\n",
       "      <th></th>\n",
       "      <th>positive_critics</th>\n",
       "      <th>neutral_critics</th>\n",
       "      <th>negative_critics</th>\n",
       "      <th>positive_users</th>\n",
       "      <th>neutral_users</th>\n",
       "      <th>negative_users</th>\n",
       "      <th>metascore</th>\n",
       "      <th>critics_total</th>\n",
       "      <th>Release_Year</th>\n",
       "      <th>platform</th>\n",
       "      <th>genre</th>\n",
       "    </tr>\n",
       "  </thead>\n",
       "  <tbody>\n",
       "    <tr>\n",
       "      <th>39</th>\n",
       "      <td>21</td>\n",
       "      <td>3</td>\n",
       "      <td>0</td>\n",
       "      <td>40</td>\n",
       "      <td>7</td>\n",
       "      <td>3</td>\n",
       "      <td>82</td>\n",
       "      <td>24</td>\n",
       "      <td>2011</td>\n",
       "      <td>PC</td>\n",
       "      <td>Adventure</td>\n",
       "    </tr>\n",
       "    <tr>\n",
       "      <th>3522</th>\n",
       "      <td>0</td>\n",
       "      <td>3</td>\n",
       "      <td>14</td>\n",
       "      <td>13</td>\n",
       "      <td>6</td>\n",
       "      <td>12</td>\n",
       "      <td>35</td>\n",
       "      <td>17</td>\n",
       "      <td>2016</td>\n",
       "      <td>XONE</td>\n",
       "      <td>Action</td>\n",
       "    </tr>\n",
       "    <tr>\n",
       "      <th>1741</th>\n",
       "      <td>0</td>\n",
       "      <td>16</td>\n",
       "      <td>11</td>\n",
       "      <td>3</td>\n",
       "      <td>7</td>\n",
       "      <td>9</td>\n",
       "      <td>48</td>\n",
       "      <td>27</td>\n",
       "      <td>2014</td>\n",
       "      <td>PS4</td>\n",
       "      <td>Horror</td>\n",
       "    </tr>\n",
       "    <tr>\n",
       "      <th>1420</th>\n",
       "      <td>9</td>\n",
       "      <td>10</td>\n",
       "      <td>0</td>\n",
       "      <td>5</td>\n",
       "      <td>4</td>\n",
       "      <td>2</td>\n",
       "      <td>74</td>\n",
       "      <td>19</td>\n",
       "      <td>2014</td>\n",
       "      <td>XONE</td>\n",
       "      <td>Action</td>\n",
       "    </tr>\n",
       "    <tr>\n",
       "      <th>3462</th>\n",
       "      <td>1</td>\n",
       "      <td>11</td>\n",
       "      <td>3</td>\n",
       "      <td>2</td>\n",
       "      <td>0</td>\n",
       "      <td>0</td>\n",
       "      <td>54</td>\n",
       "      <td>15</td>\n",
       "      <td>2016</td>\n",
       "      <td>3DS</td>\n",
       "      <td>Role-Playing</td>\n",
       "    </tr>\n",
       "    <tr>\n",
       "      <th>...</th>\n",
       "      <td>...</td>\n",
       "      <td>...</td>\n",
       "      <td>...</td>\n",
       "      <td>...</td>\n",
       "      <td>...</td>\n",
       "      <td>...</td>\n",
       "      <td>...</td>\n",
       "      <td>...</td>\n",
       "      <td>...</td>\n",
       "      <td>...</td>\n",
       "      <td>...</td>\n",
       "    </tr>\n",
       "    <tr>\n",
       "      <th>4935</th>\n",
       "      <td>4</td>\n",
       "      <td>5</td>\n",
       "      <td>0</td>\n",
       "      <td>0</td>\n",
       "      <td>0</td>\n",
       "      <td>1</td>\n",
       "      <td>76</td>\n",
       "      <td>9</td>\n",
       "      <td>2018</td>\n",
       "      <td>Switch</td>\n",
       "      <td>Action</td>\n",
       "    </tr>\n",
       "    <tr>\n",
       "      <th>3843</th>\n",
       "      <td>10</td>\n",
       "      <td>3</td>\n",
       "      <td>0</td>\n",
       "      <td>4</td>\n",
       "      <td>1</td>\n",
       "      <td>0</td>\n",
       "      <td>78</td>\n",
       "      <td>13</td>\n",
       "      <td>2017</td>\n",
       "      <td>XONE</td>\n",
       "      <td>Action</td>\n",
       "    </tr>\n",
       "    <tr>\n",
       "      <th>633</th>\n",
       "      <td>0</td>\n",
       "      <td>2</td>\n",
       "      <td>5</td>\n",
       "      <td>4</td>\n",
       "      <td>7</td>\n",
       "      <td>10</td>\n",
       "      <td>39</td>\n",
       "      <td>7</td>\n",
       "      <td>2012</td>\n",
       "      <td>PC</td>\n",
       "      <td>Action Adventure</td>\n",
       "    </tr>\n",
       "    <tr>\n",
       "      <th>895</th>\n",
       "      <td>26</td>\n",
       "      <td>32</td>\n",
       "      <td>1</td>\n",
       "      <td>83</td>\n",
       "      <td>108</td>\n",
       "      <td>128</td>\n",
       "      <td>72</td>\n",
       "      <td>59</td>\n",
       "      <td>2013</td>\n",
       "      <td>PC</td>\n",
       "      <td>Action Adventure</td>\n",
       "    </tr>\n",
       "    <tr>\n",
       "      <th>3761</th>\n",
       "      <td>11</td>\n",
       "      <td>3</td>\n",
       "      <td>0</td>\n",
       "      <td>3</td>\n",
       "      <td>2</td>\n",
       "      <td>0</td>\n",
       "      <td>80</td>\n",
       "      <td>14</td>\n",
       "      <td>2017</td>\n",
       "      <td>Switch</td>\n",
       "      <td>Puzzle</td>\n",
       "    </tr>\n",
       "  </tbody>\n",
       "</table>\n",
       "<p>1136 rows × 11 columns</p>\n",
       "</div>"
      ],
      "text/plain": [
       "      positive_critics  neutral_critics  negative_critics  positive_users  \\\n",
       "39                  21                3                 0              40   \n",
       "3522                 0                3                14              13   \n",
       "1741                 0               16                11               3   \n",
       "1420                 9               10                 0               5   \n",
       "3462                 1               11                 3               2   \n",
       "...                ...              ...               ...             ...   \n",
       "4935                 4                5                 0               0   \n",
       "3843                10                3                 0               4   \n",
       "633                  0                2                 5               4   \n",
       "895                 26               32                 1              83   \n",
       "3761                11                3                 0               3   \n",
       "\n",
       "      neutral_users  negative_users  metascore  critics_total  Release_Year  \\\n",
       "39                7               3         82             24          2011   \n",
       "3522              6              12         35             17          2016   \n",
       "1741              7               9         48             27          2014   \n",
       "1420              4               2         74             19          2014   \n",
       "3462              0               0         54             15          2016   \n",
       "...             ...             ...        ...            ...           ...   \n",
       "4935              0               1         76              9          2018   \n",
       "3843              1               0         78             13          2017   \n",
       "633               7              10         39              7          2012   \n",
       "895             108             128         72             59          2013   \n",
       "3761              2               0         80             14          2017   \n",
       "\n",
       "     platform             genre  \n",
       "39         PC         Adventure  \n",
       "3522     XONE            Action  \n",
       "1741      PS4            Horror  \n",
       "1420     XONE            Action  \n",
       "3462      3DS      Role-Playing  \n",
       "...       ...               ...  \n",
       "4935   Switch            Action  \n",
       "3843     XONE            Action  \n",
       "633        PC  Action Adventure  \n",
       "895        PC  Action Adventure  \n",
       "3761   Switch            Puzzle  \n",
       "\n",
       "[1136 rows x 11 columns]"
      ]
     },
     "execution_count": 136,
     "metadata": {},
     "output_type": "execute_result"
    }
   ],
   "source": [
    "#Preprocessing the Testing Set (repeatng steps of training set)\n",
    "videogames0 = strat_test_set\n",
    "videogames0['critics_total'] = videogames0['positive_critics']+videogames0['neutral_critics']+videogames0['negative_critics']\n",
    "videogames0['Release_Year'] = videogames0['release_date'].str[-4:]\n",
    "videogames0['Release_Year']= pd.to_numeric(videogames0['Release_Year'])\n",
    "videogames0 = videogames0.drop(\"release_date\", axis = 1)#we drop the date column since we have the year now \n",
    "videogames0 = videogames0.drop(\"number_players\", axis = 1)#we drop the column number_players \n",
    "videogames0 = videogames0.drop(\"rating\", axis = 1)#we drop the column rating\n",
    "videogames0 = videogames0.dropna(subset=[\"developer\"])  \n",
    "videogames0 = videogames0.dropna(subset=[\"genre\"]) \n",
    "#Drop rows where categories donotexist on train set\n",
    "\n",
    "videogames0 = videogames0[videogames0.genre != 'Rally / Offroad']\n",
    "videogames0 = videogames0[videogames0.genre != 'City Building']\n",
    "videogames0 = videogames0[videogames0.genre != 'Compilation']\n",
    "\n",
    "videogames_cat_test = videogames0.select_dtypes(include=[np.object])\n",
    "videogames_cat_test = videogames_cat_test.drop(\"game\", axis = 1)#we drop the game name\n",
    "videogames_cat_test = videogames_cat_test.drop(\"developer\", axis = 1)#we drop the game name because it is a unique key for each row \n",
    "\n",
    "videogames_num_test = videogames0.select_dtypes(include=[np.int])\n",
    "X_test_prepared  = pd.concat([videogames_num_test, videogames_cat_test], axis = 1)\n",
    "X_test  = X_test_prepared.drop(\"user_score\",axis = 1) \n",
    "X_test"
   ]
  },
  {
   "cell_type": "code",
   "execution_count": 137,
   "metadata": {},
   "outputs": [],
   "source": [
    "y_test = videogames_num_test[\"user_score\"].copy()"
   ]
  },
  {
   "cell_type": "code",
   "execution_count": 139,
   "metadata": {},
   "outputs": [
    {
     "data": {
      "text/plain": [
       "<1136x66 sparse matrix of type '<class 'numpy.float64'>'\n",
       "\twith 12496 stored elements in Compressed Sparse Row format>"
      ]
     },
     "execution_count": 139,
     "metadata": {},
     "output_type": "execute_result"
    }
   ],
   "source": [
    "from sklearn.compose import ColumnTransformer\n",
    "from sklearn.preprocessing import OneHotEncoder\n",
    "\n",
    "X_test_prepared = full_pipeline.transform(X_test)\n",
    "X_test_prepared "
   ]
  },
  {
   "cell_type": "code",
   "execution_count": 140,
   "metadata": {
    "id": "pyR_EipMwDEv"
   },
   "outputs": [],
   "source": [
    "final_predictions = final_model.predict(X_test_prepared)\n",
    "\n",
    "final_mse = mean_squared_error(y_test, final_predictions)\n",
    "final_rmse = np.sqrt(final_mse)"
   ]
  },
  {
   "cell_type": "code",
   "execution_count": 141,
   "metadata": {
    "id": "wUstoYZlwDEv",
    "outputId": "78642d22-7eb8-4012-f689-9b29f62e33a9"
   },
   "outputs": [
    {
     "data": {
      "text/plain": [
       "8.675631526885569"
      ]
     },
     "execution_count": 141,
     "metadata": {},
     "output_type": "execute_result"
    }
   ],
   "source": [
    "final_rmse"
   ]
  },
  {
   "cell_type": "markdown",
   "metadata": {
    "id": "UBYjslJdwDEw"
   },
   "source": [
    "We can compute a 95% confidence interval for the test RMSE:"
   ]
  },
  {
   "cell_type": "code",
   "execution_count": 142,
   "metadata": {
    "id": "ZJNSTGIBwDEw",
    "outputId": "5fd8cec6-ea32-41ca-c54e-dd8195b3a3e9"
   },
   "outputs": [
    {
     "data": {
      "text/plain": [
       "array([8.10710634, 9.20912545])"
      ]
     },
     "execution_count": 142,
     "metadata": {},
     "output_type": "execute_result"
    }
   ],
   "source": [
    "from scipy import stats\n",
    "\n",
    "confidence = 0.95\n",
    "squared_errors = (final_predictions - y_test) ** 2\n",
    "np.sqrt(stats.t.interval(confidence, len(squared_errors) - 1,\n",
    "                         loc=squared_errors.mean(),\n",
    "                         scale=stats.sem(squared_errors)))"
   ]
  },
  {
   "cell_type": "markdown",
   "metadata": {
    "id": "xIROve6qwDEw"
   },
   "source": [
    "We could compute the interval manually like this:"
   ]
  },
  {
   "cell_type": "code",
   "execution_count": 143,
   "metadata": {
    "id": "m_zdYVRIwDEx",
    "outputId": "6f7aff71-27e5-4a13-951b-226840421208"
   },
   "outputs": [
    {
     "data": {
      "text/plain": [
       "(8.107106344179035, 9.209125447335031)"
      ]
     },
     "execution_count": 143,
     "metadata": {},
     "output_type": "execute_result"
    }
   ],
   "source": [
    "m = len(squared_errors)\n",
    "mean = squared_errors.mean()\n",
    "tscore = stats.t.ppf((1 + confidence) / 2, df=m - 1)\n",
    "tmargin = tscore * squared_errors.std(ddof=1) / np.sqrt(m)\n",
    "np.sqrt(mean - tmargin), np.sqrt(mean + tmargin)"
   ]
  },
  {
   "cell_type": "markdown",
   "metadata": {
    "id": "4TKP8Ck0wDEy"
   },
   "source": [
    "Alternatively, we could use a z-scores rather than t-scores:"
   ]
  },
  {
   "cell_type": "code",
   "execution_count": 144,
   "metadata": {
    "id": "AhDFF1WmwDEy",
    "outputId": "05e7bd97-bed9-49f5-8b4b-7053d87c6f76"
   },
   "outputs": [
    {
     "data": {
      "text/plain": [
       "(8.107733842036083, 9.208573001680794)"
      ]
     },
     "execution_count": 144,
     "metadata": {},
     "output_type": "execute_result"
    }
   ],
   "source": [
    "zscore = stats.norm.ppf((1 + confidence) / 2)\n",
    "zmargin = zscore * squared_errors.std(ddof=1) / np.sqrt(m)\n",
    "np.sqrt(mean - zmargin), np.sqrt(mean + zmargin)"
   ]
  },
  {
   "cell_type": "markdown",
   "metadata": {},
   "source": [
    "# Extra material"
   ]
  },
  {
   "cell_type": "markdown",
   "metadata": {},
   "source": [
    "## A full pipeline with both preparation and prediction"
   ]
  },
  {
   "cell_type": "code",
   "execution_count": null,
   "metadata": {},
   "outputs": [],
   "source": [
    "full_pipeline_with_predictor = Pipeline([\n",
    "        (\"preparation\", full_pipeline),\n",
    "        (\"linear\", LinearRegression())\n",
    "    ])\n",
    "\n",
    "full_pipeline_with_predictor.fit(videogames2, y_train)\n",
    "full_pipeline_with_predictor.predict(some_data)"
   ]
  },
  {
   "cell_type": "code",
   "execution_count": 3,
   "metadata": {},
   "outputs": [
    {
     "name": "stdout",
     "output_type": "stream",
     "text": [
      "[NbConvertApp] WARNING | pattern 'Individual' matched no files\r\n",
      "[NbConvertApp] WARNING | pattern 'Assignment1.ipynb' matched no files\r\n",
      "This application is used to convert notebook files (*.ipynb) to various other\r\n",
      "formats.\r\n",
      "\r\n",
      "WARNING: THE COMMANDLINE INTERFACE MAY CHANGE IN FUTURE RELEASES.\r\n",
      "\r\n",
      "Options\r\n",
      "-------\r\n",
      "\r\n",
      "Arguments that take values are actually convenience aliases to full\r\n",
      "Configurables, whose aliases are listed on the help line. For more information\r\n",
      "on full configurables, see '--help-all'.\r\n",
      "\r\n",
      "--debug\r\n",
      "    set log level to logging.DEBUG (maximize logging output)\r\n",
      "--generate-config\r\n",
      "    generate default config file\r\n",
      "-y\r\n",
      "    Answer yes to any questions instead of prompting.\r\n",
      "--execute\r\n",
      "    Execute the notebook prior to export.\r\n",
      "--allow-errors\r\n",
      "    Continue notebook execution even if one of the cells throws an error and include the error message in the cell output (the default behaviour is to abort conversion). This flag is only relevant if '--execute' was specified, too.\r\n",
      "--stdin\r\n",
      "    read a single notebook file from stdin. Write the resulting notebook with default basename 'notebook.*'\r\n",
      "--stdout\r\n",
      "    Write notebook output to stdout instead of files.\r\n",
      "--inplace\r\n",
      "    Run nbconvert in place, overwriting the existing notebook (only \r\n",
      "    relevant when converting to notebook format)\r\n",
      "--clear-output\r\n",
      "    Clear output of current file and save in place, \r\n",
      "    overwriting the existing notebook.\r\n",
      "--no-prompt\r\n",
      "    Exclude input and output prompts from converted document.\r\n",
      "--no-input\r\n",
      "    Exclude input cells and output prompts from converted document. \r\n",
      "    This mode is ideal for generating code-free reports.\r\n",
      "--log-level=<Enum> (Application.log_level)\r\n",
      "    Default: 30\r\n",
      "    Choices: (0, 10, 20, 30, 40, 50, 'DEBUG', 'INFO', 'WARN', 'ERROR', 'CRITICAL')\r\n",
      "    Set the log level by value or name.\r\n",
      "--config=<Unicode> (JupyterApp.config_file)\r\n",
      "    Default: ''\r\n",
      "    Full path of a config file.\r\n",
      "--to=<Unicode> (NbConvertApp.export_format)\r\n",
      "    Default: 'html'\r\n",
      "    The export format to be used, either one of the built-in formats\r\n",
      "    ['asciidoc', 'custom', 'html', 'latex', 'markdown', 'notebook', 'pdf',\r\n",
      "    'python', 'rst', 'script', 'slides'] or a dotted object name that represents\r\n",
      "    the import path for an `Exporter` class\r\n",
      "--template=<Unicode> (TemplateExporter.template_file)\r\n",
      "    Default: ''\r\n",
      "    Name of the template file to use\r\n",
      "--writer=<DottedObjectName> (NbConvertApp.writer_class)\r\n",
      "    Default: 'FilesWriter'\r\n",
      "    Writer class used to write the  results of the conversion\r\n",
      "--post=<DottedOrNone> (NbConvertApp.postprocessor_class)\r\n",
      "    Default: ''\r\n",
      "    PostProcessor class used to write the results of the conversion\r\n",
      "--output=<Unicode> (NbConvertApp.output_base)\r\n",
      "    Default: ''\r\n",
      "    overwrite base name use for output files. can only be used when converting\r\n",
      "    one notebook at a time.\r\n",
      "--output-dir=<Unicode> (FilesWriter.build_directory)\r\n",
      "    Default: ''\r\n",
      "    Directory to write output(s) to. Defaults to output to the directory of each\r\n",
      "    notebook. To recover previous default behaviour (outputting to the current\r\n",
      "    working directory) use . as the flag value.\r\n",
      "--reveal-prefix=<Unicode> (SlidesExporter.reveal_url_prefix)\r\n",
      "    Default: ''\r\n",
      "    The URL prefix for reveal.js (version 3.x). This defaults to the reveal CDN,\r\n",
      "    but can be any url pointing to a copy  of reveal.js.\r\n",
      "    For speaker notes to work, this must be a relative path to a local  copy of\r\n",
      "    reveal.js: e.g., \"reveal.js\".\r\n",
      "    If a relative path is given, it must be a subdirectory of the current\r\n",
      "    directory (from which the server is run).\r\n",
      "    See the usage documentation\r\n",
      "    (https://nbconvert.readthedocs.io/en/latest/usage.html#reveal-js-html-\r\n",
      "    slideshow) for more details.\r\n",
      "--nbformat=<Enum> (NotebookExporter.nbformat_version)\r\n",
      "    Default: 4\r\n",
      "    Choices: [1, 2, 3, 4]\r\n",
      "    The nbformat version to write. Use this to downgrade notebooks.\r\n",
      "\r\n",
      "To see all available configurables, use `--help-all`\r\n",
      "\r\n",
      "Examples\r\n",
      "--------\r\n",
      "\r\n",
      "    The simplest way to use nbconvert is\r\n",
      "    \r\n",
      "    > jupyter nbconvert mynotebook.ipynb\r\n",
      "    \r\n",
      "    which will convert mynotebook.ipynb to the default format (probably HTML).\r\n",
      "    \r\n",
      "    You can specify the export format with `--to`.\r\n",
      "    Options include ['asciidoc', 'custom', 'html', 'latex', 'markdown', 'notebook', 'pdf', 'python', 'rst', 'script', 'slides'].\r\n",
      "    \r\n",
      "    > jupyter nbconvert --to latex mynotebook.ipynb\r\n",
      "    \r\n",
      "    Both HTML and LaTeX support multiple output templates. LaTeX includes\r\n",
      "    'base', 'article' and 'report'.  HTML includes 'basic' and 'full'. You\r\n",
      "    can specify the flavor of the format used.\r\n",
      "    \r\n",
      "    > jupyter nbconvert --to html --template basic mynotebook.ipynb\r\n",
      "    \r\n",
      "    You can also pipe the output to stdout, rather than a file\r\n",
      "    \r\n",
      "    > jupyter nbconvert mynotebook.ipynb --stdout\r\n",
      "    \r\n",
      "    PDF is generated via latex\r\n",
      "    \r\n",
      "    > jupyter nbconvert mynotebook.ipynb --to pdf\r\n",
      "    \r\n",
      "    You can get (and serve) a Reveal.js-powered slideshow\r\n",
      "    \r\n",
      "    > jupyter nbconvert myslides.ipynb --to slides --post serve\r\n",
      "    \r\n",
      "    Multiple notebooks can be given at the command line in a couple of \r\n",
      "    different ways:\r\n",
      "    \r\n",
      "    > jupyter nbconvert notebook*.ipynb\r\n",
      "    > jupyter nbconvert notebook1.ipynb notebook2.ipynb\r\n",
      "    \r\n",
      "    or you can specify the notebooks list in a config file, containing::\r\n",
      "    \r\n",
      "        c.NbConvertApp.notebooks = [\"my_notebook.ipynb\"]\r\n",
      "    \r\n",
      "    > jupyter nbconvert --config mycfg.py\r\n",
      "\r\n"
     ]
    }
   ],
   "source": [
    "!jupyter nbconvert  Individual Assignment1.ipynb --to html"
   ]
  },
  {
   "cell_type": "code",
   "execution_count": null,
   "metadata": {},
   "outputs": [],
   "source": []
  }
 ],
 "metadata": {
  "colab": {
   "name": "02_end_to_end_machine_learning_project.ipynb",
   "provenance": []
  },
  "kernelspec": {
   "display_name": "Python 3",
   "language": "python",
   "name": "python3"
  },
  "language_info": {
   "codemirror_mode": {
    "name": "ipython",
    "version": 3
   },
   "file_extension": ".py",
   "mimetype": "text/x-python",
   "name": "python",
   "nbconvert_exporter": "python",
   "pygments_lexer": "ipython3",
   "version": "3.7.6"
  },
  "nav_menu": {
   "height": "279px",
   "width": "309px"
  },
  "toc": {
   "nav_menu": {},
   "number_sections": true,
   "sideBar": true,
   "skip_h1_title": false,
   "toc_cell": false,
   "toc_position": {},
   "toc_section_display": "block",
   "toc_window_display": false
  }
 },
 "nbformat": 4,
 "nbformat_minor": 1
}
